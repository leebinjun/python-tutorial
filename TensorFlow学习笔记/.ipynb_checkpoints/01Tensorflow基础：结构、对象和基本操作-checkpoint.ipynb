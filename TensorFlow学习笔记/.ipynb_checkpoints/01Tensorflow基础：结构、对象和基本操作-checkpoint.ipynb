{
 "cells": [
  {
   "cell_type": "code",
   "execution_count": 5,
   "metadata": {
    "collapsed": true
   },
   "outputs": [],
   "source": [
    "import tensorflow as tf"
   ]
  },
  {
   "cell_type": "markdown",
   "metadata": {},
   "source": [
    "*  \n",
    "**错误的计算方式**  \n",
    "tensorflow中使用图来表示计算任务，图必须在会话session里面启动  \n",
    "故以下程式并没有计算product的实际值，只是定义而已"
   ]
  },
  {
   "cell_type": "code",
   "execution_count": 4,
   "metadata": {},
   "outputs": [
    {
     "name": "stdout",
     "output_type": "stream",
     "text": [
      "Tensor(\"MatMul_1:0\", shape=(1, 1), dtype=int32)\n"
     ]
    }
   ],
   "source": [
    "m1 = tf.constant([[3,3]])\n",
    "m2 = tf.constant([[1],[3]])\n",
    "product = tf.matmul(m1, m2)\n",
    "print(product)"
   ]
  },
  {
   "cell_type": "markdown",
   "metadata": {},
   "source": [
    "* \n",
    "**正确的计算方式**  \n",
    "tensorflow中使用图来表示计算任务，图必须在会话session里面启动  \n",
    "初始化的Session中有一个默认的图"
   ]
  },
  {
   "cell_type": "code",
   "execution_count": 8,
   "metadata": {},
   "outputs": [
    {
     "name": "stdout",
     "output_type": "stream",
     "text": [
      "product:  Tensor(\"MatMul_4:0\", shape=(1, 1), dtype=int32)\n",
      "result:  [[44]]\n"
     ]
    }
   ],
   "source": [
    "m1 = tf.constant([[2,4]])\n",
    "m2 = tf.constant([[8],[7]])\n",
    "product = tf.matmul(m1, m2)\n",
    "with tf.Session() as sess:\n",
    "    result = sess.run(product)\n",
    "    print(\"product: \", product)\n",
    "    print(\"result: \", result)"
   ]
  },
  {
   "cell_type": "markdown",
   "metadata": {},
   "source": [
    "* \n",
    "**Tensorflow 中 Variable 的使用**  \n",
    "使用变量之前，必须先初始化  \n",
    "init = tf.global_variables_initializer()   \n",
    "sess.run(init) #先初始化  "
   ]
  },
  {
   "cell_type": "code",
   "execution_count": 9,
   "metadata": {},
   "outputs": [
    {
     "name": "stdout",
     "output_type": "stream",
     "text": [
      "[-7 -5]\n",
      "[9 9]\n"
     ]
    }
   ],
   "source": [
    "x = tf.Variable([1,2])  #宣告變數 x\n",
    "a = tf.constant([8,7])\n",
    "sub = tf.subtract(x,a)  #sub 是一個減法的 operator\n",
    "add = tf.add(x,a) #add 是一個加法的 operator\n",
    "\n",
    "#注意，在tensorflow中，執行變數之前，必須先初始化\n",
    "init = tf.global_variables_initializer()\n",
    "with tf.Session() as sess:\n",
    "    sess.run(init) #先初始化\n",
    "    result = sess.run(sub)\n",
    "    print(result)\n",
    "    result = sess.run(add)\n",
    "    print(result)"
   ]
  },
  {
   "cell_type": "markdown",
   "metadata": {},
   "source": [
    "* \n",
    "**Tensorflow 中 Variable 的使用**   \n",
    "变量的赋值使用tf.assign"
   ]
  },
  {
   "cell_type": "code",
   "execution_count": null,
   "metadata": {
    "collapsed": true
   },
   "outputs": [],
   "source": [
    "value = tf.Variable(0, name='Value')\n",
    "\n",
    "new_value = tf.add(value, 1)\n",
    "update_value = tf.assign(value, new_value)\n",
    "\n",
    "init = tf.global_vari\n",
    "\n"
   ]
  },
  {
   "cell_type": "code",
   "execution_count": null,
   "metadata": {
    "collapsed": true
   },
   "outputs": [],
   "source": []
  },
  {
   "cell_type": "code",
   "execution_count": null,
   "metadata": {
    "collapsed": true
   },
   "outputs": [],
   "source": []
  },
  {
   "cell_type": "code",
   "execution_count": null,
   "metadata": {
    "collapsed": true
   },
   "outputs": [],
   "source": []
  },
  {
   "cell_type": "code",
   "execution_count": null,
   "metadata": {
    "collapsed": true
   },
   "outputs": [],
   "source": []
  },
  {
   "cell_type": "code",
   "execution_count": null,
   "metadata": {
    "collapsed": true
   },
   "outputs": [],
   "source": []
  }
 ],
 "metadata": {
  "kernelspec": {
   "display_name": "Python 3",
   "language": "python",
   "name": "python3"
  },
  "language_info": {
   "codemirror_mode": {
    "name": "ipython",
    "version": 3
   },
   "file_extension": ".py",
   "mimetype": "text/x-python",
   "name": "python",
   "nbconvert_exporter": "python",
   "pygments_lexer": "ipython3",
   "version": "3.6.3"
  }
 },
 "nbformat": 4,
 "nbformat_minor": 2
}
