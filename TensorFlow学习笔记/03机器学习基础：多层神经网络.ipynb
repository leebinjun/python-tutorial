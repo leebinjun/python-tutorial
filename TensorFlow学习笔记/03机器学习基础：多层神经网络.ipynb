{
 "cells": [
  {
   "cell_type": "code",
   "execution_count": null,
   "metadata": {
    "collapsed": true
   },
   "outputs": [],
   "source": []
  },
  {
   "cell_type": "code",
   "execution_count": 1,
   "metadata": {
    "collapsed": true
   },
   "outputs": [],
   "source": [
    "import tensorflow as tf\n",
    "import numpy as np\n",
    "import matplotlib.pyplot as plt"
   ]
  },
  {
   "cell_type": "code",
   "execution_count": 2,
   "metadata": {},
   "outputs": [
    {
     "name": "stdout",
     "output_type": "stream",
     "text": [
      "WARNING:tensorflow:From <ipython-input-2-0f69fa5065dc>:4: read_data_sets (from tensorflow.contrib.learn.python.learn.datasets.mnist) is deprecated and will be removed in a future version.\n",
      "Instructions for updating:\n",
      "Please use alternatives such as official/mnist/dataset.py from tensorflow/models.\n",
      "WARNING:tensorflow:From J:\\Anaconda3\\lib\\site-packages\\tensorflow\\contrib\\learn\\python\\learn\\datasets\\mnist.py:260: maybe_download (from tensorflow.contrib.learn.python.learn.datasets.base) is deprecated and will be removed in a future version.\n",
      "Instructions for updating:\n",
      "Please write your own downloading logic.\n",
      "WARNING:tensorflow:From J:\\Anaconda3\\lib\\site-packages\\tensorflow\\contrib\\learn\\python\\learn\\datasets\\mnist.py:262: extract_images (from tensorflow.contrib.learn.python.learn.datasets.mnist) is deprecated and will be removed in a future version.\n",
      "Instructions for updating:\n",
      "Please use tf.data to implement this functionality.\n",
      "Extracting MNIST_data\\train-images-idx3-ubyte.gz\n",
      "WARNING:tensorflow:From J:\\Anaconda3\\lib\\site-packages\\tensorflow\\contrib\\learn\\python\\learn\\datasets\\mnist.py:267: extract_labels (from tensorflow.contrib.learn.python.learn.datasets.mnist) is deprecated and will be removed in a future version.\n",
      "Instructions for updating:\n",
      "Please use tf.data to implement this functionality.\n",
      "Extracting MNIST_data\\train-labels-idx1-ubyte.gz\n",
      "WARNING:tensorflow:From J:\\Anaconda3\\lib\\site-packages\\tensorflow\\contrib\\learn\\python\\learn\\datasets\\mnist.py:110: dense_to_one_hot (from tensorflow.contrib.learn.python.learn.datasets.mnist) is deprecated and will be removed in a future version.\n",
      "Instructions for updating:\n",
      "Please use tf.one_hot on tensors.\n",
      "Extracting MNIST_data\\t10k-images-idx3-ubyte.gz\n",
      "Extracting MNIST_data\\t10k-labels-idx1-ubyte.gz\n",
      "WARNING:tensorflow:From J:\\Anaconda3\\lib\\site-packages\\tensorflow\\contrib\\learn\\python\\learn\\datasets\\mnist.py:290: DataSet.__init__ (from tensorflow.contrib.learn.python.learn.datasets.mnist) is deprecated and will be removed in a future version.\n",
      "Instructions for updating:\n",
      "Please use alternatives such as official/mnist/dataset.py from tensorflow/models.\n"
     ]
    }
   ],
   "source": [
    "from tensorflow.examples.tutorials.mnist import input_data\n",
    "\n",
    "#載入數據集\n",
    "mnist = input_data.read_data_sets(\"MNIST_data\", one_hot = True)"
   ]
  },
  {
   "cell_type": "code",
   "execution_count": 6,
   "metadata": {},
   "outputs": [
    {
     "ename": "AttributeError",
     "evalue": "'DataSet' object has no attribute 'shape'",
     "output_type": "error",
     "traceback": [
      "\u001b[1;31m---------------------------------------------------------------------------\u001b[0m",
      "\u001b[1;31mAttributeError\u001b[0m                            Traceback (most recent call last)",
      "\u001b[1;32m<ipython-input-6-0f0787a59a86>\u001b[0m in \u001b[0;36m<module>\u001b[1;34m()\u001b[0m\n\u001b[1;32m----> 1\u001b[1;33m \u001b[0mmnist\u001b[0m\u001b[1;33m.\u001b[0m\u001b[0mtrain\u001b[0m\u001b[1;33m.\u001b[0m\u001b[0mshape\u001b[0m\u001b[1;33m\u001b[0m\u001b[0m\n\u001b[0m",
      "\u001b[1;31mAttributeError\u001b[0m: 'DataSet' object has no attribute 'shape'"
     ]
    }
   ],
   "source": [
    "mnist.train.shape"
   ]
  },
  {
   "cell_type": "code",
   "execution_count": 29,
   "metadata": {},
   "outputs": [
    {
     "name": "stdout",
     "output_type": "stream",
     "text": [
      "Extracting MNIST_data\\train-images-idx3-ubyte.gz\n",
      "Extracting MNIST_data\\train-labels-idx1-ubyte.gz\n",
      "Extracting MNIST_data\\t10k-images-idx3-ubyte.gz\n",
      "Extracting MNIST_data\\t10k-labels-idx1-ubyte.gz\n",
      "Iter=0, Training Accuracy=0.9216909, Testing Accuracy=0.9205\n",
      "Iter=1, Training Accuracy=0.94461817, Testing Accuracy=0.9417\n",
      "Iter=2, Training Accuracy=0.9566727, Testing Accuracy=0.9539\n",
      "Iter=3, Training Accuracy=0.96385455, Testing Accuracy=0.9597\n",
      "Iter=4, Training Accuracy=0.9719818, Testing Accuracy=0.9651\n"
     ]
    }
   ],
   "source": [
    "import tensorflow as tf\n",
    "from tensorflow.examples.tutorials.mnist import input_data\n",
    "\n",
    "#載入數據集\n",
    "mnist = input_data.read_data_sets(\"MNIST_data\", one_hot = True)\n",
    "\n",
    "#每一個批次的大小\n",
    "batch_size = 80 \n",
    "\n",
    "#計算一共有多少批次\n",
    "n_batch = mnist.train.num_examples // batch_size \n",
    "\n",
    "#定義兩個placeholder，目的在於 train時候透過 feed 傳入 x_data 與 y_data\n",
    "x = tf.placeholder(tf.float32, [None, 784]) \n",
    "y = tf.placeholder(tf.float32, [None, 10]) \n",
    "\n",
    "#建立一個神經網路\n",
    "\n",
    "#隱藏層\n",
    "W1 = tf.Variable(tf.truncated_normal([784, 800], stddev=0.1))\n",
    "b1 = tf.Variable(tf.zeros([800]))\n",
    "L1 = tf.nn.tanh(tf.matmul(x, W1) + b1)\n",
    "\n",
    "#輸出層\n",
    "W2 = tf.Variable(tf.truncated_normal([800, 10], stddev=0.1))\n",
    "b2 = tf.Variable(tf.zeros([10]))\n",
    "prediction = tf.nn.tanh(tf.matmul(L1, W2) + b2)\n",
    "\n",
    "#代價函數 : loss = mean((y - prediction)^2)\n",
    "loss = tf.reduce_mean(tf.nn.softmax_cross_entropy_with_logits(labels = y, logits = prediction)) #交叉商代價函數\n",
    "\n",
    "#Gradient desent method \n",
    "gd = tf.train.AdagradOptimizer(0.2)\n",
    "#gd = tf.train.GradientDescentOptimizer(0.2)\n",
    "\n",
    "#最小化 代價函數 (operator)\n",
    "train = gd.minimize(loss)\n",
    "\n",
    "#初始化變數 operator\n",
    "init = tf.global_variables_initializer()\n",
    "\n",
    "\n",
    "#結果存在一個 boolean 的變數中\n",
    "correct_prediction = tf.equal(tf.argmax(y, 1), tf.argmax(prediction, 1)) #argmax 回傳一維張量中最大的值，所在的位置\n",
    "\n",
    "#求準確率\n",
    "accuracy = tf.reduce_mean(tf.cast(correct_prediction, tf.float32)) \n",
    "\n",
    "#開始training\n",
    "with tf.Session() as sess:\n",
    "    sess.run(init)\n",
    "    for epoch in range(5): \n",
    "       \n",
    "        for batch in range(n_batch): #每一個 outer loop 疊代 n_batch 個批次\n",
    "\n",
    "            batch_xs, batch_ys = mnist.train.next_batch(batch_size)\n",
    "            feed_dict = {x: batch_xs, y: batch_ys} \n",
    "            sess.run(train, feed_dict)\n",
    "        #計算一次準確率\n",
    "        train_feed_dict = {x: mnist.train.images, y: mnist.train.labels} #train data feed dictionary\n",
    "        train_acc = sess.run(accuracy, train_feed_dict)\n",
    "        test_feed_dict = {x: mnist.test.images, y: mnist.test.labels} #testing data feed dictionary\n",
    "        test_acc = sess.run(accuracy, test_feed_dict)          \n",
    "        print(\"Iter=\" + str(epoch) + \", Training Accuracy=\" + str(train_acc) + \", Testing Accuracy=\" + str(test_acc))\n"
   ]
  },
  {
   "cell_type": "code",
   "execution_count": null,
   "metadata": {
    "collapsed": true
   },
   "outputs": [],
   "source": []
  },
  {
   "cell_type": "code",
   "execution_count": 16,
   "metadata": {},
   "outputs": [
    {
     "name": "stdout",
     "output_type": "stream",
     "text": [
      "Extracting MNIST_data\\train-images-idx3-ubyte.gz\n",
      "Extracting MNIST_data\\train-labels-idx1-ubyte.gz\n",
      "Extracting MNIST_data\\t10k-images-idx3-ubyte.gz\n",
      "Extracting MNIST_data\\t10k-labels-idx1-ubyte.gz\n"
     ]
    }
   ],
   "source": [
    "import tensorflow as tf\n",
    "from tensorflow.examples.tutorials.mnist import input_data\n",
    "\n",
    "#載入數據集\n",
    "mnist = input_data.read_data_sets(\"MNIST_data\", one_hot = True)\n",
    "\n",
    "#每一個批次的大小\n",
    "batch_size = 80 \n",
    "\n",
    "#計算一共有多少批次\n",
    "n_batch = mnist.train.num_examples // batch_size "
   ]
  },
  {
   "cell_type": "markdown",
   "metadata": {},
   "source": [
    "## 防止过拟合  \n",
    "* \n",
    "### 增加数据集  \n",
    "* \n",
    "### 正则化方法  \n",
    "$$C = C_{0} + \\frac{\\lambda} {2n} \\sum_{\\omega}\\omega^2 $$\n"
   ]
  },
  {
   "cell_type": "markdown",
   "metadata": {},
   "source": [
    "* \n",
    "### Dropout\n",
    "在訓練神經網路的時候，對於不一樣的訓練樣本，遮蔽隱藏層的一些神經元，可以減低 overfitting 的可能  \n",
    "以下是一個沒有 Dropout的例子 (keep_prob = 1.0)， Training Accuracy 比 Test Accuracy 準確許多  \n",
    "也就是說，這個神經網路已經 Overfitting"
   ]
  },
  {
   "cell_type": "code",
   "execution_count": 17,
   "metadata": {
    "collapsed": true
   },
   "outputs": [],
   "source": [
    "#定義兩個placeholder，目的在於 train時候透過 feed 傳入 x_data 與 y_data\n",
    "x = tf.placeholder(tf.float32, [None, 784]) \n",
    "y = tf.placeholder(tf.float32, [None, 10]) \n",
    "keep_prob = tf.placeholder(tf.float32) #用來 dropout 的機率\n",
    "\n",
    "#建立一個神經網路\n",
    "\n",
    "#隱藏層\n",
    "W1 = tf.Variable(tf.truncated_normal([784, 800], stddev=0.1))\n",
    "b1 = tf.Variable(tf.zeros([800])+0.1)\n",
    "L1 = tf.nn.tanh(tf.matmul(x, W1) + b1)\n",
    "L1_dropout = tf.nn.dropout(L1, keep_prob)\n",
    "\n",
    "#輸出層\n",
    "W2 = tf.Variable(tf.truncated_normal([800, 10], stddev=0.1))\n",
    "b2 = tf.Variable(tf.zeros([10])+0.1)\n",
    "prediction = tf.nn.tanh(tf.matmul(L1_dropout, W2) + b2)"
   ]
  },
  {
   "cell_type": "code",
   "execution_count": null,
   "metadata": {
    "collapsed": true
   },
   "outputs": [],
   "source": []
  },
  {
   "cell_type": "markdown",
   "metadata": {},
   "source": [
    "## 常见激活函数  \n",
    "\n",
    "每个神经元都必须有激活函数。它们为神经元提供了模拟复杂非线性数据集所必需的非线性特性。该函数取所有输入的加权和，进而生成一个输出信号。你可以把它看作输入和输出之间的转换。使用适当的激活函数，可以将输出值限定在一个定义的范围内。\n",
    "\n",
    "$$ Y_{hat} = g( \\sum_{j=1}^{N} W_j x_j + b  )  $$\n"
   ]
  },
  {
   "cell_type": "markdown",
   "metadata": {},
   "source": [
    "* \n",
    "## sigmoid激活函数\n",
    "tf.nn.sigmoid()  \n",
    "$$ S(x) = \\frac{1}{1 + e^{-x}}$$\n",
    "$$ S'(x) = \\frac{e^{-x}}{(1 + e^{-x})^2} = S(x)(1-S(x)) $$\n",
    "sigmoid激活函数的优点：输出的映射区间(0,1)内单调连续，非常适合用作输出层，并且比较容易求导。  \n",
    "sigmoid激活函数的缺点：它具有软饱和性，即当输入x趋向于无穷的时候，它的导数会趋于0，导致很容易产生梯度消失。  "
   ]
  },
  {
   "cell_type": "code",
   "execution_count": 30,
   "metadata": {},
   "outputs": [
    {
     "data": {
      "image/png": "[encoded data removed]",
      "text/plain": [
       "<matplotlib.figure.Figure at 0x198ab3c8>"
      ]
     },
     "metadata": {},
     "output_type": "display_data"
    }
   ],
   "source": [
    "x = tf.constant(np.arange(-10, 10, 0.1),dtype=tf.float32)\n",
    "sess = tf.Session()\n",
    "y = sess.run(tf.sigmoid(x))\n",
    "# print(y)\n",
    "plt.plot(np.arange(-10, 10, 0.1), y)\n",
    "plt.show()\n"
   ]
  },
  {
   "cell_type": "markdown",
   "metadata": {},
   "source": [
    "* \n",
    "## tanh激活函数\n",
    "tf.nn.tanh()\n",
    "$$ tanh(x) = \\frac{sinh(x)}{cosh(x)} = \\frac{e^x-e^{-x}}{e^x+e^{-x}}$$\n",
    "tanh是双曲正切函数，它将整个实数区间映射到了(-1,1)，tanh函数也具有软饱和性。它的输出是以0为中心，tanh的收敛速度比sigmoid要快，由于存在软饱和性，所以tanh也存在梯度消失的问题。  \n"
   ]
  },
  {
   "cell_type": "code",
   "execution_count": 31,
   "metadata": {},
   "outputs": [
    {
     "data": {
      "image/png": "[encoded data removed]",
      "text/plain": [
       "<matplotlib.figure.Figure at 0x19b592b0>"
      ]
     },
     "metadata": {},
     "output_type": "display_data"
    }
   ],
   "source": [
    "x = tf.constant(np.arange(-10, 10, 0.1),dtype=tf.float32)\n",
    "sess = tf.Session()\n",
    "y = sess.run(tf.tanh(x))\n",
    "# print(y)\n",
    "plt.plot(np.arange(-10, 10, 0.1), y)\n",
    "plt.show()\n"
   ]
  },
  {
   "cell_type": "markdown",
   "metadata": {},
   "source": [
    "* \n",
    "## relu激活函数\n",
    "tf.nn.relu()  \n",
    "relu激活函数现在是最受欢迎的激活函数，经常被使用在神经网络中。  \n",
    "relu函数的定义\n",
    "$$ f(x) = max(x, 0)$$\n",
    "relu函数在x<0时，输出始终为0。由于x>0时，relu函数的导数为1，所以relu函数能够在x>0时保持梯度不断衰减，从而缓解梯度消失的问题，还能加快收敛速度，还能是神经网络具有稀疏性表达能力，这也是relu激活函数能够被使用在深层神经网络中的原因。由于当x<0时，relu函数的导数为0，导致对应的权重无法更新，这样的神经元被称为\"神经元死亡\"。\n",
    "在TensorFlow中还包括了relu函数的扩展函数如：relu6和crelu，除此之外还有leaky relu、PRelu、RRelu等"
   ]
  },
  {
   "cell_type": "code",
   "execution_count": 45,
   "metadata": {},
   "outputs": [
    {
     "data": {
      "image/png": "[encoded data removed]",
      "text/plain": [
       "<matplotlib.figure.Figure at 0x19e6ce48>"
      ]
     },
     "metadata": {},
     "output_type": "display_data"
    }
   ],
   "source": [
    "x = tf.constant(np.arange(-10, 10, 0.1),dtype=tf.float32)\n",
    "sess = tf.Session()\n",
    "y1 = sess.run(tf.nn.relu(x))\n",
    "y2 = sess.run(tf.nn.relu6(x))\n",
    "y3 = sess.run(tf.nn.softplus(x))\n",
    "y4 = sess.run(tf.nn.leaky_relu(x, alpha=0.2))\n",
    "plt.plot(np.arange(-10, 10, 0.1), y1, 'r')\n",
    "# plt.plot(np.arange(-10, 10, 0.1), y2, 'b')\n",
    "# plt.plot(np.arange(-10, 10, 0.1), y3, 'g')\n",
    "# plt.plot(np.arange(-10, 10, 0.1), y4, 'y')\n",
    "plt.show()\n"
   ]
  },
  {
   "cell_type": "markdown",
   "metadata": {},
   "source": [
    "* \n",
    "## dropout函数\n",
    "tf.nn.dropout()  \n",
    "dropout函数会以一个概率为keep_prob来决定神经元是否被抑制。如果被抑制，该神经元输出为0，如果不被抑制则该神经元的输出为输入的1/keep_probbe倍，每个神经元是否会被抑制是相互独立的。神经元是否被抑制还可以通过调节noise_shape来调节，当noise_shape[i] == shape(x)[i]，x中的元素是相互独立的。如果shape(x)=[k,l,m,n](k表示数据的个数，l表示数据的行数，m表示数据的列，n表示通道)，当noise_shape=[k,1,1,n]，表示数据的个数与通道是相互独立的，但是与数据的行和列是有关联的，即要么都为0，要么都为输入的1/keep_prob倍。\n"
   ]
  },
  {
   "cell_type": "code",
   "execution_count": 48,
   "metadata": {},
   "outputs": [
    {
     "name": "stdout",
     "output_type": "stream",
     "text": [
      "[[-5. -4. -3. -2. -1.  0.  1.  2.  3.  4.]]\n",
      "[[-0. -8. -6. -0. -0.  0.  0.  4.  6.  8.]]\n",
      "[[-0. -0. -6. -4. -2.  0.  2.  4.  6.  8.]]\n",
      "[[-0. -0. -0. -0. -0.  0.  0.  0.  0.  0.]]\n"
     ]
    }
   ],
   "source": [
    "x = tf.constant(np.array([np.arange(-5,5)]),dtype=tf.float32)\n",
    "sess = tf.Session()\n",
    "x = sess.run(x)\n",
    "print(x)\n",
    "#元素之间互不干扰\n",
    "y = sess.run(tf.nn.dropout(x,keep_prob=0.5))\n",
    "print(y)\n",
    "#元素之间互不干扰\n",
    "y = sess.run(tf.nn.dropout(x,keep_prob=0.5,noise_shape=[1,10]))\n",
    "print(y)\n",
    "#元素之间存在关联\n",
    "y = sess.run(tf.nn.dropout(x,keep_prob=0.5,noise_shape=[1]))\n",
    "print(y)\n"
   ]
  },
  {
   "cell_type": "markdown",
   "metadata": {},
   "source": [
    "*  \n",
    "阈值激活函数用于 McCulloch Pitts 神经元和原始的感知机。这是不可微的，在 x=0 时是不连续的。因此，使用这个激活函数来进行基于梯度下降或其变体的训练是不可能的。\n",
    "*  \n",
    "Sigmoid 激活函数一度很受欢迎，从曲线来看，它像一个连续版的阈值激活函数。它受到梯度消失问题的困扰，即函数的梯度在两个边缘附近变为零。这使得训练和优化变得困难。\n",
    "*  \n",
    "双曲正切激活函数在形状上也是 S 形并具有非线性特性。该函数以 0 为中心，与 Sigmoid 函数相比具有更陡峭的导数。与 Sigmoid 函数一样，它也受到梯度消失问题的影响。\n",
    "*  \n",
    "线性激活函数是线性的。该函数是双边都趋于无穷的 [-inf，inf]。它的线性是主要问题。线性函数之和是线性函数，线性函数的线性函数也是线性函数。因此，使用这个函数，不能表示复杂数据集中存在的非线性。\n",
    "*  \n",
    "ReLU 激活函数是线性激活功能的整流版本，这种整流功能允许其用于多层时捕获非线性。\n",
    "* \n",
    "使用 ReLU 的主要优点之一是导致稀疏激活。在任何时刻，所有神经元的负的输入值都不会激活神经元。就计算量来说，这使得网络在计算方面更轻便。\n",
    "* \n",
    "ReLU 神经元存在死亡 ReLU 的问题，也就是说，那些没有激活的神经元的梯度为零，因此将无法进行任何训练，并停留在死亡状态。尽管存在这个问题，但 ReLU 仍是隐藏层最常用的激活函数之一。\n",
    "* \n",
    "Softmax 激活函数被广泛用作输出层的激活函数，该函数的范围是 [0，1]。在多类分类问题中，它被用来表示一个类的概率。所有单位输出和总是 1。"
   ]
  },
  {
   "cell_type": "markdown",
   "metadata": {},
   "source": [
    "### 二次代价函數  \n",
    "\n",
    "$$C = - \\frac{1} {2n} \\sum_{x} ||y(x) - a(x)||^ 2 $$\n"
   ]
  },
  {
   "cell_type": "markdown",
   "metadata": {
    "collapsed": true
   },
   "source": [
    "### 交叉熵loss 函數 (cross entropy loss function)\n",
    "對於 softmax 激活函數的交叉商如下:\n",
    "$$J(\\theta ) = - \\frac{1} {m} \\sum_{i=1}^{m} y^{(i)} \\log(h_{\\theta} (x^{(i)})) + (1 - y^{(i)}) \\log (1 - h_{\\theta} (x^{(i)})) $$\n",
    "對於 softmax 等函數(S型曲線函數)，使用交叉商loss函數，可以收斂得更快!"
   ]
  },
  {
   "cell_type": "code",
   "execution_count": 9,
   "metadata": {
    "collapsed": true
   },
   "outputs": [],
   "source": [
    "#代價函數 : loss = mean((y - prediction)^2)\n",
    "loss = tf.reduce_mean(tf.nn.softmax_cross_entropy_with_logits(labels = y, logits = prediction)) #交叉商代價函數"
   ]
  },
  {
   "cell_type": "code",
   "execution_count": 10,
   "metadata": {
    "collapsed": true
   },
   "outputs": [],
   "source": [
    "#Gradient desent method \n",
    "gd = tf.train.AdagradOptimizer(0.2)\n",
    "#gd = tf.train.GradientDescentOptimizer(0.2)\n",
    "\n",
    "#最小化 代價函數 (operator)\n",
    "train = gd.minimize(loss)\n",
    "\n",
    "#初始化變數 operator\n",
    "init = tf.global_variables_initializer()\n",
    "\n",
    "\n",
    "#結果存在一個 boolean 的變數中\n",
    "correct_prediction = tf.equal(tf.argmax(y, 1), tf.argmax(prediction, 1)) #argmax 回傳一維張量中最大的值，所在的位置\n",
    "\n",
    "#求準確率\n",
    "accuracy = tf.reduce_mean(tf.cast(correct_prediction, tf.float32)) "
   ]
  },
  {
   "cell_type": "code",
   "execution_count": 12,
   "metadata": {},
   "outputs": [
    {
     "name": "stdout",
     "output_type": "stream",
     "text": [
      "Iter=0, Training Accuracy=0.91825455, Testing Accuracy=0.9203\n",
      "Iter=1, Training Accuracy=0.9405636, Testing Accuracy=0.9411\n",
      "Iter=2, Training Accuracy=0.94732726, Testing Accuracy=0.9459\n",
      "Iter=3, Training Accuracy=0.95903635, Testing Accuracy=0.9577\n",
      "Iter=4, Training Accuracy=0.96654546, Testing Accuracy=0.9639\n",
      "Iter=5, Training Accuracy=0.96943635, Testing Accuracy=0.9652\n",
      "Iter=6, Training Accuracy=0.9715273, Testing Accuracy=0.9658\n",
      "Iter=7, Training Accuracy=0.9756909, Testing Accuracy=0.9693\n",
      "Iter=8, Training Accuracy=0.97712725, Testing Accuracy=0.9705\n",
      "Iter=9, Training Accuracy=0.9790909, Testing Accuracy=0.9708\n",
      "Iter=10, Training Accuracy=0.98025453, Testing Accuracy=0.9725\n",
      "Iter=11, Training Accuracy=0.9807091, Testing Accuracy=0.9719\n",
      "Iter=12, Training Accuracy=0.98112726, Testing Accuracy=0.9724\n",
      "Iter=13, Training Accuracy=0.9842, Testing Accuracy=0.9743\n",
      "Iter=14, Training Accuracy=0.9844364, Testing Accuracy=0.9743\n",
      "Iter=15, Training Accuracy=0.9849273, Testing Accuracy=0.9745\n",
      "Iter=16, Training Accuracy=0.9861636, Testing Accuracy=0.9755\n",
      "Iter=17, Training Accuracy=0.98718184, Testing Accuracy=0.9768\n",
      "Iter=18, Training Accuracy=0.9872182, Testing Accuracy=0.9769\n",
      "Iter=19, Training Accuracy=0.98825455, Testing Accuracy=0.9774\n",
      "Iter=20, Training Accuracy=0.9875636, Testing Accuracy=0.977\n",
      "Iter=21, Training Accuracy=0.98843634, Testing Accuracy=0.9769\n",
      "Iter=22, Training Accuracy=0.9895091, Testing Accuracy=0.977\n",
      "Iter=23, Training Accuracy=0.9899455, Testing Accuracy=0.9782\n",
      "Iter=24, Training Accuracy=0.9902909, Testing Accuracy=0.9781\n",
      "Iter=25, Training Accuracy=0.9898, Testing Accuracy=0.9782\n",
      "Iter=26, Training Accuracy=0.9908909, Testing Accuracy=0.9779\n",
      "Iter=27, Training Accuracy=0.9908909, Testing Accuracy=0.9785\n",
      "Iter=28, Training Accuracy=0.9908182, Testing Accuracy=0.9779\n",
      "Iter=29, Training Accuracy=0.9911091, Testing Accuracy=0.9786\n",
      "Iter=30, Training Accuracy=0.9918, Testing Accuracy=0.9789\n"
     ]
    }
   ],
   "source": [
    "#開始training\n",
    "with tf.Session() as sess:\n",
    "    sess.run(init)\n",
    "    for epoch in range(31): \n",
    "       \n",
    "        for batch in range(n_batch): #每一個 outer loop 疊代 n_batch 個批次\n",
    "\n",
    "            batch_xs, batch_ys = mnist.train.next_batch(batch_size)\n",
    "            feed_dict = {x: batch_xs, y: batch_ys, keep_prob: 0.9} \n",
    "            sess.run(train, feed_dict)\n",
    "        #計算一次準確率\n",
    "        train_feed_dict = {x: mnist.train.images, y: mnist.train.labels, keep_prob: 1.0} #train data feed dictionary\n",
    "        train_acc = sess.run(accuracy, train_feed_dict)\n",
    "        test_feed_dict = {x: mnist.test.images, y: mnist.test.labels, keep_prob: 1.0} #testing data feed dictionary\n",
    "        test_acc = sess.run(accuracy, test_feed_dict)          \n",
    "        print(\"Iter=\" + str(epoch) + \", Training Accuracy=\" + str(train_acc) + \", Testing Accuracy=\" + str(test_acc))"
   ]
  },
  {
   "cell_type": "markdown",
   "metadata": {},
   "source": [
    "     "
   ]
  },
  {
   "cell_type": "markdown",
   "metadata": {},
   "source": [
    "### tensorboard: 可视化神经网络的工具"
   ]
  },
  {
   "cell_type": "code",
   "execution_count": 1,
   "metadata": {},
   "outputs": [
    {
     "name": "stdout",
     "output_type": "stream",
     "text": [
      "WARNING:tensorflow:From <ipython-input-1-1878d1f9baa4>:5: read_data_sets (from tensorflow.contrib.learn.python.learn.datasets.mnist) is deprecated and will be removed in a future version.\n",
      "Instructions for updating:\n",
      "Please use alternatives such as official/mnist/dataset.py from tensorflow/models.\n",
      "WARNING:tensorflow:From J:\\Anaconda3\\lib\\site-packages\\tensorflow\\contrib\\learn\\python\\learn\\datasets\\mnist.py:260: maybe_download (from tensorflow.contrib.learn.python.learn.datasets.base) is deprecated and will be removed in a future version.\n",
      "Instructions for updating:\n",
      "Please write your own downloading logic.\n",
      "WARNING:tensorflow:From J:\\Anaconda3\\lib\\site-packages\\tensorflow\\contrib\\learn\\python\\learn\\datasets\\mnist.py:262: extract_images (from tensorflow.contrib.learn.python.learn.datasets.mnist) is deprecated and will be removed in a future version.\n",
      "Instructions for updating:\n",
      "Please use tf.data to implement this functionality.\n",
      "Extracting MNIST_data\\train-images-idx3-ubyte.gz\n",
      "WARNING:tensorflow:From J:\\Anaconda3\\lib\\site-packages\\tensorflow\\contrib\\learn\\python\\learn\\datasets\\mnist.py:267: extract_labels (from tensorflow.contrib.learn.python.learn.datasets.mnist) is deprecated and will be removed in a future version.\n",
      "Instructions for updating:\n",
      "Please use tf.data to implement this functionality.\n",
      "Extracting MNIST_data\\train-labels-idx1-ubyte.gz\n",
      "WARNING:tensorflow:From J:\\Anaconda3\\lib\\site-packages\\tensorflow\\contrib\\learn\\python\\learn\\datasets\\mnist.py:110: dense_to_one_hot (from tensorflow.contrib.learn.python.learn.datasets.mnist) is deprecated and will be removed in a future version.\n",
      "Instructions for updating:\n",
      "Please use tf.one_hot on tensors.\n",
      "Extracting MNIST_data\\t10k-images-idx3-ubyte.gz\n",
      "Extracting MNIST_data\\t10k-labels-idx1-ubyte.gz\n",
      "WARNING:tensorflow:From J:\\Anaconda3\\lib\\site-packages\\tensorflow\\contrib\\learn\\python\\learn\\datasets\\mnist.py:290: DataSet.__init__ (from tensorflow.contrib.learn.python.learn.datasets.mnist) is deprecated and will be removed in a future version.\n",
      "Instructions for updating:\n",
      "Please use alternatives such as official/mnist/dataset.py from tensorflow/models.\n",
      "WARNING:tensorflow:From <ipython-input-1-1878d1f9baa4>:33: softmax_cross_entropy_with_logits (from tensorflow.python.ops.nn_ops) is deprecated and will be removed in a future version.\n",
      "Instructions for updating:\n",
      "\n",
      "Future major versions of TensorFlow will allow gradients to flow\n",
      "into the labels input on backprop by default.\n",
      "\n",
      "See `tf.nn.softmax_cross_entropy_with_logits_v2`.\n",
      "\n",
      "Iter=0, Training Accuracy=0.92865455, Testing Accuracy=0.9269\n",
      "Iter=1, Training Accuracy=0.94845456, Testing Accuracy=0.9446\n",
      "Iter=2, Training Accuracy=0.9592364, Testing Accuracy=0.9546\n",
      "Iter=3, Training Accuracy=0.96212727, Testing Accuracy=0.9544\n",
      "Iter=4, Training Accuracy=0.9709091, Testing Accuracy=0.965\n",
      "Iter=5, Training Accuracy=0.9762909, Testing Accuracy=0.9679\n",
      "Iter=6, Training Accuracy=0.97925454, Testing Accuracy=0.9714\n",
      "Iter=7, Training Accuracy=0.9773273, Testing Accuracy=0.9685\n",
      "Iter=8, Training Accuracy=0.98301816, Testing Accuracy=0.975\n",
      "Iter=9, Training Accuracy=0.9848545, Testing Accuracy=0.976\n",
      "Iter=10, Training Accuracy=0.98481816, Testing Accuracy=0.9741\n",
      "Iter=11, Training Accuracy=0.98743635, Testing Accuracy=0.9768\n",
      "Iter=12, Training Accuracy=0.98807275, Testing Accuracy=0.9775\n",
      "Iter=13, Training Accuracy=0.9878727, Testing Accuracy=0.9782\n",
      "Iter=14, Training Accuracy=0.98963636, Testing Accuracy=0.9786\n",
      "Iter=15, Training Accuracy=0.9898546, Testing Accuracy=0.9787\n",
      "Iter=16, Training Accuracy=0.99063635, Testing Accuracy=0.9797\n",
      "Iter=17, Training Accuracy=0.99127275, Testing Accuracy=0.9798\n",
      "Iter=18, Training Accuracy=0.99178183, Testing Accuracy=0.9807\n",
      "Iter=19, Training Accuracy=0.99169093, Testing Accuracy=0.9796\n",
      "Iter=20, Training Accuracy=0.9921273, Testing Accuracy=0.9807\n",
      "Iter=21, Training Accuracy=0.9922909, Testing Accuracy=0.9806\n",
      "Iter=22, Training Accuracy=0.99169093, Testing Accuracy=0.9776\n",
      "Iter=23, Training Accuracy=0.99274546, Testing Accuracy=0.9802\n",
      "Iter=24, Training Accuracy=0.99265456, Testing Accuracy=0.9809\n",
      "Iter=25, Training Accuracy=0.9928, Testing Accuracy=0.9809\n",
      "Iter=26, Training Accuracy=0.99307275, Testing Accuracy=0.9808\n",
      "Iter=27, Training Accuracy=0.9929091, Testing Accuracy=0.9812\n",
      "Iter=28, Training Accuracy=0.99305457, Testing Accuracy=0.981\n",
      "Iter=29, Training Accuracy=0.9932, Testing Accuracy=0.9815\n",
      "Iter=30, Training Accuracy=0.99325454, Testing Accuracy=0.9811\n"
     ]
    }
   ],
   "source": [
    "import tensorflow as tf\n",
    "from tensorflow.examples.tutorials.mnist import input_data\n",
    "\n",
    "#載入數據集\n",
    "mnist = input_data.read_data_sets(\"MNIST_data\", one_hot = True)\n",
    "\n",
    "#每一個批次的大小\n",
    "batch_size = 80 \n",
    "\n",
    "#計算一共有多少批次\n",
    "n_batch = mnist.train.num_examples // batch_size \n",
    "\n",
    "with tf.name_scope('input'):\n",
    "    #定義兩個placeholder，目的在於 train時候透過 feed 傳入 x_data 與 y_data\n",
    "    x = tf.placeholder(tf.float32, [None, 784]) \n",
    "    y = tf.placeholder(tf.float32, [None, 10]) \n",
    "\n",
    "#建立一個神經網路\n",
    "\n",
    "with tf.name_scope('Inference'):\n",
    "    #隱藏層\n",
    "    W1 = tf.Variable(tf.truncated_normal([784, 800], stddev=0.1))\n",
    "    b1 = tf.Variable(tf.zeros([800]))\n",
    "    L1 = tf.nn.tanh(tf.matmul(x, W1) + b1)\n",
    "\n",
    "    #輸出層\n",
    "    W2 = tf.Variable(tf.truncated_normal([800, 10], stddev=0.1))\n",
    "    b2 = tf.Variable(tf.zeros([10]))\n",
    "    prediction = tf.nn.tanh(tf.matmul(L1, W2) + b2)\n",
    "\n",
    "with tf.name_scope('loss'):\n",
    "    #代價函數 : loss = mean((y - prediction)^2)\n",
    "    loss = tf.reduce_mean(tf.nn.softmax_cross_entropy_with_logits(labels = y, logits = prediction)) #交叉商代價函數\n",
    "\n",
    "    #Gradient desent method \n",
    "    gd = tf.train.AdagradOptimizer(0.2)\n",
    "    #gd = tf.train.GradientDescentOptimizer(0.2)\n",
    "\n",
    "    #最小化 代價函數 (operator)\n",
    "    train = gd.minimize(loss)\n",
    "\n",
    "with tf.name_scope('Accuracy'):\n",
    "    #結果存在一個 boolean 的變數中\n",
    "    correct_prediction = tf.equal(tf.argmax(y, 1), tf.argmax(prediction, 1)) #argmax 回傳一維張量中最大的值，所在的位置\n",
    "    #求準確率\n",
    "    accuracy = tf.reduce_mean(tf.cast(correct_prediction, tf.float32)) \n",
    "\n",
    "#初始化變數 operator\n",
    "init = tf.global_variables_initializer()    \n",
    "\n",
    "#開始training\n",
    "with tf.Session() as sess:\n",
    "    sess.run(init)\n",
    "    writer = tf.summary.FileWriter('logs/', sess.graph) #第一個參數是路徑(在當前的路徑下建立資料夾 logs)，存入的東西是 graph (圖)\n",
    "    \n",
    "    for epoch in range(31): \n",
    "       \n",
    "        for batch in range(n_batch): #每一個 outer loop 疊代 n_batch 個批次\n",
    "\n",
    "            batch_xs, batch_ys = mnist.train.next_batch(batch_size)\n",
    "            feed_dict = {x: batch_xs, y: batch_ys} \n",
    "            sess.run(train, feed_dict)\n",
    "        #計算一次準確率\n",
    "        train_feed_dict = {x: mnist.train.images, y: mnist.train.labels} #train data feed dictionary\n",
    "        train_acc = sess.run(accuracy, train_feed_dict)\n",
    "        test_feed_dict = {x: mnist.test.images, y: mnist.test.labels} #testing data feed dictionary\n",
    "        test_acc = sess.run(accuracy, test_feed_dict)          \n",
    "        print(\"Iter=\" + str(epoch) + \", Training Accuracy=\" + str(train_acc) + \", Testing Accuracy=\" + str(test_acc))\n"
   ]
  },
  {
   "cell_type": "markdown",
   "metadata": {},
   "source": [
    "在当前目录下打开cmd  \n",
    "输入 tensorboard --logdir=/logs/  \n",
    "打开浏览器提示 No dashboards are active for the current data set.  \n",
    "输入 tensorboard --logdir=.\\logs  \n",
    "打开浏览器 http://localhost:6006/"
   ]
  }
 ],
 "metadata": {
  "kernelspec": {
   "display_name": "Python 3",
   "language": "python",
   "name": "python3"
  },
  "language_info": {
   "codemirror_mode": {
    "name": "ipython",
    "version": 3
   },
   "file_extension": ".py",
   "mimetype": "text/x-python",
   "name": "python",
   "nbconvert_exporter": "python",
   "pygments_lexer": "ipython3",
   "version": "3.6.3"
  }
 },
 "nbformat": 4,
 "nbformat_minor": 2
}
