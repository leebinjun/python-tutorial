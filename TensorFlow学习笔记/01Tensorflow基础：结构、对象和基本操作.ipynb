{
 "cells": [
  {
   "cell_type": "code",
   "execution_count": 1,
   "metadata": {
    "collapsed": true
   },
   "outputs": [],
   "source": [
    "import tensorflow as tf"
   ]
  },
  {
   "cell_type": "markdown",
   "metadata": {},
   "source": [
    "*  \n",
    "**错误的计算方式**  \n",
    "tensorflow中使用图来表示计算任务，图必须在会话session里面启动  \n",
    "故以下程式并没有计算product的实际值，只是定义而已"
   ]
  },
  {
   "cell_type": "code",
   "execution_count": 2,
   "metadata": {},
   "outputs": [
    {
     "name": "stdout",
     "output_type": "stream",
     "text": [
      "Tensor(\"MatMul:0\", shape=(1, 1), dtype=int32)\n"
     ]
    }
   ],
   "source": [
    "m1 = tf.constant([[3,3]])\n",
    "m2 = tf.constant([[1],[3]])\n",
    "product = tf.matmul(m1, m2)\n",
    "print(product)"
   ]
  },
  {
   "cell_type": "markdown",
   "metadata": {},
   "source": [
    "* \n",
    "**正确的计算方式**  \n",
    "tensorflow中使用图来表示计算任务，图必须在会话session里面启动  \n",
    "初始化的Session中有一个默认的图"
   ]
  },
  {
   "cell_type": "code",
   "execution_count": 3,
   "metadata": {},
   "outputs": [
    {
     "name": "stdout",
     "output_type": "stream",
     "text": [
      "product:  Tensor(\"MatMul_1:0\", shape=(1, 1), dtype=int32)\n",
      "result:  [[44]]\n"
     ]
    }
   ],
   "source": [
    "m1 = tf.constant([[2,4]])\n",
    "m2 = tf.constant([[8],[7]])\n",
    "product = tf.matmul(m1, m2)\n",
    "with tf.Session() as sess:\n",
    "    result = sess.run(product)\n",
    "    print(\"product: \", product)\n",
    "    print(\"result: \", result)"
   ]
  },
  {
   "cell_type": "markdown",
   "metadata": {},
   "source": [
    "* \n",
    "**Tensorflow 中 Variable 的使用**  \n",
    "使用变量之前，必须先初始化  \n",
    "init = tf.global_variables_initializer()   \n",
    "sess.run(init) #先初始化  "
   ]
  },
  {
   "cell_type": "code",
   "execution_count": 4,
   "metadata": {},
   "outputs": [
    {
     "name": "stdout",
     "output_type": "stream",
     "text": [
      "[-7 -5]\n",
      "[9 9]\n"
     ]
    }
   ],
   "source": [
    "x = tf.Variable([1,2])  #宣告變數 x\n",
    "a = tf.constant([8,7])\n",
    "sub = tf.subtract(x,a)  #sub 是一個減法的 operator\n",
    "add = tf.add(x,a) #add 是一個加法的 operator\n",
    "\n",
    "#注意，在tensorflow中，執行變數之前，必須先初始化\n",
    "init = tf.global_variables_initializer()\n",
    "with tf.Session() as sess:\n",
    "    sess.run(init) #先初始化\n",
    "    result = sess.run(sub)\n",
    "    print(result)\n",
    "    result = sess.run(add)\n",
    "    print(result)"
   ]
  },
  {
   "cell_type": "markdown",
   "metadata": {},
   "source": [
    "* \n",
    "**Tensorflow 中 Variable 的使用**   \n",
    "变量的赋值使用tf.assign"
   ]
  },
  {
   "cell_type": "code",
   "execution_count": 6,
   "metadata": {},
   "outputs": [
    {
     "name": "stdout",
     "output_type": "stream",
     "text": [
      "0\n",
      "1\n",
      "2\n",
      "3\n",
      "4\n",
      "5\n",
      "6\n",
      "7\n",
      "8\n",
      "9\n",
      "10\n"
     ]
    }
   ],
   "source": [
    "value = tf.Variable(0, name='Value')\n",
    "\n",
    "new_value = tf.add(value, 1)\n",
    "update_value = tf.assign(value, new_value)\n",
    "\n",
    "init = tf.global_variables_initializer()\n",
    "\n",
    "with tf.Session() as sess:\n",
    "    sess.run(init)\n",
    "    \n",
    "    print(sess.run(value))\n",
    "    for i in range(10):\n",
    "        sess.run(update_value)\n",
    "        print(sess.run(value))\n"
   ]
  },
  {
   "cell_type": "markdown",
   "metadata": {
    "collapsed": true
   },
   "source": [
    "*  \n",
    "**Fetch**  \n",
    "在seeion中同时执行多个op"
   ]
  },
  {
   "cell_type": "code",
   "execution_count": 7,
   "metadata": {},
   "outputs": [
    {
     "name": "stdout",
     "output_type": "stream",
     "text": [
      "[9.0, 22.5]\n"
     ]
    }
   ],
   "source": [
    "#Fetch : 在session中同時執行多個operator\n",
    "#定義一系列 Float 常數\n",
    "input1 = tf.constant(3.0) \n",
    "input2 = tf.constant(6.0)\n",
    "input3 = tf.constant(2.5)\n",
    "add = tf.add(input1, input2)\n",
    "mul = tf.multiply(input3, add)\n",
    "with tf.Session() as sess:\n",
    "    result = sess.run([add, mul]) #Fetch\n",
    "    print(result)"
   ]
  },
  {
   "cell_type": "markdown",
   "metadata": {
    "collapsed": true
   },
   "source": [
    "*  \n",
    "**Feed**  \n",
    "要计算再给值"
   ]
  },
  {
   "cell_type": "code",
   "execution_count": 8,
   "metadata": {},
   "outputs": [
    {
     "name": "stdout",
     "output_type": "stream",
     "text": [
      "[7.2000003]\n"
     ]
    }
   ],
   "source": [
    "#Feed : 要計算再給值\n",
    "#創造兩個佔位符 \n",
    "input1 = tf.placeholder(tf.float32)\n",
    "input2 = tf.placeholder(tf.float32)\n",
    "output = tf.multiply(input1, input2)\n",
    "with tf.Session() as sess:\n",
    "    feed_dict = {input1 : [2.4], input2 : [3.0]}\n",
    "    #將 feed 的數據以字典的形式傳入 operator\n",
    "    print(sess.run(output, feed_dict))"
   ]
  },
  {
   "cell_type": "code",
   "execution_count": null,
   "metadata": {
    "collapsed": true
   },
   "outputs": [],
   "source": []
  }
 ],
 "metadata": {
  "kernelspec": {
   "display_name": "Python 3",
   "language": "python",
   "name": "python3"
  },
  "language_info": {
   "codemirror_mode": {
    "name": "ipython",
    "version": 3
   },
   "file_extension": ".py",
   "mimetype": "text/x-python",
   "name": "python",
   "nbconvert_exporter": "python",
   "pygments_lexer": "ipython3",
   "version": "3.6.3"
  }
 },
 "nbformat": 4,
 "nbformat_minor": 2
}
