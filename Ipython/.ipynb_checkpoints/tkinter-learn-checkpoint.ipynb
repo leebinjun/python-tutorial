{
 "cells": [
  {
   "cell_type": "code",
   "execution_count": null,
   "metadata": {
    "collapsed": true
   },
   "outputs": [],
   "source": []
  },
  {
   "cell_type": "code",
   "execution_count": 1,
   "metadata": {
    "collapsed": true
   },
   "outputs": [],
   "source": [
    "import tkinter as tk"
   ]
  },
  {
   "cell_type": "markdown",
   "metadata": {},
   "source": [
    "### 标签和按键\n",
    "* tk.Tk()  \n",
    "* tk.Lable()  \n",
    "* tk.button()  "
   ]
  },
  {
   "cell_type": "code",
   "execution_count": 34,
   "metadata": {
    "collapsed": true
   },
   "outputs": [],
   "source": [
    "windows = tk.Tk()\n",
    "windows.title('hello')\n",
    "windows.geometry('200x100')\n",
    "\n",
    "var = tk.StringVar()\n",
    "lable = tk.Label(windows, textvariable=var, bg='green', font=('Arial', 15), width=15, height=2)\n",
    "lable.pack()\n",
    "\n",
    "on_hit = False\n",
    "def hit_me():\n",
    "    global on_hit\n",
    "    if on_hit == False:\n",
    "        var.set('u hit me')\n",
    "        on_hit = True\n",
    "    else:\n",
    "        on_hit = False\n",
    "        var.set('')\n",
    "\n",
    "button = tk.Button(windows, text='hit me', command=hit_me, width=15, height=2)\n",
    "button.pack()\n",
    "\n",
    "windows.mainloop()"
   ]
  },
  {
   "cell_type": "markdown",
   "metadata": {},
   "source": [
    "### 输入 文本框\n",
    "* tk.Entry()  \n",
    "* tk.Text()"
   ]
  },
  {
   "cell_type": "code",
   "execution_count": 19,
   "metadata": {
    "collapsed": true
   },
   "outputs": [],
   "source": [
    "windows = tk.Tk()\n",
    "windows.title('hello')\n",
    "windows.geometry('200x200')\n",
    "\n",
    "entry = tk.Entry(windows, show='*')\n",
    "entry.pack()\n",
    "\n",
    "text = tk.Text(windows, height=2)\n",
    "text.pack()\n",
    "\n",
    "def put_in_entry():\n",
    "    var= entry.get()\n",
    "    text.insert('insert', var)\n",
    "\n",
    "def put_in_entry2():\n",
    "    var= entry.get()\n",
    "    text.insert('end', var)\n",
    "\n",
    "button1 = tk.Button(windows, text='entry', width=15, height=2, command=put_in_entry)\n",
    "button1.pack()\n",
    "\n",
    "button2 = tk.Button(windows, text='entry2', width=15, height=2, command=put_in_entry2)\n",
    "button2.pack()\n",
    "\n",
    "windows.mainloop()"
   ]
  },
  {
   "cell_type": "markdown",
   "metadata": {},
   "source": [
    "### 列表部件"
   ]
  },
  {
   "cell_type": "code",
   "execution_count": 30,
   "metadata": {},
   "outputs": [
    {
     "name": "stderr",
     "output_type": "stream",
     "text": [
      "Exception in Tkinter callback\n",
      "Traceback (most recent call last):\n",
      "  File \"J:\\Anaconda3\\lib\\tkinter\\__init__.py\", line 1699, in __call__\n",
      "    return self.func(*args)\n",
      "  File \"<ipython-input-30-763004ba951b>\", line 14, in select\n",
      "    value = listbox.get(listbox.curselection())\n",
      "  File \"J:\\Anaconda3\\lib\\tkinter\\__init__.py\", line 2792, in get\n",
      "    return self.tk.call(self._w, 'get', first)\n",
      "_tkinter.TclError: bad listbox index \"\": must be active, anchor, end, @x,y, or a number\n"
     ]
    }
   ],
   "source": [
    "windows = tk.Tk()\n",
    "windows.title('hello')\n",
    "windows.geometry('200x200')\n",
    "\n",
    "var1 = tk.StringVar()\n",
    "lable = tk.Label(windows, textvariable=var1, bg='yellow', font=('Arial', 15), width=15, height=2)\n",
    "lable.pack()\n",
    "\n",
    "entry = tk.Entry(windows)\n",
    "entry.pack()\n",
    "\n",
    "def select():\n",
    "    # 未考虑光标没有点击的情况\n",
    "    value = listbox.get(listbox.curselection())\n",
    "    var1.set(value)\n",
    "def insert():\n",
    "    value = entry.get()\n",
    "    listbox.insert('end', value)\n",
    "    \n",
    "button1 = tk.Button(windows, text='selection', command=select, width=15, height=2)\n",
    "button1.pack()\n",
    "button2 = tk.Button(windows, text='insert', command=insert, width=15, height=2)\n",
    "button2.pack()\n",
    "\n",
    "var2 = tk.StringVar()\n",
    "var2.set((11,22,3,4,5))\n",
    "listbox = tk.Listbox(windows, listvariable=var2)\n",
    "listbox.insert('end', \"1\")\n",
    "listbox.pack()\n",
    "\n",
    "windows.mainloop()"
   ]
  },
  {
   "cell_type": "markdown",
   "metadata": {},
   "source": [
    "* tk.Radiobutton"
   ]
  },
  {
   "cell_type": "code",
   "execution_count": 40,
   "metadata": {},
   "outputs": [
    {
     "ename": "TclError",
     "evalue": "unknown option \"-checked\"",
     "output_type": "error",
     "traceback": [
      "\u001b[1;31m---------------------------------------------------------------------------\u001b[0m",
      "\u001b[1;31mTclError\u001b[0m                                  Traceback (most recent call last)",
      "\u001b[1;32m<ipython-input-40-205cc8cd2fc4>\u001b[0m in \u001b[0;36m<module>\u001b[1;34m()\u001b[0m\n\u001b[0;32m     16\u001b[0m \u001b[0mr2\u001b[0m\u001b[1;33m=\u001b[0m\u001b[0mtk\u001b[0m\u001b[1;33m.\u001b[0m\u001b[0mRadiobutton\u001b[0m\u001b[1;33m(\u001b[0m\u001b[0mwindow\u001b[0m\u001b[1;33m,\u001b[0m\u001b[0mtext\u001b[0m\u001b[1;33m=\u001b[0m\u001b[1;34m'option B'\u001b[0m\u001b[1;33m,\u001b[0m\u001b[0mvariable\u001b[0m\u001b[1;33m=\u001b[0m\u001b[0mvar\u001b[0m\u001b[1;33m,\u001b[0m\u001b[0mvalue\u001b[0m\u001b[1;33m=\u001b[0m\u001b[1;34m'B'\u001b[0m\u001b[1;33m,\u001b[0m\u001b[0mcommand\u001b[0m\u001b[1;33m=\u001b[0m\u001b[0mprint_selection\u001b[0m\u001b[1;33m)\u001b[0m\u001b[1;33m\u001b[0m\u001b[0m\n\u001b[0;32m     17\u001b[0m \u001b[0mr2\u001b[0m\u001b[1;33m.\u001b[0m\u001b[0mpack\u001b[0m\u001b[1;33m(\u001b[0m\u001b[1;33m)\u001b[0m\u001b[1;33m\u001b[0m\u001b[0m\n\u001b[1;32m---> 18\u001b[1;33m \u001b[0mr3\u001b[0m\u001b[1;33m=\u001b[0m\u001b[0mtk\u001b[0m\u001b[1;33m.\u001b[0m\u001b[0mRadiobutton\u001b[0m\u001b[1;33m(\u001b[0m\u001b[0mwindow\u001b[0m\u001b[1;33m,\u001b[0m\u001b[0mchecked\u001b[0m\u001b[1;33m=\u001b[0m\u001b[1;32mFalse\u001b[0m \u001b[1;33m,\u001b[0m\u001b[0mtext\u001b[0m\u001b[1;33m=\u001b[0m\u001b[1;34m'option C'\u001b[0m\u001b[1;33m,\u001b[0m\u001b[0mvariable\u001b[0m\u001b[1;33m=\u001b[0m\u001b[0mvar\u001b[0m\u001b[1;33m,\u001b[0m\u001b[0mvalue\u001b[0m\u001b[1;33m=\u001b[0m\u001b[1;34m'C'\u001b[0m\u001b[1;33m,\u001b[0m\u001b[0mcommand\u001b[0m\u001b[1;33m=\u001b[0m\u001b[0mprint_selection\u001b[0m\u001b[1;33m)\u001b[0m\u001b[1;33m\u001b[0m\u001b[0m\n\u001b[0m\u001b[0;32m     19\u001b[0m \u001b[0mr3\u001b[0m\u001b[1;33m.\u001b[0m\u001b[0mpack\u001b[0m\u001b[1;33m(\u001b[0m\u001b[1;33m)\u001b[0m\u001b[1;33m\u001b[0m\u001b[0m\n\u001b[0;32m     20\u001b[0m \u001b[1;33m\u001b[0m\u001b[0m\n",
      "\u001b[1;32mJ:\\Anaconda3\\lib\\tkinter\\__init__.py\u001b[0m in \u001b[0;36m__init__\u001b[1;34m(self, master, cnf, **kw)\u001b[0m\n\u001b[0;32m   2976\u001b[0m         \u001b[0mstate\u001b[0m\u001b[1;33m,\u001b[0m \u001b[0mtakefocus\u001b[0m\u001b[1;33m,\u001b[0m \u001b[0mtext\u001b[0m\u001b[1;33m,\u001b[0m \u001b[0mtextvariable\u001b[0m\u001b[1;33m,\u001b[0m \u001b[0munderline\u001b[0m\u001b[1;33m,\u001b[0m \u001b[0mvalue\u001b[0m\u001b[1;33m,\u001b[0m \u001b[0mvariable\u001b[0m\u001b[1;33m,\u001b[0m\u001b[1;33m\u001b[0m\u001b[0m\n\u001b[0;32m   2977\u001b[0m         width, wraplength.\"\"\"\n\u001b[1;32m-> 2978\u001b[1;33m         \u001b[0mWidget\u001b[0m\u001b[1;33m.\u001b[0m\u001b[0m__init__\u001b[0m\u001b[1;33m(\u001b[0m\u001b[0mself\u001b[0m\u001b[1;33m,\u001b[0m \u001b[0mmaster\u001b[0m\u001b[1;33m,\u001b[0m \u001b[1;34m'radiobutton'\u001b[0m\u001b[1;33m,\u001b[0m \u001b[0mcnf\u001b[0m\u001b[1;33m,\u001b[0m \u001b[0mkw\u001b[0m\u001b[1;33m)\u001b[0m\u001b[1;33m\u001b[0m\u001b[0m\n\u001b[0m\u001b[0;32m   2979\u001b[0m     \u001b[1;32mdef\u001b[0m \u001b[0mdeselect\u001b[0m\u001b[1;33m(\u001b[0m\u001b[0mself\u001b[0m\u001b[1;33m)\u001b[0m\u001b[1;33m:\u001b[0m\u001b[1;33m\u001b[0m\u001b[0m\n\u001b[0;32m   2980\u001b[0m         \u001b[1;34m\"\"\"Put the button in off-state.\"\"\"\u001b[0m\u001b[1;33m\u001b[0m\u001b[0m\n",
      "\u001b[1;32mJ:\\Anaconda3\\lib\\tkinter\\__init__.py\u001b[0m in \u001b[0;36m__init__\u001b[1;34m(self, master, widgetName, cnf, kw, extra)\u001b[0m\n\u001b[0;32m   2291\u001b[0m             \u001b[1;32mdel\u001b[0m \u001b[0mcnf\u001b[0m\u001b[1;33m[\u001b[0m\u001b[0mk\u001b[0m\u001b[1;33m]\u001b[0m\u001b[1;33m\u001b[0m\u001b[0m\n\u001b[0;32m   2292\u001b[0m         self.tk.call(\n\u001b[1;32m-> 2293\u001b[1;33m             (widgetName, self._w) + extra + self._options(cnf))\n\u001b[0m\u001b[0;32m   2294\u001b[0m         \u001b[1;32mfor\u001b[0m \u001b[0mk\u001b[0m\u001b[1;33m,\u001b[0m \u001b[0mv\u001b[0m \u001b[1;32min\u001b[0m \u001b[0mclasses\u001b[0m\u001b[1;33m:\u001b[0m\u001b[1;33m\u001b[0m\u001b[0m\n\u001b[0;32m   2295\u001b[0m             \u001b[0mk\u001b[0m\u001b[1;33m.\u001b[0m\u001b[0mconfigure\u001b[0m\u001b[1;33m(\u001b[0m\u001b[0mself\u001b[0m\u001b[1;33m,\u001b[0m \u001b[0mv\u001b[0m\u001b[1;33m)\u001b[0m\u001b[1;33m\u001b[0m\u001b[0m\n",
      "\u001b[1;31mTclError\u001b[0m: unknown option \"-checked\""
     ]
    }
   ],
   "source": [
    "windows = tk.Tk()\n",
    "windows.title('hello')\n",
    "windows.geometry('200x200')\n",
    "\n",
    "var = tk.StringVar()\n",
    "var.set('heelo')\n",
    "lable = tk.Label(windows, textvariable=var, bg='green', font=('Arial', 15), width=15, height=2)\n",
    "lable.pack()\n",
    "\n",
    "def selection():\n",
    "    pass\n",
    "\n",
    "r1 = tk.Radiobutton(windows, text='A', variable=var, value='A', command=selection)\n",
    "r2 = tk.Radiobutton(windows, text='B', variable=var, value='B', command=selection)\n",
    "r3 = tk.Radiobutton(windows, text='C', variable=var, value='C', command=selection, state='normal')\n",
    "r1.pack()\n",
    "r2.pack()\n",
    "r3.pack()\n",
    "\n",
    "windows.mainloop()"
   ]
  },
  {
   "cell_type": "markdown",
   "metadata": {},
   "source": [
    "### 尺度\n",
    "* tk.Scale()"
   ]
  },
  {
   "cell_type": "code",
   "execution_count": 31,
   "metadata": {
    "collapsed": true
   },
   "outputs": [],
   "source": [
    "windows = tk.Tk()\n",
    "windows.title('hello')\n",
    "windows.geometry('200x200')\n",
    "\n",
    "label = tk.Label(windows, bg='green', font=('Arial', 15), width=15, height=2)\n",
    "label.pack()\n",
    "\n",
    "def print_selection(v):\n",
    "    label.config(text='u select '+ v)\n",
    "\n",
    "scale = tk.Scale(windows, label='scale', from_=5, to=20, orient=tk.HORIZONTAL, length=200, showvalue=True, \n",
    "                 variable=10, tickinterval=3, resolution=0.01, command=print_selection)\n",
    "scale.pack()\n",
    "\n",
    "scale2 = tk.Scale(windows, label='scale', from_=5, to=20, orient=tk.HORIZONTAL, length=200, showvalue=True, \n",
    "                 variable=10, tickinterval=3, resolution=0.01, command=print_selection)\n",
    "scale2.pack()\n",
    "\n",
    "windows.mainloop()"
   ]
  },
  {
   "cell_type": "markdown",
   "metadata": {},
   "source": [
    "### 画布\n",
    "* tk.Canvas()"
   ]
  },
  {
   "cell_type": "code",
   "execution_count": 47,
   "metadata": {
    "collapsed": true
   },
   "outputs": [],
   "source": [
    "windows = tk.Tk()\n",
    "windows.title('hey')\n",
    "windows.geometry(\"200x200\")\n",
    "\n",
    "convas = tk.Canvas(windows, bg='blue', height=100, width=200).pack()\n",
    "image_file = tk.PhotoImage(file='ins.gif')\n",
    "image = canvas.creat_image(10, 10, anchor='nw', image=image_file)\n",
    "def hi():\n",
    "    pass\n",
    "\n",
    "button = tk.Button(windows, text='hi', command=hi).pack()\n",
    "\n",
    "windows.mainloop()\n"
   ]
  },
  {
   "cell_type": "markdown",
   "metadata": {},
   "source": [
    "### 菜单\n",
    "* tk.Menu()"
   ]
  },
  {
   "cell_type": "code",
   "execution_count": null,
   "metadata": {
    "collapsed": true
   },
   "outputs": [],
   "source": []
  },
  {
   "cell_type": "markdown",
   "metadata": {},
   "source": [
    "### 框架\n",
    "* tk.Frame()"
   ]
  },
  {
   "cell_type": "code",
   "execution_count": 9,
   "metadata": {},
   "outputs": [],
   "source": [
    "windows = tk.Tk()\n",
    "windows.title('hey')\n",
    "windows.geometry(\"200x200\")\n",
    "tk.Label(windows, text='1111').pack()\n",
    "\n",
    "frm = tk.Frame(windows)\n",
    "frm.pack()\n",
    "frm_l = tk.Frame(frm)\n",
    "frm_l.pack(side = 'left') # top, bottom, left, or right\n",
    "frm_r = tk.Frame(frm)\n",
    "frm_r.pack(side = 'right')\n",
    "\n",
    "tk.Label(frm_l, text='2222').pack()\n",
    "tk.Label(frm_r, text='3333').pack()\n",
    "\n",
    "windows.mainloop()"
   ]
  },
  {
   "cell_type": "markdown",
   "metadata": {},
   "source": [
    "### 弹窗\n",
    "* tk.messagebox()"
   ]
  },
  {
   "cell_type": "code",
   "execution_count": 18,
   "metadata": {},
   "outputs": [
    {
     "name": "stdout",
     "output_type": "stream",
     "text": [
      "yes\n",
      "no\n"
     ]
    }
   ],
   "source": [
    "windows = tk.Tk()\n",
    "windows.title('hey')\n",
    "windows.geometry(\"200x200\")\n",
    "\n",
    "\n",
    "\n",
    "def hit():\n",
    "    import tkinter.messagebox \n",
    "#     tk.messagebox.showinfo(title='hi', message='hahahha')\n",
    "#     tk.messagebox.showwarning(title='hi', message='nonono')\n",
    "#     tk.messagebox.showerror(title='hi', message='error')\n",
    "    s = tk.messagebox.askquestion(title='hi', message='hahahha') # return yes or no\n",
    "    print(s)\n",
    "#     tk.messagebox.askyesno(title='hi', message='hahahha') # return True or False\n",
    "    \n",
    "    \n",
    "tk.Button(windows, text = 'hit', command=hit).pack()\n",
    "windows.mainloop()\n",
    "\n"
   ]
  },
  {
   "cell_type": "markdown",
   "metadata": {},
   "source": [
    "### 放置位置\n",
    "* pack()\n",
    "* place()\n",
    "* grid()"
   ]
  },
  {
   "cell_type": "code",
   "execution_count": 29,
   "metadata": {},
   "outputs": [],
   "source": [
    "windows = tk.Tk()\n",
    "windows.title('hey')\n",
    "windows.geometry(\"200x200\")\n",
    "\n",
    "# tk.Label(windows, text=1).pack(side='left')\n",
    "# tk.Label(windows, text=2).pack(side='right')\n",
    "# tk.Label(windows, text=3).pack(side='top')\n",
    "# tk.Label(windows, text=4).pack(side='bottom')\n",
    "\n",
    "# for i in range(3):\n",
    "#     for j in range(4):\n",
    "#         tk.Label(windows, text=1).grid(row=i, column=j, padx=5, pady=5, ipadx=10, ipady=10)\n",
    "\n",
    "tk.Label(windows, text=4).place(x=10, y=100, anchor='nw')\n",
    "\n",
    "windows.mainloop()"
   ]
  },
  {
   "cell_type": "code",
   "execution_count": null,
   "metadata": {
    "collapsed": true
   },
   "outputs": [],
   "source": []
  },
  {
   "cell_type": "code",
   "execution_count": null,
   "metadata": {
    "collapsed": true
   },
   "outputs": [],
   "source": []
  }
 ],
 "metadata": {
  "kernelspec": {
   "display_name": "Python 3",
   "language": "python",
   "name": "python3"
  },
  "language_info": {
   "codemirror_mode": {
    "name": "ipython",
    "version": 3
   },
   "file_extension": ".py",
   "mimetype": "text/x-python",
   "name": "python",
   "nbconvert_exporter": "python",
   "pygments_lexer": "ipython3",
   "version": "3.6.3"
  }
 },
 "nbformat": 4,
 "nbformat_minor": 2
}
