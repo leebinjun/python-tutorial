{
 "cells": [
  {
   "cell_type": "markdown",
   "metadata": {},
   "source": [
    "# Numpy"
   ]
  },
  {
   "cell_type": "markdown",
   "metadata": {},
   "source": [
    "## Numpy 基本属性"
   ]
  },
  {
   "cell_type": "code",
   "execution_count": 100,
   "metadata": {},
   "outputs": [
    {
     "name": "stdout",
     "output_type": "stream",
     "text": [
      "[[[1 2 3]\n",
      "  [2 3 4]]]\n",
      "dimension: 3\n",
      "shape: (1, 2, 3)\n",
      "size: 6\n",
      "dtype: int32\n"
     ]
    }
   ],
   "source": [
    "import numpy as np\n",
    "\n",
    "array = np.array([[[1,2,3], # 定义数组\n",
    "                 [2,3,4]]])\n",
    "print(array)\n",
    "print('dimension:', array.ndim) # 维数 \n",
    "print('shape:', array.shape)\n",
    "print('size:', array.size)\n",
    "print('dtype:', array.dtype) # 默认整形"
   ]
  },
  {
   "cell_type": "markdown",
   "metadata": {},
   "source": [
    "## Numpy 创建 array"
   ]
  },
  {
   "cell_type": "markdown",
   "metadata": {},
   "source": [
    "### 使用列表创建 向量 & 矩阵"
   ]
  },
  {
   "cell_type": "code",
   "execution_count": 25,
   "metadata": {},
   "outputs": [
    {
     "name": "stdout",
     "output_type": "stream",
     "text": [
      "[2 3 4]\n",
      "int32\n"
     ]
    }
   ],
   "source": [
    "import numpy as np\n",
    "\n",
    "a = np.array([2,3,4], dtype=np.int) \n",
    "print(a) # 输出无逗号\n",
    "print(a.dtype)"
   ]
  },
  {
   "cell_type": "code",
   "execution_count": 18,
   "metadata": {},
   "outputs": [
    {
     "name": "stdout",
     "output_type": "stream",
     "text": [
      "[[1 2 3]\n",
      " [2 3 4]]\n"
     ]
    }
   ],
   "source": [
    "matrix = np.array([[1,2,3],\n",
    "             [2,3,4]])\n",
    "print(matrix)"
   ]
  },
  {
   "cell_type": "markdown",
   "metadata": {},
   "source": [
    "### 创建 0，1，空 矩阵"
   ]
  },
  {
   "cell_type": "code",
   "execution_count": 23,
   "metadata": {},
   "outputs": [
    {
     "name": "stdout",
     "output_type": "stream",
     "text": [
      "[[0. 0. 0. 0.]\n",
      " [0. 0. 0. 0.]\n",
      " [0. 0. 0. 0.]]\n",
      "[[1 1 1 1]\n",
      " [1 1 1 1]\n",
      " [1 1 1 1]]\n",
      "[[0. 0. 0. 0.]\n",
      " [0. 0. 0. 0.]\n",
      " [0. 0. 0. 0.]]\n"
     ]
    }
   ],
   "source": [
    "zeros = np.zeros((3,4)) # shape use()\n",
    "print(zeros) # default dtype = float64\n",
    "\n",
    "ones = np.ones((3,4), dtype=int)\n",
    "print(ones)\n",
    "\n",
    "empty = np.empty((3,4))\n",
    "print(empty)\n"
   ]
  },
  {
   "cell_type": "markdown",
   "metadata": {},
   "source": [
    "### 创建 有序矩阵"
   ]
  },
  {
   "cell_type": "code",
   "execution_count": 33,
   "metadata": {},
   "outputs": [
    {
     "name": "stdout",
     "output_type": "stream",
     "text": [
      "[[ 0  1  2  3]\n",
      " [ 4  5  6  7]\n",
      " [ 8  9 10 11]]\n"
     ]
    }
   ],
   "source": [
    "import numpy as np\n",
    "\n",
    "a = np.arange(12).reshape((3,4))\n",
    "print(a)"
   ]
  },
  {
   "cell_type": "code",
   "execution_count": 35,
   "metadata": {},
   "outputs": [
    {
     "name": "stdout",
     "output_type": "stream",
     "text": [
      "[20 24 28 32 36 40 44 48]\n"
     ]
    }
   ],
   "source": [
    "a = np.arange(20,50,4) # [20,50) step=4\n",
    "print(a)"
   ]
  },
  {
   "cell_type": "code",
   "execution_count": 32,
   "metadata": {},
   "outputs": [
    {
     "name": "stdout",
     "output_type": "stream",
     "text": [
      "[[[ 1.          1.47368421  1.94736842  2.42105263  2.89473684]\n",
      "  [ 3.36842105  3.84210526  4.31578947  4.78947368  5.26315789]]\n",
      "\n",
      " [[ 5.73684211  6.21052632  6.68421053  7.15789474  7.63157895]\n",
      "  [ 8.10526316  8.57894737  9.05263158  9.52631579 10.        ]]]\n"
     ]
    }
   ],
   "source": [
    "a = np.linspace(1,10,20).reshape((2,2,5)) # [1,10) slip as 20 pieces\n",
    "print(a)"
   ]
  },
  {
   "cell_type": "markdown",
   "metadata": {},
   "source": [
    "<div class=\"mark\">\n",
    "### 创建随机矩阵</div><i class=\"fa fa-lightbulb-o \"></i>"
   ]
  },
  {
   "cell_type": "code",
   "execution_count": 54,
   "metadata": {},
   "outputs": [
    {
     "name": "stdout",
     "output_type": "stream",
     "text": [
      "[[0.38977955 0.26217317 0.13385397 0.65687882]\n",
      " [0.60388027 0.13614177 0.89659863 0.94698431]\n",
      " [0.40266388 0.31268458 0.02294242 0.08113657]]\n"
     ]
    }
   ],
   "source": [
    "a = np.random.random((3,4)) # [0,1) random number\n",
    "print(a)"
   ]
  },
  {
   "cell_type": "markdown",
   "metadata": {},
   "source": [
    "## Numpy 基础运算"
   ]
  },
  {
   "cell_type": "markdown",
   "metadata": {},
   "source": [
    "### 算数运算"
   ]
  },
  {
   "cell_type": "code",
   "execution_count": 50,
   "metadata": {},
   "outputs": [
    {
     "name": "stdout",
     "output_type": "stream",
     "text": [
      "[10 20 30 40]\n",
      "[0 1 2 3]\n"
     ]
    }
   ],
   "source": [
    "import numpy as np\n",
    "\n",
    "a = np.array([10,20,30,40])\n",
    "b = np.arange(4)\n",
    "\n",
    "print(a)\n",
    "print(b)"
   ]
  },
  {
   "cell_type": "code",
   "execution_count": 46,
   "metadata": {},
   "outputs": [
    {
     "name": "stdout",
     "output_type": "stream",
     "text": [
      "[10 19 28 37]\n"
     ]
    }
   ],
   "source": [
    "c = a-b # must be the same shape, then each one do it\n",
    "print(c)"
   ]
  },
  {
   "cell_type": "code",
   "execution_count": 47,
   "metadata": {},
   "outputs": [
    {
     "name": "stdout",
     "output_type": "stream",
     "text": [
      "[0 1 4 9]\n"
     ]
    }
   ],
   "source": [
    "c = b**2 # square\n",
    "print(c)"
   ]
  },
  {
   "cell_type": "code",
   "execution_count": 48,
   "metadata": {},
   "outputs": [
    {
     "name": "stdout",
     "output_type": "stream",
     "text": [
      "[-5.44021111  9.12945251 -9.88031624  7.4511316 ]\n"
     ]
    }
   ],
   "source": [
    "c = 10*np.sin(a) # Arc system\n",
    "print(c)"
   ]
  },
  {
   "cell_type": "code",
   "execution_count": 49,
   "metadata": {},
   "outputs": [
    {
     "name": "stdout",
     "output_type": "stream",
     "text": [
      "[ True  True  True False]\n"
     ]
    }
   ],
   "source": [
    "c = b<3\n",
    "print(c)"
   ]
  },
  {
   "cell_type": "markdown",
   "metadata": {},
   "source": [
    "### 矩阵运算"
   ]
  },
  {
   "cell_type": "code",
   "execution_count": 52,
   "metadata": {},
   "outputs": [
    {
     "name": "stdout",
     "output_type": "stream",
     "text": [
      "[[10 20]\n",
      " [30 40]\n",
      " [50 60]]\n",
      "[[0 1 2 3 4]\n",
      " [5 6 7 8 9]]\n"
     ]
    }
   ],
   "source": [
    "import numpy as np\n",
    "\n",
    "a = np.array([10,20,30,40,50,60]).reshape(3,2)\n",
    "b = np.arange(10).reshape(2,5)\n",
    "\n",
    "print(a)\n",
    "print(b)"
   ]
  },
  {
   "cell_type": "code",
   "execution_count": 53,
   "metadata": {},
   "outputs": [
    {
     "name": "stdout",
     "output_type": "stream",
     "text": [
      "[[100 130 160 190 220]\n",
      " [200 270 340 410 480]\n",
      " [300 410 520 630 740]]\n"
     ]
    }
   ],
   "source": [
    "c = np.dot(a,b) # first's column == second's row\n",
    "print(c) # result first's row * second's column"
   ]
  },
  {
   "cell_type": "markdown",
   "metadata": {},
   "source": [
    "### sum min max mean median"
   ]
  },
  {
   "cell_type": "markdown",
   "metadata": {},
   "source": [
    "1. astype(int) 改变数据类型\n",
    "2. axis=0 对于列计算 垂直操作；axis=1 对于行计算 水平操作"
   ]
  },
  {
   "cell_type": "code",
   "execution_count": 89,
   "metadata": {},
   "outputs": [
    {
     "name": "stdout",
     "output_type": "stream",
     "text": [
      "[[6 8 6 7]\n",
      " [5 3 6 7]\n",
      " [5 1 6 1]]\n",
      "sum: 61\n"
     ]
    }
   ],
   "source": [
    "import numpy as np\n",
    "\n",
    "a = (10*np.sin(np.random.random((3,4)))).astype(int) \n",
    "\n",
    "print(a)\n",
    "print('sum:', np.sum(a))"
   ]
  },
  {
   "cell_type": "code",
   "execution_count": 90,
   "metadata": {},
   "outputs": [
    {
     "name": "stdout",
     "output_type": "stream",
     "text": [
      "sum in column: [16 12 18 15]\n",
      "sum in row: [27 21 13]\n"
     ]
    }
   ],
   "source": [
    "print('sum in column:', np.sum(a, axis=0))\n",
    "print('sum in row:', np.sum(a, axis=1))"
   ]
  },
  {
   "cell_type": "code",
   "execution_count": 27,
   "metadata": {},
   "outputs": [
    {
     "name": "stdout",
     "output_type": "stream",
     "text": [
      "min: 1\n",
      "max: 8\n"
     ]
    }
   ],
   "source": [
    "print('min:', np.min(a))\n",
    "print('max:', np.max(a))"
   ]
  },
  {
   "cell_type": "code",
   "execution_count": 32,
   "metadata": {},
   "outputs": [
    {
     "name": "stdout",
     "output_type": "stream",
     "text": [
      "mean: 5.25\n",
      "median: 5.0\n"
     ]
    }
   ],
   "source": [
    "print('mean:',np.mean(a)) # 平均值\n",
    "print('median:',np.median(a)) # 中位数"
   ]
  },
  {
   "cell_type": "markdown",
   "metadata": {},
   "source": [
    "### cumsum diff clip"
   ]
  },
  {
   "cell_type": "code",
   "execution_count": 40,
   "metadata": {},
   "outputs": [
    {
     "name": "stdout",
     "output_type": "stream",
     "text": [
      "cumsum: [ 5  8 15 20 28 33 41 45 48 49 55 63]\n"
     ]
    }
   ],
   "source": [
    "print('cumsum:',np.cumsum(a)) # 累加数列"
   ]
  },
  {
   "cell_type": "code",
   "execution_count": 39,
   "metadata": {},
   "outputs": [
    {
     "name": "stdout",
     "output_type": "stream",
     "text": [
      "diff:\n",
      " [[-2  4 -2]\n",
      " [-3  3 -4]\n",
      " [-2  5  2]]\n"
     ]
    }
   ],
   "source": [
    "print('diff:\\n',np.diff(a)) # 邻差数列（后-前）"
   ]
  },
  {
   "cell_type": "code",
   "execution_count": 48,
   "metadata": {},
   "outputs": [
    {
     "name": "stdout",
     "output_type": "stream",
     "text": [
      "clip 5-9 :\n",
      " [[5 5 7 5]\n",
      " [8 5 8 5]\n",
      " [5 5 6 8]]\n"
     ]
    }
   ],
   "source": [
    "print('clip 5-9 :\\n',np.clip(a,5,9)) # 门槛同化"
   ]
  },
  {
   "cell_type": "markdown",
   "metadata": {},
   "source": [
    "### sort transpose"
   ]
  },
  {
   "cell_type": "code",
   "execution_count": 45,
   "metadata": {},
   "outputs": [
    {
     "name": "stdout",
     "output_type": "stream",
     "text": [
      "sort:\n",
      " [[3 5 5 7]\n",
      " [4 5 8 8]\n",
      " [1 3 6 8]]\n"
     ]
    }
   ],
   "source": [
    "print('sort:\\n',np.sort(a)) # 排序(逐行升序)"
   ]
  },
  {
   "cell_type": "code",
   "execution_count": 46,
   "metadata": {},
   "outputs": [
    {
     "name": "stdout",
     "output_type": "stream",
     "text": [
      "transpose:\n",
      " [[5 8 3]\n",
      " [3 5 1]\n",
      " [7 8 6]\n",
      " [5 4 8]]\n"
     ]
    }
   ],
   "source": [
    "print('transpose:\\n',np.transpose(a)) # 转置"
   ]
  },
  {
   "cell_type": "markdown",
   "metadata": {},
   "source": [
    "### 指定数索引"
   ]
  },
  {
   "cell_type": "code",
   "execution_count": 58,
   "metadata": {},
   "outputs": [
    {
     "name": "stdout",
     "output_type": "stream",
     "text": [
      "[[8 5 4 6]\n",
      " [7 4 0 2]\n",
      " [1 4 4 3]]\n",
      "a[1][2]: 0\n",
      "a[1]: [7 4 0 2]\n",
      "a[1]: [7 4 0 2]\n"
     ]
    }
   ],
   "source": [
    "import numpy as np\n",
    "\n",
    "a = (10*np.sin(np.random.random((3,4)))).astype(int)\n",
    "print(a)\n",
    "print('a[1][2]:',a[1][2]) # 索引从0开始\n",
    "print('a[1]:',a[1,:]) # 第2行所有数 ：表示所有"
   ]
  },
  {
   "cell_type": "code",
   "execution_count": 56,
   "metadata": {},
   "outputs": [
    {
     "name": "stdout",
     "output_type": "stream",
     "text": [
      "argmin: 5\n",
      "argmax: 0\n"
     ]
    }
   ],
   "source": [
    "print('argmin:',np.argmin(a))\n",
    "print('argmax:',np.argmax(a))"
   ]
  },
  {
   "cell_type": "markdown",
   "metadata": {},
   "source": [
    "### 迭代行，列，所有元素"
   ]
  },
  {
   "cell_type": "code",
   "execution_count": 62,
   "metadata": {},
   "outputs": [
    {
     "name": "stdout",
     "output_type": "stream",
     "text": [
      "[8 5 4 6]\n",
      "[7 4 0 2]\n",
      "[1 4 4 3]\n",
      "[8 7 1]\n",
      "[5 4 4]\n",
      "[4 0 4]\n",
      "[6 2 3]\n",
      "8 5 4 6 7 4 0 2 1 4 4 3 "
     ]
    }
   ],
   "source": [
    "import numpy as np\n",
    "\n",
    "a = (10*np.sin(np.random.random((3,4)))).astype(int)\n",
    "for row in a: # 迭代行\n",
    "    print(row)\n",
    "    \n",
    "for column in a.T: # 转置即迭代列\n",
    "    print(column)\n",
    "    \n",
    "for item in a.flat: # 把a拍平\n",
    "    print(item,end=' ')"
   ]
  },
  {
   "cell_type": "markdown",
   "metadata": {},
   "source": [
    "## 合并，拆分ndarray"
   ]
  },
  {
   "cell_type": "code",
   "execution_count": 83,
   "metadata": {},
   "outputs": [
    {
     "name": "stdout",
     "output_type": "stream",
     "text": [
      "vastack:\n",
      " [[1 1 1]\n",
      " [2 2 2]]\n",
      "hastack:\n",
      " [1 1 1 2 2 2]\n"
     ]
    }
   ],
   "source": [
    "import numpy as np\n",
    "\n",
    "a = np.array([1,1,1])\n",
    "b = np.array([2,2,2])\n",
    "\n",
    "print('vastack:\\n',np.vstack((a,b))) # 垂直合并 vertical\n",
    "print('hastack:\\n',np.hstack((a,b))) # 水平合并 horizontal"
   ]
  },
  {
   "cell_type": "code",
   "execution_count": 97,
   "metadata": {},
   "outputs": [
    {
     "name": "stdout",
     "output_type": "stream",
     "text": [
      "[array([[0, 1, 2, 3]]), array([[4, 5, 6, 7]]), array([[ 8,  9, 10, 11]])]\n",
      "[array([[0, 1, 2, 3]]), array([[4, 5, 6, 7]]), array([[ 8,  9, 10, 11]])]\n",
      "[array([[0],\n",
      "       [4],\n",
      "       [8]]), array([[1],\n",
      "       [5],\n",
      "       [9]]), array([[ 2],\n",
      "       [ 6],\n",
      "       [10]]), array([[ 3],\n",
      "       [ 7],\n",
      "       [11]])]\n",
      "[array([[0],\n",
      "       [4],\n",
      "       [8]]), array([[1],\n",
      "       [5],\n",
      "       [9]]), array([[ 2],\n",
      "       [ 6],\n",
      "       [10]]), array([[ 3],\n",
      "       [ 7],\n",
      "       [11]])]\n",
      "[array([[0, 1],\n",
      "       [4, 5],\n",
      "       [8, 9]]), array([[ 2],\n",
      "       [ 6],\n",
      "       [10]]), array([[ 3],\n",
      "       [ 7],\n",
      "       [11]])]\n"
     ]
    }
   ],
   "source": [
    "import numpy as np\n",
    "\n",
    "a = np.arange(12).reshape(3,4)\n",
    "\n",
    "print(np.split(a,3,axis=0)) # 垂直分割 （分割线垂直移动）\n",
    "print(np.vsplit(a,3))\n",
    "\n",
    "print(np.split(a,4,axis=1)) # 水平分割\n",
    "print(np.hsplit(a,4))\n",
    "\n",
    "print(np.array_split(a,3,axis=1)) # 不等量分割 （按列求和）"
   ]
  },
  {
   "cell_type": "markdown",
   "metadata": {},
   "source": [
    "## Numpy 复制"
   ]
  },
  {
   "cell_type": "markdown",
   "metadata": {},
   "source": [
    "1. python面向对象，赋值->同对象，变化关联\n",
    "2. 复制->只赋值不关联对象"
   ]
  },
  {
   "cell_type": "code",
   "execution_count": 101,
   "metadata": {},
   "outputs": [
    {
     "name": "stdout",
     "output_type": "stream",
     "text": [
      "[0 1 2 3]\n"
     ]
    }
   ],
   "source": [
    "import numpy as np\n",
    "\n",
    "a = np.arange(4)\n",
    "b = a.copy()\n",
    "b[2] = 1\n",
    "\n",
    "print(a)"
   ]
  },
  {
   "cell_type": "markdown",
   "metadata": {},
   "source": [
    "# Pandas"
   ]
  },
  {
   "cell_type": "markdown",
   "metadata": {},
   "source": [
    "## Pandas 基本介绍"
   ]
  },
  {
   "cell_type": "markdown",
   "metadata": {},
   "source": [
    "### Series"
   ]
  },
  {
   "cell_type": "code",
   "execution_count": 120,
   "metadata": {},
   "outputs": [
    {
     "name": "stdout",
     "output_type": "stream",
     "text": [
      "0     1.0\n",
      "1     3.0\n",
      "2     6.0\n",
      "3     NaN\n",
      "4    44.0\n",
      "5     1.0\n",
      "dtype: float64\n"
     ]
    }
   ],
   "source": [
    "import pandas as pd\n",
    "import numpy as np\n",
    "\n",
    "s = pd.Series([1,3,6,np.nan,44,1]) # pandas序列 类似字典\n",
    "print(s)"
   ]
  },
  {
   "cell_type": "markdown",
   "metadata": {},
   "source": [
    "## DataFrame"
   ]
  },
  {
   "cell_type": "markdown",
   "metadata": {},
   "source": [
    "### 生成方式"
   ]
  },
  {
   "cell_type": "code",
   "execution_count": 121,
   "metadata": {},
   "outputs": [
    {
     "name": "stdout",
     "output_type": "stream",
     "text": [
      "DatetimeIndex(['2019-06-23', '2019-06-24', '2019-06-25', '2019-06-26',\n",
      "               '2019-06-27', '2019-06-28'],\n",
      "              dtype='datetime64[ns]', freq='D')\n"
     ]
    }
   ],
   "source": [
    "dates = pd.date_range('20190623',periods=6) # 日期\n",
    "print(dates)"
   ]
  },
  {
   "cell_type": "code",
   "execution_count": 142,
   "metadata": {},
   "outputs": [
    {
     "name": "stdout",
     "output_type": "stream",
     "text": [
      "    0   1   2   3\n",
      "0   0   1   2   3\n",
      "1   4   5   6   7\n",
      "2   8   9  10  11\n",
      "3  12  13  14  15\n",
      "4  16  17  18  19\n",
      "5  20  21  22  23\n"
     ]
    }
   ],
   "source": [
    "df = pd.DataFrame(np.arange(24).reshape((6,4)))\n",
    "print(df)"
   ]
  },
  {
   "cell_type": "code",
   "execution_count": 144,
   "metadata": {},
   "outputs": [
    {
     "name": "stdout",
     "output_type": "stream",
     "text": [
      "             a   b   c   d\n",
      "2019-06-23   0   1   2   3\n",
      "2019-06-24   4   5   6   7\n",
      "2019-06-25   8   9  10  11\n",
      "2019-06-26  12  13  14  15\n",
      "2019-06-27  16  17  18  19\n",
      "2019-06-28  20  21  22  23\n"
     ]
    }
   ],
   "source": [
    "df = pd.DataFrame(np.arange(24).reshape((6,4)),index=dates,columns=['a','b','c','d']) \n",
    "# 默认序列0开始                        行索引      列索引\n",
    "print(df)"
   ]
  },
  {
   "cell_type": "markdown",
   "metadata": {},
   "source": [
    "### 数据分析"
   ]
  },
  {
   "cell_type": "code",
   "execution_count": 145,
   "metadata": {},
   "outputs": [
    {
     "name": "stdout",
     "output_type": "stream",
     "text": [
      "a    int32\n",
      "b    int32\n",
      "c    int32\n",
      "d    int32\n",
      "dtype: object\n",
      "[[ 0  1  2  3]\n",
      " [ 4  5  6  7]\n",
      " [ 8  9 10 11]\n",
      " [12 13 14 15]\n",
      " [16 17 18 19]\n",
      " [20 21 22 23]]\n",
      "DatetimeIndex(['2019-06-23', '2019-06-24', '2019-06-25', '2019-06-26',\n",
      "               '2019-06-27', '2019-06-28'],\n",
      "              dtype='datetime64[ns]', freq='D')\n",
      "Index(['a', 'b', 'c', 'd'], dtype='object')\n"
     ]
    }
   ],
   "source": [
    "print(df.dtypes) # 数据类型\n",
    "print(df.values) # 数据\n",
    "\n",
    "print(df.index) # 行名\n",
    "print(df.columns) # 列名"
   ]
  },
  {
   "cell_type": "code",
   "execution_count": 146,
   "metadata": {},
   "outputs": [
    {
     "name": "stdout",
     "output_type": "stream",
     "text": [
      "               a          b          c          d\n",
      "count   6.000000   6.000000   6.000000   6.000000\n",
      "mean   10.000000  11.000000  12.000000  13.000000\n",
      "std     7.483315   7.483315   7.483315   7.483315\n",
      "min     0.000000   1.000000   2.000000   3.000000\n",
      "25%     5.000000   6.000000   7.000000   8.000000\n",
      "50%    10.000000  11.000000  12.000000  13.000000\n",
      "75%    15.000000  16.000000  17.000000  18.000000\n",
      "max    20.000000  21.000000  22.000000  23.000000\n"
     ]
    }
   ],
   "source": [
    "print(df.describe()) # 数据按列分析"
   ]
  },
  {
   "cell_type": "markdown",
   "metadata": {},
   "source": [
    "### 排序"
   ]
  },
  {
   "cell_type": "code",
   "execution_count": 147,
   "metadata": {},
   "outputs": [
    {
     "name": "stdout",
     "output_type": "stream",
     "text": [
      "             a   b   c   d\n",
      "2019-06-28  20  21  22  23\n",
      "2019-06-27  16  17  18  19\n",
      "2019-06-26  12  13  14  15\n",
      "2019-06-25   8   9  10  11\n",
      "2019-06-24   4   5   6   7\n",
      "2019-06-23   0   1   2   3\n"
     ]
    }
   ],
   "source": [
    "print(df.sort_index(axis=0,ascending=False)) # 按行名降序"
   ]
  },
  {
   "cell_type": "code",
   "execution_count": 148,
   "metadata": {},
   "outputs": [
    {
     "name": "stdout",
     "output_type": "stream",
     "text": [
      "             d   c   b   a\n",
      "2019-06-23   3   2   1   0\n",
      "2019-06-24   7   6   5   4\n",
      "2019-06-25  11  10   9   8\n",
      "2019-06-26  15  14  13  12\n",
      "2019-06-27  19  18  17  16\n",
      "2019-06-28  23  22  21  20\n"
     ]
    }
   ],
   "source": [
    "print(df.sort_index(axis=1,ascending=False)) # 按列名降序"
   ]
  },
  {
   "cell_type": "code",
   "execution_count": 150,
   "metadata": {},
   "outputs": [
    {
     "name": "stdout",
     "output_type": "stream",
     "text": [
      "             a   b   c   d\n",
      "2019-06-28  20  21  22  23\n",
      "2019-06-27  16  17  18  19\n",
      "2019-06-26  12  13  14  15\n",
      "2019-06-25   8   9  10  11\n",
      "2019-06-24   4   5   6   7\n",
      "2019-06-23   0   1   2   3\n"
     ]
    }
   ],
   "source": [
    "print(df.sort_values(by='c',ascending=False)) # 按'c'列降序"
   ]
  },
  {
   "cell_type": "markdown",
   "metadata": {},
   "source": [
    "### 选择数据"
   ]
  },
  {
   "cell_type": "code",
   "execution_count": 164,
   "metadata": {},
   "outputs": [
    {
     "name": "stdout",
     "output_type": "stream",
     "text": [
      "2019-06-23     0\n",
      "2019-06-24     4\n",
      "2019-06-25     8\n",
      "2019-06-26    12\n",
      "2019-06-27    16\n",
      "2019-06-28    20\n",
      "Freq: D, Name: a, dtype: int32\n",
      "             a   b   c   d\n",
      "2019-06-24   4   5   6   7\n",
      "2019-06-25   8   9  10  11\n",
      "2019-06-26  12  13  14  15\n",
      "             a   b   c   d\n",
      "2019-06-26  12  13  14  15\n",
      "2019-06-27  16  17  18  19\n",
      "2019-06-28  20  21  22  23\n"
     ]
    }
   ],
   "source": [
    "print(df['a']) # 选择'a'列\n",
    "print(df[1:4]) # 按行切片\n",
    "print(df[df.a>8]) # 布尔提取"
   ]
  },
  {
   "cell_type": "code",
   "execution_count": 160,
   "metadata": {},
   "outputs": [
    {
     "name": "stdout",
     "output_type": "stream",
     "text": [
      "a    12\n",
      "b    13\n",
      "c    14\n",
      "d    15\n",
      "Name: 2019-06-26 00:00:00, dtype: int32\n",
      "2019-06-23     0\n",
      "2019-06-24     4\n",
      "2019-06-25     8\n",
      "2019-06-26    12\n",
      "2019-06-27    16\n",
      "2019-06-28    20\n",
      "Freq: D, Name: a, dtype: int32\n",
      "b    13\n",
      "c    14\n",
      "Name: 2019-06-26 00:00:00, dtype: int32\n"
     ]
    }
   ],
   "source": [
    "print(df.loc['2019-06-26']) # 按标签索引\n",
    "print(df.loc[:,'a'])\n",
    "print(df.loc['2019-06-26',['b','c']])"
   ]
  },
  {
   "cell_type": "code",
   "execution_count": 161,
   "metadata": {},
   "outputs": [
    {
     "name": "stdout",
     "output_type": "stream",
     "text": [
      "13\n"
     ]
    }
   ],
   "source": [
    "print(df.iloc[3,1]) # 按位置索引提取"
   ]
  },
  {
   "cell_type": "markdown",
   "metadata": {},
   "source": [
    "### 重新赋值 & 添加数据"
   ]
  },
  {
   "cell_type": "code",
   "execution_count": 167,
   "metadata": {},
   "outputs": [
    {
     "name": "stdout",
     "output_type": "stream",
     "text": [
      "             a   b   c   d\n",
      "2019-06-23   0   1   2   3\n",
      "2019-06-24   4   5   6   7\n",
      "2019-06-25   8   9  66  11\n",
      "2019-06-26  12  13  14  15\n",
      "2019-06-27  16  17  18  19\n",
      "2019-06-28  20  21  22  23\n"
     ]
    }
   ],
   "source": [
    "df.iloc[2,2]=66\n",
    "print(df)"
   ]
  },
  {
   "cell_type": "code",
   "execution_count": 168,
   "metadata": {},
   "outputs": [
    {
     "name": "stdout",
     "output_type": "stream",
     "text": [
      "            a   b   c   d\n",
      "2019-06-23  0   1   2   3\n",
      "2019-06-24  4   5   6   7\n",
      "2019-06-25  8   9  66  11\n",
      "2019-06-26  0  13  14  15\n",
      "2019-06-27  0  17  18  19\n",
      "2019-06-28  0  21  22  23\n"
     ]
    }
   ],
   "source": [
    "df.a[df.a>8]=0\n",
    "print(df)"
   ]
  },
  {
   "cell_type": "code",
   "execution_count": 176,
   "metadata": {},
   "outputs": [
    {
     "name": "stdout",
     "output_type": "stream",
     "text": [
      "            a   b   c   d  e     f\n",
      "2019-06-23  0   1   2   3  0   NaN\n",
      "2019-06-24  4   5   6   7  1   1.0\n",
      "2019-06-25  8   9  66  11  2   3.0\n",
      "2019-06-26  0  13  14  15  3   6.0\n",
      "2019-06-27  0  17  18  19  4   NaN\n",
      "2019-06-28  0  21  22  23  5  44.0\n"
     ]
    }
   ],
   "source": [
    "df['e'] = np.arange(6)\n",
    "df['f'] = pd.Series([1,3,6,np.nan,44,1], index = pd.date_range('20190624',periods=6)) \n",
    "# 添加的序列行名不一致则为 NaN\n",
    "print(df)"
   ]
  },
  {
   "cell_type": "markdown",
   "metadata": {},
   "source": [
    "### 数据丢失"
   ]
  },
  {
   "cell_type": "code",
   "execution_count": 179,
   "metadata": {},
   "outputs": [
    {
     "name": "stdout",
     "output_type": "stream",
     "text": [
      "            a   b   c   d  e     f\n",
      "2019-06-24  4   5   6   7  1   1.0\n",
      "2019-06-25  8   9  66  11  2   3.0\n",
      "2019-06-26  0  13  14  15  3   6.0\n",
      "2019-06-28  0  21  22  23  5  44.0\n",
      "            a   b   c   d  e     f\n",
      "2019-06-23  0   1   2   3  0   NaN\n",
      "2019-06-24  4   5   6   7  1   1.0\n",
      "2019-06-25  8   9  66  11  2   3.0\n",
      "2019-06-26  0  13  14  15  3   6.0\n",
      "2019-06-27  0  17  18  19  4   NaN\n",
      "2019-06-28  0  21  22  23  5  44.0\n"
     ]
    }
   ],
   "source": [
    "print(df.dropna(axis=0)) # 垂直操作 有任何一行含NAN 则丢弃\n",
    "print(df.dropna(axis=0, how='all')) # 垂直操作 有任何一行全为NAN 则丢弃"
   ]
  },
  {
   "cell_type": "code",
   "execution_count": 180,
   "metadata": {},
   "outputs": [
    {
     "name": "stdout",
     "output_type": "stream",
     "text": [
      "            a   b   c   d  e     f\n",
      "2019-06-23  0   1   2   3  0   0.0\n",
      "2019-06-24  4   5   6   7  1   1.0\n",
      "2019-06-25  8   9  66  11  2   3.0\n",
      "2019-06-26  0  13  14  15  3   6.0\n",
      "2019-06-27  0  17  18  19  4   0.0\n",
      "2019-06-28  0  21  22  23  5  44.0\n"
     ]
    }
   ],
   "source": [
    "print(df.fillna(value=0)) # NAN -> 0"
   ]
  },
  {
   "cell_type": "code",
   "execution_count": 183,
   "metadata": {},
   "outputs": [
    {
     "name": "stdout",
     "output_type": "stream",
     "text": [
      "                a      b      c      d      e      f\n",
      "2019-06-23  False  False  False  False  False   True\n",
      "2019-06-24  False  False  False  False  False  False\n",
      "2019-06-25  False  False  False  False  False  False\n",
      "2019-06-26  False  False  False  False  False  False\n",
      "2019-06-27  False  False  False  False  False   True\n",
      "2019-06-28  False  False  False  False  False  False\n",
      "True\n"
     ]
    }
   ],
   "source": [
    "print(df.isnull()) \n",
    "print(np.any(df.isnull())==True) # 检查是否丢失数据"
   ]
  },
  {
   "cell_type": "markdown",
   "metadata": {},
   "source": [
    "## Pandas 导入导出"
   ]
  },
  {
   "cell_type": "code",
   "execution_count": 188,
   "metadata": {},
   "outputs": [
    {
     "name": "stdout",
     "output_type": "stream",
     "text": [
      "    Student ID   name  age  gender\n",
      "0         1100  Kelly   22  Female\n",
      "1         1101    Clo   21  Female\n",
      "2         1102  Tilly   23  Female\n",
      "3         1103   Tony   24    Male\n",
      "4         1104  David   25    Male\n",
      "5         1105   Jack   22    Male\n",
      "6         1106  Catty   23  Female\n",
      "7         1107  Milly   22  Female\n",
      "8         1108   Jone   22    Male\n",
      "9         1109  Jason   19    Male\n",
      "10        1110    Tom   25    Male\n",
      "11        1111  Lilly   25  Female\n"
     ]
    }
   ],
   "source": [
    "import pandas as pd\n",
    "import numpy as np\n",
    "\n",
    "data = pd.read_csv('files/student.csv') # 自动加行索引\n",
    "print(data)\n",
    "\n",
    "data.to_pickle('files/student.pickle')"
   ]
  },
  {
   "cell_type": "markdown",
   "metadata": {},
   "source": [
    "## Pandas 合并"
   ]
  },
  {
   "cell_type": "markdown",
   "metadata": {},
   "source": [
    "### concat"
   ]
  },
  {
   "cell_type": "code",
   "execution_count": 209,
   "metadata": {},
   "outputs": [
    {
     "name": "stdout",
     "output_type": "stream",
     "text": [
      "     a    b    c    d\n",
      "0  0.0  0.0  0.0  0.0\n",
      "1  0.0  0.0  0.0  0.0\n",
      "2  0.0  0.0  0.0  0.0\n",
      "3  1.0  1.0  1.0  1.0\n",
      "4  1.0  1.0  1.0  1.0\n",
      "5  1.0  1.0  1.0  1.0\n",
      "6  2.0  2.0  2.0  2.0\n",
      "7  2.0  2.0  2.0  2.0\n",
      "8  2.0  2.0  2.0  2.0\n"
     ]
    }
   ],
   "source": [
    "import pandas as pd\n",
    "import numpy as np\n",
    "\n",
    "df1 = pd.DataFrame(np.ones((3,4))*0,columns=['a','b','c','d']) # 同列索引同数据\n",
    "df2 = pd.DataFrame(np.ones((3,4))*1,columns=['a','b','c','d'])\n",
    "df3 = pd.DataFrame(np.ones((3,4))*2,columns=['a','b','c','d'])\n",
    "\n",
    "res = pd.concat([df1,df2,df3], axis=0, ignore_index=True) # 垂直合并 行索引重新排序\n",
    "print(res)"
   ]
  },
  {
   "cell_type": "markdown",
   "metadata": {},
   "source": [
    "### join"
   ]
  },
  {
   "cell_type": "code",
   "execution_count": 210,
   "metadata": {},
   "outputs": [
    {
     "name": "stdout",
     "output_type": "stream",
     "text": [
      "     a    b    c    d    e\n",
      "0  0.0  0.0  0.0  0.0  NaN\n",
      "1  0.0  0.0  0.0  0.0  NaN\n",
      "2  0.0  0.0  0.0  0.0  NaN\n",
      "3  NaN  1.0  1.0  1.0  1.0\n",
      "4  NaN  1.0  1.0  1.0  1.0\n",
      "5  NaN  1.0  1.0  1.0  1.0\n",
      "     b    c    d\n",
      "0  0.0  0.0  0.0\n",
      "1  0.0  0.0  0.0\n",
      "2  0.0  0.0  0.0\n",
      "3  1.0  1.0  1.0\n",
      "4  1.0  1.0  1.0\n",
      "5  1.0  1.0  1.0\n"
     ]
    },
    {
     "name": "stderr",
     "output_type": "stream",
     "text": [
      "C:\\Users\\will\\Anaconda3\\lib\\site-packages\\ipykernel_launcher.py:7: FutureWarning: Sorting because non-concatenation axis is not aligned. A future version\n",
      "of pandas will change to not sort by default.\n",
      "\n",
      "To accept the future behavior, pass 'sort=False'.\n",
      "\n",
      "To retain the current behavior and silence the warning, pass 'sort=True'.\n",
      "\n",
      "  import sys\n"
     ]
    }
   ],
   "source": [
    "import pandas as pd\n",
    "import numpy as np\n",
    "\n",
    "df1 = pd.DataFrame(np.ones((3,4))*0,index=[1,2,3],columns=['a','b','c','d']) # 不同索引\n",
    "df2 = pd.DataFrame(np.ones((3,4))*1,index=[2,3,4],columns=['b','c','d','e'])\n",
    "\n",
    "res = pd.concat([df1,df2], join='outer', ignore_index=True) # 取并集 无则NaN\n",
    "print(res)\n",
    "\n",
    "res = pd.concat([df1,df2], join='inner', ignore_index=True) # 取交集 无则减去\n",
    "print(res)"
   ]
  },
  {
   "cell_type": "markdown",
   "metadata": {},
   "source": [
    "### join_axes"
   ]
  },
  {
   "cell_type": "code",
   "execution_count": 211,
   "metadata": {},
   "outputs": [
    {
     "name": "stdout",
     "output_type": "stream",
     "text": [
      "     a    b    c    d    b    c    d    e\n",
      "1  0.0  0.0  0.0  0.0  NaN  NaN  NaN  NaN\n",
      "2  0.0  0.0  0.0  0.0  1.0  1.0  1.0  1.0\n",
      "3  0.0  0.0  0.0  0.0  1.0  1.0  1.0  1.0\n",
      "4  NaN  NaN  NaN  NaN  1.0  1.0  1.0  1.0\n",
      "     a    b    c    d    b    c    d    e\n",
      "1  0.0  0.0  0.0  0.0  NaN  NaN  NaN  NaN\n",
      "2  0.0  0.0  0.0  0.0  1.0  1.0  1.0  1.0\n",
      "3  0.0  0.0  0.0  0.0  1.0  1.0  1.0  1.0\n"
     ]
    }
   ],
   "source": [
    "res = pd.concat([df1,df2],axis=1) # 按df1 的行索引合并，无则NAN\n",
    "print(res)\n",
    "\n",
    "res = pd.concat([df1,df2],axis=1, join_axes=[df1.index]) # 按df1 的行索引合并，无则NAN\n",
    "print(res)"
   ]
  },
  {
   "cell_type": "markdown",
   "metadata": {},
   "source": [
    "### append"
   ]
  },
  {
   "cell_type": "code",
   "execution_count": 213,
   "metadata": {},
   "outputs": [
    {
     "name": "stdout",
     "output_type": "stream",
     "text": [
      "     a    b    c    d    e\n",
      "0  0.0  0.0  0.0  0.0  NaN\n",
      "1  0.0  0.0  0.0  0.0  NaN\n",
      "2  0.0  0.0  0.0  0.0  NaN\n",
      "3  NaN  1.0  1.0  1.0  1.0\n",
      "4  NaN  1.0  1.0  1.0  1.0\n",
      "5  NaN  1.0  1.0  1.0  1.0\n"
     ]
    },
    {
     "name": "stderr",
     "output_type": "stream",
     "text": [
      "C:\\Users\\will\\Anaconda3\\lib\\site-packages\\pandas\\core\\frame.py:6692: FutureWarning: Sorting because non-concatenation axis is not aligned. A future version\n",
      "of pandas will change to not sort by default.\n",
      "\n",
      "To accept the future behavior, pass 'sort=False'.\n",
      "\n",
      "To retain the current behavior and silence the warning, pass 'sort=True'.\n",
      "\n",
      "  sort=sort)\n"
     ]
    }
   ],
   "source": [
    "res = df1.append(df2, ignore_index=True)\n",
    "print(res)"
   ]
  },
  {
   "cell_type": "code",
   "execution_count": null,
   "metadata": {},
   "outputs": [],
   "source": []
  },
  {
   "cell_type": "code",
   "execution_count": null,
   "metadata": {},
   "outputs": [],
   "source": []
  },
  {
   "cell_type": "code",
   "execution_count": null,
   "metadata": {},
   "outputs": [],
   "source": []
  }
 ],
 "metadata": {
  "kernelspec": {
   "display_name": "Python 3",
   "language": "python",
   "name": "python3"
  },
  "language_info": {
   "codemirror_mode": {
    "name": "ipython",
    "version": 3
   },
   "file_extension": ".py",
   "mimetype": "text/x-python",
   "name": "python",
   "nbconvert_exporter": "python",
   "pygments_lexer": "ipython3",
   "version": "3.7.0"
  },
  "toc": {
   "base_numbering": 1,
   "nav_menu": {},
   "number_sections": true,
   "sideBar": true,
   "skip_h1_title": false,
   "title_cell": "Table of Contents",
   "title_sidebar": "Contents",
   "toc_cell": false,
   "toc_position": {
    "height": "calc(100% - 180px)",
    "left": "10px",
    "top": "150px",
    "width": "349.075px"
   },
   "toc_section_display": true,
   "toc_window_display": true
  }
 },
 "nbformat": 4,
 "nbformat_minor": 2
}
