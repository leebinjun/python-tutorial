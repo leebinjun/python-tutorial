{
 "cells": [
  {
   "cell_type": "markdown",
   "metadata": {},
   "source": [
    "Python3 基本数据类型"
   ]
  },
  {
   "cell_type": "markdown",
   "metadata": {},
   "source": [
    "# 变量"
   ]
  },
  {
   "cell_type": "markdown",
   "metadata": {},
   "source": [
    "## 变量赋值-创建"
   ]
  },
  {
   "cell_type": "markdown",
   "metadata": {},
   "source": [
    "1. Python 中的变量不需要声明。每个变量在使用前都必须赋值，变量赋值以后该变量才会被创建。\n",
    "2. 在 Python 中，变量就是变量，它没有类型，我们所说的\"类型\"是变量所指的内存中对象的类型。\n",
    "   + 等号（=）用来给变量赋值。\n",
    "    等号（=）运算符左边是一个变量名,等号（=）运算符右边是存储在变量中的值。例如："
   ]
  },
  {
   "cell_type": "code",
   "execution_count": 8,
   "metadata": {
    "scrolled": true
   },
   "outputs": [
    {
     "name": "stdout",
     "output_type": "stream",
     "text": [
      "100\n",
      "1000.0\n",
      "runoob\n"
     ]
    }
   ],
   "source": [
    "counter = 100          # 整型变量\n",
    "miles   = 1000.0       # 浮点型变量\n",
    "name    = \"runoob\"     # 字符串\n",
    " \n",
    "print (counter)\n",
    "print (miles)\n",
    "print (name)"
   ]
  },
  {
   "cell_type": "markdown",
   "metadata": {},
   "source": [
    "## 多个变量赋值"
   ]
  },
  {
   "cell_type": "markdown",
   "metadata": {},
   "source": [
    "三个变量被赋予相同的数值，创建一个整型对象，值为 1，从后向前赋值。"
   ]
  },
  {
   "cell_type": "code",
   "execution_count": 9,
   "metadata": {},
   "outputs": [
    {
     "name": "stdout",
     "output_type": "stream",
     "text": [
      "1 1 1\n"
     ]
    }
   ],
   "source": [
    "a = b = c = 1\n",
    "print(a,b,c)"
   ]
  },
  {
   "cell_type": "markdown",
   "metadata": {},
   "source": [
    "为多个对象指定多个变量，两个整型对象 1 和 2 的分配给变量 a 和 b，字符串对象 \"runoob\" 分配给变量 c。"
   ]
  },
  {
   "cell_type": "code",
   "execution_count": 10,
   "metadata": {},
   "outputs": [
    {
     "name": "stdout",
     "output_type": "stream",
     "text": [
      "1 2 runoob\n"
     ]
    }
   ],
   "source": [
    "a, b, c = 1, 2, \"runoob\"\n",
    "print(a,b,c)"
   ]
  },
  {
   "cell_type": "markdown",
   "metadata": {},
   "source": [
    "# 标准数据类型"
   ]
  },
  {
   "cell_type": "markdown",
   "metadata": {},
   "source": [
    "Python3 中有六个标准的数据类型：\n",
    "\n",
    "- 不可变数据\n",
    "  1. Number（数字）\n",
    "  2. String（字符串）\n",
    "  3. Tuple（元组）\n",
    "\n",
    "- 可变数据\n",
    "  1. List（列表）\n",
    "  2. Set（集合）\n",
    "  3. Dictionary（字典）"
   ]
  },
  {
   "cell_type": "markdown",
   "metadata": {},
   "source": [
    "## Number（数字）"
   ]
  },
  {
   "cell_type": "markdown",
   "metadata": {},
   "source": [
    "### 类型"
   ]
  },
  {
   "cell_type": "markdown",
   "metadata": {},
   "source": [
    "Python 支持4种不同的数值类型：\n",
    "\n",
    "1. 整型(Int) - 通常被称为是整型或整数，是正或负整数，不带小数点\n",
    "2. 浮点型(float) - 浮点型由整数部分与小数部分组成\n",
    "3. 布尔(bool) - 如 True\n",
    "4. 复数(complex) - 复数由实数部分和虚数部分构成，可以用a + bj,或者complex(a,b)表示"
   ]
  },
  {
   "cell_type": "markdown",
   "metadata": {},
   "source": [
    "我们可以使用十六进制和八进制来代表整数"
   ]
  },
  {
   "cell_type": "code",
   "execution_count": 11,
   "metadata": {},
   "outputs": [
    {
     "data": {
      "text/plain": [
       "2575"
      ]
     },
     "execution_count": 11,
     "metadata": {},
     "output_type": "execute_result"
    }
   ],
   "source": [
    "number = 0xA0F # 十六进制\n",
    "number"
   ]
  },
  {
   "cell_type": "code",
   "execution_count": 12,
   "metadata": {},
   "outputs": [
    {
     "data": {
      "text/plain": [
       "31"
      ]
     },
     "execution_count": 12,
     "metadata": {},
     "output_type": "execute_result"
    }
   ],
   "source": [
    "number=0o37    # 八进制\n",
    "number"
   ]
  },
  {
   "cell_type": "markdown",
   "metadata": {},
   "source": [
    "1. 用 type() 函数 来查询变量所指的对象类型\n",
    "2. 用 isinstance 函数 来判断变量所指的对象类型"
   ]
  },
  {
   "cell_type": "code",
   "execution_count": 13,
   "metadata": {},
   "outputs": [
    {
     "name": "stdout",
     "output_type": "stream",
     "text": [
      "<class 'int'> <class 'float'> <class 'bool'> <class 'complex'>\n"
     ]
    }
   ],
   "source": [
    "a, b, c, d = 20, 5.5, True, 4+3j\n",
    "print(type(a), type(b), type(c), type(d))"
   ]
  },
  {
   "cell_type": "code",
   "execution_count": 14,
   "metadata": {},
   "outputs": [
    {
     "data": {
      "text/plain": [
       "True"
      ]
     },
     "execution_count": 14,
     "metadata": {},
     "output_type": "execute_result"
    }
   ],
   "source": [
    "a = 111\n",
    "isinstance(a, int)"
   ]
  },
  {
   "cell_type": "markdown",
   "metadata": {},
   "source": [
    "### 数字类型转换"
   ]
  },
  {
   "cell_type": "markdown",
   "metadata": {},
   "source": [
    "数据类型的转换，你只需要将数据类型作为函数名即可\n",
    "\n",
    "1. int(x) 将x转换为一个整数\n",
    "\n",
    "2. float(x) 将x转换到一个浮点数\n",
    "\n",
    "3. complex(x) 将x转换到一个复数，实数部分为 x，虚数部分为 0\n",
    "\n",
    "4. complex(x, y) 将 x 和 y 转换到一个复数，实数部分为 x，虚数部分为 y"
   ]
  },
  {
   "cell_type": "markdown",
   "metadata": {},
   "source": [
    "### 数字运算"
   ]
  },
  {
   "cell_type": "code",
   "execution_count": 15,
   "metadata": {},
   "outputs": [
    {
     "data": {
      "text/plain": [
       "9"
      ]
     },
     "execution_count": 15,
     "metadata": {},
     "output_type": "execute_result"
    }
   ],
   "source": [
    "5 + 4  # 加法"
   ]
  },
  {
   "cell_type": "code",
   "execution_count": 16,
   "metadata": {},
   "outputs": [
    {
     "data": {
      "text/plain": [
       "2.3"
      ]
     },
     "execution_count": 16,
     "metadata": {},
     "output_type": "execute_result"
    }
   ],
   "source": [
    "4.3 - 2 # 减法"
   ]
  },
  {
   "cell_type": "code",
   "execution_count": 17,
   "metadata": {},
   "outputs": [
    {
     "data": {
      "text/plain": [
       "21"
      ]
     },
     "execution_count": 17,
     "metadata": {},
     "output_type": "execute_result"
    }
   ],
   "source": [
    "3 * 7  # 乘法"
   ]
  },
  {
   "cell_type": "code",
   "execution_count": 18,
   "metadata": {},
   "outputs": [
    {
     "data": {
      "text/plain": [
       "0.5"
      ]
     },
     "execution_count": 18,
     "metadata": {},
     "output_type": "execute_result"
    }
   ],
   "source": [
    "2 / 4  # 除法，得到一个浮点数"
   ]
  },
  {
   "cell_type": "code",
   "execution_count": 19,
   "metadata": {},
   "outputs": [
    {
     "data": {
      "text/plain": [
       "32"
      ]
     },
     "execution_count": 19,
     "metadata": {},
     "output_type": "execute_result"
    }
   ],
   "source": [
    "2 ** 5 # 乘方"
   ]
  },
  {
   "cell_type": "code",
   "execution_count": 20,
   "metadata": {},
   "outputs": [
    {
     "data": {
      "text/plain": [
       "2"
      ]
     },
     "execution_count": 20,
     "metadata": {},
     "output_type": "execute_result"
    }
   ],
   "source": [
    "17 % 3 # 取余（只允许整型）"
   ]
  },
  {
   "cell_type": "code",
   "execution_count": 21,
   "metadata": {},
   "outputs": [
    {
     "data": {
      "text/plain": [
       "0"
      ]
     },
     "execution_count": 21,
     "metadata": {},
     "output_type": "execute_result"
    }
   ],
   "source": [
    "2 // 4 # 除法，得到一个整数"
   ]
  },
  {
   "cell_type": "code",
   "execution_count": 22,
   "metadata": {},
   "outputs": [
    {
     "data": {
      "text/plain": [
       "3.0"
      ]
     },
     "execution_count": 22,
     "metadata": {},
     "output_type": "execute_result"
    }
   ],
   "source": [
    "7.0 // 2 # //得到的并不一定是整数类型的数，它与分母分子的数据类型有关系"
   ]
  },
  {
   "cell_type": "markdown",
   "metadata": {},
   "source": [
    "不同类型的数混合运算时会将整数转换为浮点数："
   ]
  },
  {
   "cell_type": "code",
   "execution_count": 23,
   "metadata": {},
   "outputs": [
    {
     "data": {
      "text/plain": [
       "7.5"
      ]
     },
     "execution_count": 23,
     "metadata": {},
     "output_type": "execute_result"
    }
   ],
   "source": [
    "3 * 3.75 / 1.5"
   ]
  },
  {
   "cell_type": "markdown",
   "metadata": {},
   "source": [
    "### 数学函数"
   ]
  },
  {
   "cell_type": "markdown",
   "metadata": {},
   "source": [
    "round()内置方法\n",
    "   1. 如果只有一个数作为参数，不指定位数的时候，返回的是一个整数，而且是最靠近的整数（这点上类似四舍五入）。\n",
    "         - round(2.2) = 2\n",
    "         - round(2.6) = 3\n",
    "   2. 但是当出现.5 的时候，两边的距离都一样，round()取靠近的偶数。\n",
    "         - round(2.5) = 2\n",
    "         - round(3.5) = 3\n",
    "   3. 当指定取舍的小数点位数的时候，一般情况也是使用四舍五入的规则，但是碰到.5 的这样情况；\n",
    "         - 如果要取舍的位数前的小树是奇数，则直接舍弃。print(round(2.655,2)) = 2.65\n",
    "         - 如果偶数这向上取舍。round(2.665,2) = 2.67"
   ]
  },
  {
   "cell_type": "code",
   "execution_count": 24,
   "metadata": {},
   "outputs": [
    {
     "data": {
      "text/plain": [
       "3.1416"
      ]
     },
     "execution_count": 24,
     "metadata": {},
     "output_type": "execute_result"
    }
   ],
   "source": [
    "round(3.1415926,4) # round( x , n]  ), x 保留n位小数，需要四舍五入"
   ]
  },
  {
   "cell_type": "code",
   "execution_count": 25,
   "metadata": {},
   "outputs": [
    {
     "data": {
      "text/plain": [
       "1"
      ]
     },
     "execution_count": 25,
     "metadata": {},
     "output_type": "execute_result"
    }
   ],
   "source": [
    "abs(-1) # 返回数字的绝对值"
   ]
  },
  {
   "cell_type": "code",
   "execution_count": 26,
   "metadata": {},
   "outputs": [
    {
     "data": {
      "text/plain": [
       "9"
      ]
     },
     "execution_count": 26,
     "metadata": {},
     "output_type": "execute_result"
    }
   ],
   "source": [
    "max(1,2,3,4,5,6,7,8,9,0)"
   ]
  },
  {
   "cell_type": "code",
   "execution_count": 27,
   "metadata": {},
   "outputs": [
    {
     "data": {
      "text/plain": [
       "0"
      ]
     },
     "execution_count": 27,
     "metadata": {},
     "output_type": "execute_result"
    }
   ],
   "source": [
    "min(1,2,3,4,5,6,7,8,9,0)"
   ]
  },
  {
   "cell_type": "code",
   "execution_count": 28,
   "metadata": {},
   "outputs": [
    {
     "data": {
      "text/plain": [
       "8"
      ]
     },
     "execution_count": 28,
     "metadata": {},
     "output_type": "execute_result"
    }
   ],
   "source": [
    "pow(2, 3) # pow(x, y), 返回x**y 运算后的值。"
   ]
  },
  {
   "cell_type": "markdown",
   "metadata": {},
   "source": [
    "需 import math 后使用"
   ]
  },
  {
   "cell_type": "code",
   "execution_count": 29,
   "metadata": {
    "scrolled": true
   },
   "outputs": [
    {
     "data": {
      "text/plain": [
       "2.0"
      ]
     },
     "execution_count": 29,
     "metadata": {},
     "output_type": "execute_result"
    }
   ],
   "source": [
    "import math\n",
    "math.sqrt(4) # sqrt(x), 返回数字x的平方根。"
   ]
  },
  {
   "cell_type": "code",
   "execution_count": 30,
   "metadata": {},
   "outputs": [
    {
     "data": {
      "text/plain": [
       "(0.23000000000000043, 4.0)"
      ]
     },
     "execution_count": 30,
     "metadata": {},
     "output_type": "execute_result"
    }
   ],
   "source": [
    "import math\n",
    "math.modf( 4.23 ) # math.modf( x )，返回数字x的整数部分与小数部分"
   ]
  },
  {
   "cell_type": "code",
   "execution_count": 31,
   "metadata": {},
   "outputs": [
    {
     "data": {
      "text/plain": [
       "5"
      ]
     },
     "execution_count": 31,
     "metadata": {},
     "output_type": "execute_result"
    }
   ],
   "source": [
    "import math\n",
    "math.ceil(4.1) # 返回数字的上入整数"
   ]
  },
  {
   "cell_type": "code",
   "execution_count": 32,
   "metadata": {},
   "outputs": [
    {
     "data": {
      "text/plain": [
       "4"
      ]
     },
     "execution_count": 32,
     "metadata": {},
     "output_type": "execute_result"
    }
   ],
   "source": [
    "import math\n",
    "math.floor(4.1) # 返回数字的下舍整数"
   ]
  },
  {
   "cell_type": "code",
   "execution_count": 33,
   "metadata": {},
   "outputs": [
    {
     "data": {
      "text/plain": [
       "2.718281828459045"
      ]
     },
     "execution_count": 33,
     "metadata": {},
     "output_type": "execute_result"
    }
   ],
   "source": [
    "import math\n",
    "math.exp(1) # exp(x), 返回e的x次幂(ex)"
   ]
  },
  {
   "cell_type": "code",
   "execution_count": 34,
   "metadata": {},
   "outputs": [
    {
     "data": {
      "text/plain": [
       "2.0"
      ]
     },
     "execution_count": 34,
     "metadata": {},
     "output_type": "execute_result"
    }
   ],
   "source": [
    "import math\n",
    "math.log(100,10) # math.log(值.基数),math.log(100,10)返回2.0"
   ]
  },
  {
   "cell_type": "code",
   "execution_count": 35,
   "metadata": {},
   "outputs": [
    {
     "data": {
      "text/plain": [
       "2.0"
      ]
     },
     "execution_count": 35,
     "metadata": {},
     "output_type": "execute_result"
    }
   ],
   "source": [
    "import math\n",
    "math.log10(100) # math.logM(X), 返回以M为基数的X的对数"
   ]
  },
  {
   "cell_type": "markdown",
   "metadata": {},
   "source": [
    "### 随机数函数"
   ]
  },
  {
   "cell_type": "markdown",
   "metadata": {},
   "source": [
    "random() 方法返回随机生成的一个实数，它在[0,1)范围内。"
   ]
  },
  {
   "cell_type": "code",
   "execution_count": 36,
   "metadata": {},
   "outputs": [
    {
     "name": "stdout",
     "output_type": "stream",
     "text": [
      "random() :  0.9457483750744298\n",
      "random() :  0.9444525154845035\n"
     ]
    }
   ],
   "source": [
    "import random\n",
    "\n",
    "# 第一个随机数\n",
    "print (\"random() : \", random.random())\n",
    "\n",
    "# 第二个随机数\n",
    "print (\"random() : \", random.random())"
   ]
  },
  {
   "cell_type": "markdown",
   "metadata": {},
   "source": [
    "random.choice() 方法返回一个列表，元组或字符串的随机项"
   ]
  },
  {
   "cell_type": "code",
   "execution_count": 37,
   "metadata": {},
   "outputs": [
    {
     "name": "stdout",
     "output_type": "stream",
     "text": [
      "从 range(100) 返回一个随机数 :  28\n",
      "从列表中 [1, 2, 3, 5, 9]) 返回一个随机元素 :  2\n",
      "从字符串中 'Runoob' 返回一个随机字符 :  R\n"
     ]
    }
   ],
   "source": [
    "import random\n",
    "\n",
    "print (\"从 range(100) 返回一个随机数 : \",random.choice(range(100)))\n",
    "print (\"从列表中 [1, 2, 3, 5, 9]) 返回一个随机元素 : \", random.choice([1, 2, 3, 5, 9]))\n",
    "print (\"从字符串中 'Runoob' 返回一个随机字符 : \", random.choice('Runoob'))"
   ]
  },
  {
   "cell_type": "markdown",
   "metadata": {},
   "source": [
    "random.randrange (start, stop ,step)\n",
    "random.randrange (stop)==random.randrange (0, stop ,1)\n",
    "1. start -- 指定范围内的开始值，包含在范围内。\n",
    "2. stop -- 指定范围内的结束值，不包含在范围内。\n",
    "3. step -- 指定递增基数。"
   ]
  },
  {
   "cell_type": "code",
   "execution_count": 38,
   "metadata": {},
   "outputs": [
    {
     "name": "stdout",
     "output_type": "stream",
     "text": [
      "randrange(1,100, 2) :  93\n",
      "randrange(100) :  39\n"
     ]
    }
   ],
   "source": [
    "import random\n",
    " \n",
    "# 从 1-100 中选取一个奇数\n",
    "print (\"randrange(1,100, 2) : \", random.randrange(1, 100, 2))\n",
    " \n",
    "# 从 0-99 选取一个随机数\n",
    "print (\"randrange(100) : \", random.randrange(100))"
   ]
  },
  {
   "cell_type": "markdown",
   "metadata": {},
   "source": [
    "random.uniform() 方法将随机生成下一个实数，它在 [x,y] 范围内"
   ]
  },
  {
   "cell_type": "code",
   "execution_count": 39,
   "metadata": {},
   "outputs": [
    {
     "name": "stdout",
     "output_type": "stream",
     "text": [
      "uniform(5, 10) 的随机浮点数 :  6.011476018536204\n",
      "uniform(7, 14) 的随机浮点数 :  13.855100212556705\n"
     ]
    }
   ],
   "source": [
    "import random\n",
    " \n",
    "print (\"uniform(5, 10) 的随机浮点数 : \",  random.uniform(5, 10))\n",
    " \n",
    "print (\"uniform(7, 14) 的随机浮点数 : \",  random.uniform(7, 14))"
   ]
  },
  {
   "cell_type": "markdown",
   "metadata": {},
   "source": [
    "random.shuffle() 方法将序列的所有元素随机排序"
   ]
  },
  {
   "cell_type": "code",
   "execution_count": 40,
   "metadata": {},
   "outputs": [
    {
     "name": "stdout",
     "output_type": "stream",
     "text": [
      "随机排序列表 :  [5, 16, 20, 10]\n",
      "随机排序列表 :  [10, 20, 5, 16]\n"
     ]
    }
   ],
   "source": [
    "import random\n",
    " \n",
    "list = [20, 16, 10, 5];\n",
    "random.shuffle(list)\n",
    "print (\"随机排序列表 : \",  list)\n",
    " \n",
    "random.shuffle(list)\n",
    "print (\"随机排序列表 : \",  list)"
   ]
  },
  {
   "cell_type": "markdown",
   "metadata": {},
   "source": [
    "### 三角函数"
   ]
  },
  {
   "cell_type": "markdown",
   "metadata": {},
   "source": [
    "1. acos(x) : 返回x的反余弦弧度值"
   ]
  },
  {
   "cell_type": "code",
   "execution_count": 41,
   "metadata": {},
   "outputs": [
    {
     "name": "stdout",
     "output_type": "stream",
     "text": [
      "acos(0.64) :  0.8762980611683406\n"
     ]
    }
   ],
   "source": [
    "import math\n",
    "\n",
    "print (\"acos(0.64) : \",  math.acos(0.64))"
   ]
  },
  {
   "cell_type": "markdown",
   "metadata": {},
   "source": [
    "2. asin(x) : 返回x的反正弦弧度值"
   ]
  },
  {
   "cell_type": "code",
   "execution_count": 42,
   "metadata": {},
   "outputs": [
    {
     "name": "stdout",
     "output_type": "stream",
     "text": [
      "asin(0.64) :  0.694498265626556\n"
     ]
    }
   ],
   "source": [
    "import math\n",
    "\n",
    "print (\"asin(0.64) : \",  math.asin(0.64))"
   ]
  },
  {
   "cell_type": "markdown",
   "metadata": {},
   "source": [
    "3. atan(x) : 返回x的反正切弧度值"
   ]
  },
  {
   "cell_type": "code",
   "execution_count": 43,
   "metadata": {},
   "outputs": [
    {
     "name": "stdout",
     "output_type": "stream",
     "text": [
      "atan(0.64) :  0.5693131911006619\n"
     ]
    }
   ],
   "source": [
    "import math\n",
    "\n",
    "print (\"atan(0.64) : \",  math.atan(0.64))"
   ]
  },
  {
   "cell_type": "markdown",
   "metadata": {},
   "source": [
    "4. atan2(y, x) : 返回给定的 X 及 Y 坐标值的反正切值"
   ]
  },
  {
   "cell_type": "code",
   "execution_count": 44,
   "metadata": {},
   "outputs": [
    {
     "name": "stdout",
     "output_type": "stream",
     "text": [
      "atan2(-0.50,-0.50) :  -2.356194490192345\n"
     ]
    }
   ],
   "source": [
    "import math\n",
    "\n",
    "print (\"atan2(-0.50,-0.50) : \",  math.atan2(-0.50,-0.50))"
   ]
  },
  {
   "cell_type": "markdown",
   "metadata": {},
   "source": [
    "5. cos(x) : 返回x的弧度的余弦值。"
   ]
  },
  {
   "cell_type": "code",
   "execution_count": 45,
   "metadata": {},
   "outputs": [
    {
     "name": "stdout",
     "output_type": "stream",
     "text": [
      "cos(3) :  -0.9899924966004454\n"
     ]
    }
   ],
   "source": [
    "import math\n",
    "\n",
    "print (\"cos(3) : \",  math.cos(3))"
   ]
  },
  {
   "cell_type": "markdown",
   "metadata": {},
   "source": [
    "6. hypot(x, y) : 返回欧几里德范数 sqrt(x*x + y*y)"
   ]
  },
  {
   "cell_type": "code",
   "execution_count": 46,
   "metadata": {},
   "outputs": [
    {
     "name": "stdout",
     "output_type": "stream",
     "text": [
      "hypot(3, 2) :  3.605551275463989\n"
     ]
    }
   ],
   "source": [
    "import math\n",
    "\n",
    "print (\"hypot(3, 2) : \",  math.hypot(3, 2))"
   ]
  },
  {
   "cell_type": "markdown",
   "metadata": {},
   "source": [
    "7. sin(x) : 返回的x弧度的正弦值"
   ]
  },
  {
   "cell_type": "code",
   "execution_count": 47,
   "metadata": {},
   "outputs": [
    {
     "name": "stdout",
     "output_type": "stream",
     "text": [
      "sin(3) :  0.1411200080598672\n"
     ]
    }
   ],
   "source": [
    "import math\n",
    "\n",
    "print (\"sin(3) : \",  math.sin(3))"
   ]
  },
  {
   "cell_type": "markdown",
   "metadata": {},
   "source": [
    "8. tan(x) : 返回x弧度的正切值。"
   ]
  },
  {
   "cell_type": "code",
   "execution_count": 48,
   "metadata": {},
   "outputs": [
    {
     "name": "stdout",
     "output_type": "stream",
     "text": [
      "(tan(3) :  -0.1425465430742778\n",
      "tan(math.pi/4) :  0.9999999999999999\n"
     ]
    }
   ],
   "source": [
    "import math\n",
    " \n",
    "print (\"(tan(3) : \",  math.tan(3))\n",
    "print (\"tan(math.pi/4) : \",  math.tan(math.pi/4))"
   ]
  },
  {
   "cell_type": "markdown",
   "metadata": {},
   "source": [
    "9. degrees(x) : 将弧度转换为角度,如degrees(math.pi/2) ， 返回90.0"
   ]
  },
  {
   "cell_type": "code",
   "execution_count": 49,
   "metadata": {},
   "outputs": [
    {
     "name": "stdout",
     "output_type": "stream",
     "text": [
      "degrees(3) :  171.88733853924697\n",
      "degrees(math.pi/4) :  45.0\n"
     ]
    }
   ],
   "source": [
    "import math\n",
    "\n",
    "print (\"degrees(3) : \",  math.degrees(3))\n",
    "print (\"degrees(math.pi/4) : \",  math.degrees(math.pi/4))"
   ]
  },
  {
   "cell_type": "markdown",
   "metadata": {},
   "source": [
    "10. radians(x) : 将角度转换为弧度"
   ]
  },
  {
   "cell_type": "code",
   "execution_count": 50,
   "metadata": {},
   "outputs": [
    {
     "name": "stdout",
     "output_type": "stream",
     "text": [
      "radians(3) :  0.05235987755982989\n"
     ]
    }
   ],
   "source": [
    "import math\n",
    "\n",
    "print (\"radians(3) : \",  math.radians(3))"
   ]
  },
  {
   "cell_type": "markdown",
   "metadata": {},
   "source": [
    "### 数学常量"
   ]
  },
  {
   "cell_type": "code",
   "execution_count": 51,
   "metadata": {},
   "outputs": [
    {
     "data": {
      "text/plain": [
       "3.141592653589793"
      ]
     },
     "execution_count": 51,
     "metadata": {},
     "output_type": "execute_result"
    }
   ],
   "source": [
    "import random\n",
    "math.pi        # 数学常量 pi（圆周率，一般以π来表示）"
   ]
  },
  {
   "cell_type": "code",
   "execution_count": 52,
   "metadata": {},
   "outputs": [
    {
     "data": {
      "text/plain": [
       "2.718281828459045"
      ]
     },
     "execution_count": 52,
     "metadata": {},
     "output_type": "execute_result"
    }
   ],
   "source": [
    "import random\n",
    "math.e         # 数学常量 e，e即自然常数（自然常数）"
   ]
  },
  {
   "cell_type": "markdown",
   "metadata": {},
   "source": [
    "## String（字符串）"
   ]
  },
  {
   "cell_type": "markdown",
   "metadata": {},
   "source": [
    "字符串是 Python 中最常用的数据类型。我们可以使用引号( ' 或 \" )来创建字符串。\n",
    "\n",
    "创建字符串很简单，只要为变量分配一个值即可。例如："
   ]
  },
  {
   "cell_type": "code",
   "execution_count": 53,
   "metadata": {
    "collapsed": true
   },
   "outputs": [],
   "source": [
    "var1 = 'Hello World!'\n",
    "var2 = \"Runoob\""
   ]
  },
  {
   "cell_type": "markdown",
   "metadata": {},
   "source": [
    "### 字符串的 截取"
   ]
  },
  {
   "cell_type": "markdown",
   "metadata": {},
   "source": [
    "1. 字符串的截取的语法格式如下：变量[头下标:尾下标:步长]\n",
    "2. 索引值以 0 为开始值，-1 为从末尾的开始位置\n",
    "![jupyter](./pictures/1.jpg)"
   ]
  },
  {
   "cell_type": "code",
   "execution_count": 54,
   "metadata": {},
   "outputs": [
    {
     "name": "stdout",
     "output_type": "stream",
     "text": [
      "Runoab\n",
      "R\n",
      "b\n",
      "Runoa\n",
      "noa\n",
      "na\n",
      "noab\n",
      "Runo\n"
     ]
    }
   ],
   "source": [
    "str = 'Runoab'\n",
    " \n",
    "print (str)          # 输出字符串\n",
    "print (str[0])       # 输出字符串第一个字符\n",
    "print (str[-1])       # 输出字符串最后一个字符\n",
    "print (str[0:-1])    # 输出第一个到倒数第二个(最后一个之前)的所有字符\n",
    "print (str[2:5])     # 输出从第三个开始到第五个的字符\n",
    "print (str[2:5:2])     # 输出从第三个开始到第五个的字符步长为2\n",
    "print (str[2:])      # 输出从第三个开始的后的所有字符\n",
    "print (str[:-2])     # 输出倒数第二个之前的所有字符"
   ]
  },
  {
   "cell_type": "markdown",
   "metadata": {},
   "source": [
    "### 字符串的 连接&复制"
   ]
  },
  {
   "cell_type": "markdown",
   "metadata": {},
   "source": [
    "1. 加号 + 是字符串的连接符\n",
    "2. 星号 * 表示复制当前字符串，紧跟的数字为复制的次数。"
   ]
  },
  {
   "cell_type": "code",
   "execution_count": 55,
   "metadata": {
    "scrolled": true
   },
   "outputs": [
    {
     "name": "stdout",
     "output_type": "stream",
     "text": [
      "RunoobRunoobRunoobRunoob\n",
      "RunoobTEST\n"
     ]
    }
   ],
   "source": [
    "str = 'Runoob'\n",
    " \n",
    "print (str * 4)      # 输出字符串4次\n",
    "print (str + \"TEST\") # 连接字符串"
   ]
  },
  {
   "cell_type": "markdown",
   "metadata": {},
   "source": [
    "### 转义特殊字符"
   ]
  },
  {
   "cell_type": "markdown",
   "metadata": {},
   "source": [
    "1. 使用反斜杠(\\\\)转义特殊字符\n",
    "2. 在字符串前面添加一个 r，表示原始字符串"
   ]
  },
  {
   "cell_type": "code",
   "execution_count": 56,
   "metadata": {
    "scrolled": true
   },
   "outputs": [
    {
     "name": "stdout",
     "output_type": "stream",
     "text": [
      "Ru\n",
      "oob\n",
      "Ru\\noob\n"
     ]
    }
   ],
   "source": [
    "print('Ru\\noob')\n",
    "print(r'Ru\\noob')"
   ]
  },
  {
   "cell_type": "markdown",
   "metadata": {},
   "source": [
    "在需要在字符中使用特殊字符时，python用反斜杠(\\)转义字符。如下表：\n",
    "![jupyter](./pictures/3.jpg)"
   ]
  },
  {
   "cell_type": "markdown",
   "metadata": {},
   "source": [
    "### 字符串运算符"
   ]
  },
  {
   "cell_type": "code",
   "execution_count": 57,
   "metadata": {},
   "outputs": [
    {
     "name": "stdout",
     "output_type": "stream",
     "text": [
      "a + b 输出结果： HelloPython\n",
      "a * 3 输出结果： HelloHelloHello\n",
      "a[1] 输出结果： e\n",
      "a[1:4] 输出结果： ell\n",
      "H 在变量 a 中\n",
      "M 不在变量 a 中\n",
      "\\n\n",
      "\\n\n"
     ]
    }
   ],
   "source": [
    "a = \"Hello\"\n",
    "b = \"Python\"\n",
    " \n",
    "print(\"a + b 输出结果：\", a + b)\n",
    "print(\"a * 3 输出结果：\", a * 3)\n",
    "print(\"a[1] 输出结果：\", a[1])\n",
    "print(\"a[1:4] 输出结果：\", a[1:4])\n",
    " \n",
    "if( \"H\" in a) :\n",
    "    print(\"H 在变量 a 中\")\n",
    "else :\n",
    "    print(\"H 不在变量 a 中\")\n",
    " \n",
    "if( \"M\" not in a) :\n",
    "    print(\"M 不在变量 a 中\")\n",
    "else :\n",
    "    print(\"M 在变量 a 中\")\n",
    " \n",
    "print (r'\\n')\n",
    "print (R'\\n')"
   ]
  },
  {
   "cell_type": "markdown",
   "metadata": {},
   "source": [
    "### 字符串格式化"
   ]
  },
  {
   "cell_type": "markdown",
   "metadata": {},
   "source": [
    "Python 支持格式化字符串的输出 。尽管这样可能会用到非常复杂的表达式，但最基本的用法是将一个值插入到一个有字符串格式符 %s 的字符串中"
   ]
  },
  {
   "cell_type": "code",
   "execution_count": 58,
   "metadata": {},
   "outputs": [
    {
     "name": "stdout",
     "output_type": "stream",
     "text": [
      "我叫 小明 今年 10 岁!\n"
     ]
    }
   ],
   "source": [
    "print (\"我叫 %s 今年 %d 岁!\" % ('小明', 10))"
   ]
  },
  {
   "cell_type": "markdown",
   "metadata": {},
   "source": [
    "### Python三引号"
   ]
  },
  {
   "cell_type": "markdown",
   "metadata": {},
   "source": [
    "python三引号允许一个字符串跨多行，字符串中可以包含换行符、制表符以及其他特殊字符。实例如下"
   ]
  },
  {
   "cell_type": "code",
   "execution_count": 59,
   "metadata": {},
   "outputs": [
    {
     "name": "stdout",
     "output_type": "stream",
     "text": [
      "这是一个多行字符串的实例\n",
      "多行字符串可以使用制表符\n",
      "TAB ( \t )。\n",
      "也可以使用换行符 [ \n",
      " ]。\n",
      "\n"
     ]
    }
   ],
   "source": [
    "para_str = \"\"\"这是一个多行字符串的实例\n",
    "多行字符串可以使用制表符\n",
    "TAB ( \\t )。\n",
    "也可以使用换行符 [ \\n ]。\n",
    "\"\"\"\n",
    "print (para_str)"
   ]
  },
  {
   "cell_type": "markdown",
   "metadata": {},
   "source": [
    "### 字符串内建函数"
   ]
  },
  {
   "cell_type": "code",
   "execution_count": 60,
   "metadata": {},
   "outputs": [
    {
     "name": "stdout",
     "output_type": "stream",
     "text": [
      "len(str) :  44\n",
      "str.upper() :  THIS IS STRING EXAMPLE FROM RUNOOB....WOW!!!\n",
      "str.lower() :  this is string example from runoob....wow!!!\n",
      "str.title() :  This Is String Example From Runoob....Wow!!!\n"
     ]
    }
   ],
   "source": [
    "str = \"this is string example from runoob....wow!!!\"\n",
    "\n",
    "print (\"len(str) : \", len(str)) # 字符串长度\n",
    "\n",
    "print (\"str.upper() : \", str.upper()) # 返回小写字母转为大写字母的字符串\n",
    "\n",
    "print( \"str.lower() : \",str.lower() ) # 转换字符串中所有大写字符为小写\n",
    "\n",
    "print (\"str.title() : \",str.title()) # 返回\"标题化\"的字符串,就是说所有单词的首字母都转化为大写"
   ]
  },
  {
   "cell_type": "markdown",
   "metadata": {},
   "source": [
    "其他字符串函数\n",
    "https://www.runoob.com/python3/python3-string.html"
   ]
  },
  {
   "cell_type": "markdown",
   "metadata": {},
   "source": [
    "## Tuple（元组）"
   ]
  },
  {
   "cell_type": "markdown",
   "metadata": {},
   "source": [
    "Python 的元组与列表类似，不同之处在于元组的**元素不能修改**。\n",
    "\n",
    "元组使用小括号，列表使用方括号。\n",
    "\n",
    "元组创建很简单，只需要在括号中添加元素，并使用逗号隔开即可。\n",
    "\n",
    "- 元组中只包含一个元素时，需要在元素后面添加逗号，否则括号会被当作运算符使用"
   ]
  },
  {
   "cell_type": "markdown",
   "metadata": {},
   "source": [
    "### 访问元组"
   ]
  },
  {
   "cell_type": "code",
   "execution_count": 61,
   "metadata": {},
   "outputs": [
    {
     "name": "stdout",
     "output_type": "stream",
     "text": [
      "tup1[0]:  Google\n",
      "tup2[1:5]:  (2, 3, 4, 5)\n"
     ]
    }
   ],
   "source": [
    "tup1 = ('Google', 'Runoob', 1997, 2000)\n",
    "tup2 = (1, 2, 3, 4, 5, 6, 7 )\n",
    " \n",
    "print (\"tup1[0]: \", tup1[0])\n",
    "print (\"tup2[1:5]: \", tup2[1:5])"
   ]
  },
  {
   "cell_type": "markdown",
   "metadata": {},
   "source": [
    "### 修改元组（伪）"
   ]
  },
  {
   "cell_type": "markdown",
   "metadata": {},
   "source": [
    "元组中的元素值是不允许修改的，但我们可以对元组进行连接组合"
   ]
  },
  {
   "cell_type": "code",
   "execution_count": 62,
   "metadata": {},
   "outputs": [
    {
     "name": "stdout",
     "output_type": "stream",
     "text": [
      "(12, 34.56, 'abc', 'xyz')\n"
     ]
    }
   ],
   "source": [
    "tup1 = (12, 34.56);\n",
    "tup2 = ('abc', 'xyz')\n",
    " \n",
    "# 以下修改元组元素操作是非法的。\n",
    "# tup1[0] = 100\n",
    " \n",
    "# 创建一个新的元组\n",
    "tup3 = tup1 + tup2;\n",
    "print (tup3)"
   ]
  },
  {
   "cell_type": "markdown",
   "metadata": {},
   "source": [
    "### 删除元组（伪）"
   ]
  },
  {
   "cell_type": "markdown",
   "metadata": {},
   "source": [
    "元组中的元素值是不允许删除的，但我们可以使用del语句来删除整个元组\n",
    "元组被删除后，输出变量会有异常信息"
   ]
  },
  {
   "cell_type": "code",
   "execution_count": 63,
   "metadata": {},
   "outputs": [
    {
     "name": "stdout",
     "output_type": "stream",
     "text": [
      "('Google', 'Runoob', 1997, 2000)\n",
      "删除后的元组 tup : \n"
     ]
    },
    {
     "ename": "NameError",
     "evalue": "name 'tup' is not defined",
     "output_type": "error",
     "traceback": [
      "\u001b[1;31m---------------------------------------------------------------------------\u001b[0m",
      "\u001b[1;31mNameError\u001b[0m                                 Traceback (most recent call last)",
      "\u001b[1;32m<ipython-input-63-cc087dd11595>\u001b[0m in \u001b[0;36m<module>\u001b[1;34m()\u001b[0m\n\u001b[0;32m      4\u001b[0m \u001b[1;32mdel\u001b[0m \u001b[0mtup\u001b[0m\u001b[1;33m;\u001b[0m\u001b[1;33m\u001b[0m\u001b[0m\n\u001b[0;32m      5\u001b[0m \u001b[0mprint\u001b[0m \u001b[1;33m(\u001b[0m\u001b[1;34m\"删除后的元组 tup : \"\u001b[0m\u001b[1;33m)\u001b[0m\u001b[1;33m\u001b[0m\u001b[0m\n\u001b[1;32m----> 6\u001b[1;33m \u001b[0mprint\u001b[0m \u001b[1;33m(\u001b[0m\u001b[0mtup\u001b[0m\u001b[1;33m)\u001b[0m\u001b[1;33m\u001b[0m\u001b[0m\n\u001b[0m",
      "\u001b[1;31mNameError\u001b[0m: name 'tup' is not defined"
     ]
    }
   ],
   "source": [
    "tup = ('Google', 'Runoob', 1997, 2000)\n",
    " \n",
    "print (tup)\n",
    "del tup;\n",
    "print (\"删除后的元组 tup : \")\n",
    "print (tup)"
   ]
  },
  {
   "cell_type": "markdown",
   "metadata": {},
   "source": [
    "### 元组间操作"
   ]
  },
  {
   "cell_type": "markdown",
   "metadata": {},
   "source": [
    "与字符串一样，元组之间可以使用 + 号和 * 号进行运算。这就意味着他们可以组合和复制，运算后会生成一个新的元组。"
   ]
  },
  {
   "cell_type": "code",
   "execution_count": null,
   "metadata": {
    "collapsed": true
   },
   "outputs": [],
   "source": [
    "tup1 = ('Google', 'Runoob', 1997)\n",
    "tup2 = (1, 2, 3, 4)\n",
    "\n",
    "print (\"len(tup1) : \", len(tup1)) # 列表长度\n",
    "print (\"tup1+tup2 : \", tup1+tup2)\n",
    "print (\"tup1*2 : \", tup1*2)\n",
    "print (\"3 in tup2 : \", 3 in tup2,\"\\n\")\n",
    "\n",
    "print (tup1) \n",
    "print (tup2) "
   ]
  },
  {
   "cell_type": "markdown",
   "metadata": {},
   "source": [
    "### 元组--列表"
   ]
  },
  {
   "cell_type": "code",
   "execution_count": null,
   "metadata": {
    "collapsed": true
   },
   "outputs": [],
   "source": [
    "list1= ['Google', 'Taobao', 'Runoob', 'Baidu']\n",
    "tuple1=tuple(list1)\n",
    "\n",
    "\n",
    "print(list1)\n",
    "print(tuple1)"
   ]
  },
  {
   "cell_type": "markdown",
   "metadata": {},
   "source": [
    "## List（列表）"
   ]
  },
  {
   "cell_type": "markdown",
   "metadata": {},
   "source": [
    "序列是Python中最基本的数据结构。序列中的每个元素都分配一个数字 - 它的位置，或索引，第一个索引是0，第二个索引是1，依此类推。\n",
    "\n",
    "列表可以作为一个方括号内的逗号分隔值出现，列表的数据项不需要具有相同的类型"
   ]
  },
  {
   "cell_type": "code",
   "execution_count": null,
   "metadata": {
    "collapsed": true
   },
   "outputs": [],
   "source": [
    "list1 = ['Google', 'Runoob', 1997, 2000]\n",
    "list2 = [1, 2, 3, 4, 5 ]\n",
    "list3 = [\"a\", \"b\", \"c\", \"d\"]\n",
    "\n",
    "print (list1)\n",
    "print (list2)\n",
    "print (list3)"
   ]
  },
  {
   "cell_type": "markdown",
   "metadata": {},
   "source": [
    "### 访问列表中的值"
   ]
  },
  {
   "cell_type": "markdown",
   "metadata": {},
   "source": [
    "使用下标索引来访问列表中的值，同样你也可以使用方括号的形式截取字符"
   ]
  },
  {
   "cell_type": "code",
   "execution_count": null,
   "metadata": {
    "collapsed": true
   },
   "outputs": [],
   "source": [
    "list1 = ['Google', 'Runoob', 1997, 2000]\n",
    "list2 = [1, 2, 3, 4, 5, 6, 7 ]\n",
    "\n",
    "print (\"list1[0]: \", list1[0])\n",
    "print (\"list1[-1]: \", list1[-1])\n",
    "print (\"list2[1:5]: \", list2[1:5])\n",
    "print (\"list2[5:]: \", list2[5:])"
   ]
  },
  {
   "cell_type": "markdown",
   "metadata": {},
   "source": [
    "### 更新列表"
   ]
  },
  {
   "cell_type": "markdown",
   "metadata": {},
   "source": [
    "1. 直接修改"
   ]
  },
  {
   "cell_type": "code",
   "execution_count": null,
   "metadata": {
    "collapsed": true
   },
   "outputs": [],
   "source": [
    "list = ['Google', 'Runoob', 1997, 2000]\n",
    " \n",
    "print (\"第三个元素为 : \", list[2])\n",
    "list[2] = 2001\n",
    "print (\"更新后的第三个元素为 : \", list[2])"
   ]
  },
  {
   "cell_type": "markdown",
   "metadata": {},
   "source": [
    "2. 删除列表元素"
   ]
  },
  {
   "cell_type": "code",
   "execution_count": null,
   "metadata": {
    "collapsed": true
   },
   "outputs": [],
   "source": [
    "list = ['Google', 'Runoob', 1997, 2000]\n",
    " \n",
    "print (\"原始列表 : \", list)\n",
    "del list[2]\n",
    "print (\"删除第三个元素后 : \", list)"
   ]
  },
  {
   "cell_type": "markdown",
   "metadata": {},
   "source": [
    "3. 在列表末尾添加新的对象"
   ]
  },
  {
   "cell_type": "code",
   "execution_count": null,
   "metadata": {
    "collapsed": true
   },
   "outputs": [],
   "source": [
    "list = ['Google', 'Runoob', 'Taobao']\n",
    "\n",
    "print (\"原始列表 : \", list)\n",
    "list1.append('Baidu')\n",
    "print (\"更新后的列表 : \", list)"
   ]
  },
  {
   "cell_type": "markdown",
   "metadata": {},
   "source": [
    "4. 将对象插入列表指定位置索引前"
   ]
  },
  {
   "cell_type": "code",
   "execution_count": null,
   "metadata": {
    "collapsed": true
   },
   "outputs": [],
   "source": [
    "list = ['Google', 'Runoob', 'Taobao']\n",
    "\n",
    "print (\"原始列表 : \", list)\n",
    "list1.insert(1, 'Baidu')\n",
    "print ('列表插入元素后为 : ', list)"
   ]
  },
  {
   "cell_type": "markdown",
   "metadata": {},
   "source": [
    "5. 复制列表"
   ]
  },
  {
   "cell_type": "code",
   "execution_count": null,
   "metadata": {
    "collapsed": true
   },
   "outputs": [],
   "source": [
    "list1 = ['Google', 'Runoob', 'Taobao', 'Baidu']\n",
    "list2 = list1.copy()\n",
    "list3 = list1[:]\n",
    "list1.insert(1, 'Baidu')\n",
    "\n",
    "print (\"list1 列表: \", list1)\n",
    "print (\"list2 列表: \", list2)\n",
    "print (\"list3 列表: \", list3)"
   ]
  },
  {
   "cell_type": "markdown",
   "metadata": {},
   "source": [
    "6. 清空列表"
   ]
  },
  {
   "cell_type": "code",
   "execution_count": null,
   "metadata": {
    "collapsed": true
   },
   "outputs": [],
   "source": [
    "list = ['Google', 'Runoob', 'Taobao', 'Baidu']\n",
    "\n",
    "print (\"原始列表 : \", list)\n",
    "list1.clear()\n",
    "print (\"列表清空后 : \", list)"
   ]
  },
  {
   "cell_type": "markdown",
   "metadata": {},
   "source": [
    "7. 对原列表进行排序"
   ]
  },
  {
   "cell_type": "code",
   "execution_count": null,
   "metadata": {
    "collapsed": true
   },
   "outputs": [],
   "source": [
    "list = ['Google', 'Runoob', 'Taobao', 'Facebook']\n",
    " \n",
    "print (\"原始列表 : \", list)\n",
    "print (\"排序副本sorted(list) : \", sorted(list))\n",
    "print (\"原始列表 : \", list ,\"\\n\")\n",
    "\n",
    "list.sort()\n",
    "print ( \"升序排序后 : \", list)\n",
    "list.sort(reverse=True)\n",
    "print ( \"降序排序后 : \", list)"
   ]
  },
  {
   "cell_type": "markdown",
   "metadata": {},
   "source": [
    "### 列表间操作"
   ]
  },
  {
   "cell_type": "markdown",
   "metadata": {},
   "source": [
    "列表对 + 和 * 的操作符与字符串相似。+ 号用于组合列表，* 号用于重复列表"
   ]
  },
  {
   "cell_type": "code",
   "execution_count": null,
   "metadata": {
    "collapsed": true
   },
   "outputs": [],
   "source": [
    "list1 = ['Google', 'Runoob', 1997]\n",
    "list2 = [1, 2, 3, 4]\n",
    "\n",
    "print (\"len(list1) : \", len(list1)) # 列表长度\n",
    "\n",
    "print (\"list1+list2 : \", list1+list2)\n",
    "\n",
    "print (\"list1*2 : \", list1*2)\n",
    "\n",
    "print (\"3 in list2 : \", 3 in list2)"
   ]
  },
  {
   "cell_type": "markdown",
   "metadata": {},
   "source": [
    "### 嵌套列表"
   ]
  },
  {
   "cell_type": "code",
   "execution_count": null,
   "metadata": {
    "collapsed": true
   },
   "outputs": [],
   "source": [
    "a = ['a', 'b', 'c']\n",
    "n = [1, 2, 3]\n",
    "x = [a, n]\n",
    "\n",
    "print (\"x : \", x)\n",
    "print (\"x[0] : \", x[0])\n",
    "print (\"x[0][1] : \", x[0][1])"
   ]
  },
  {
   "cell_type": "markdown",
   "metadata": {},
   "source": [
    "## Set（集合)"
   ]
  },
  {
   "cell_type": "markdown",
   "metadata": {},
   "source": [
    "集合（set）是一个无序的不重复元素序列。\n",
    "\n",
    "可以使用大括号 { } 或者 set() 函数创建集合"
   ]
  },
  {
   "cell_type": "code",
   "execution_count": null,
   "metadata": {
    "collapsed": true
   },
   "outputs": [],
   "source": [
    "parame = {1,1,2,3,4,4,5}\n",
    "value=[1,1,2,3,4,4,5]\n",
    "\n",
    "print(parame)\n",
    "print(set(value))"
   ]
  },
  {
   "cell_type": "markdown",
   "metadata": {},
   "source": [
    "### 集合间运算"
   ]
  },
  {
   "cell_type": "code",
   "execution_count": null,
   "metadata": {
    "collapsed": true
   },
   "outputs": [],
   "source": [
    "basket = {'apple', 'orange', 'apple', 'pear', 'orange', 'banana'}\n",
    "print(basket)                      # 这里演示的是去重功能\n",
    "\n",
    "print('orange' in basket)          # 快速判断元素是否在集合内\n",
    "print('crabgrass' in basket) \n",
    "\n",
    " \n",
    "# 下面展示两个集合间的运算.\n",
    "\n",
    "a = set('abracadabra')\n",
    "b = set('alacazam')\n",
    "                                \n",
    "print(a - b)              # 集合a中包含而集合b中不包含的元素\n",
    "print(a | b)              # 集合a或b中包含的所有元素\n",
    "print(a & b)              # 集合a和b中都包含了的元素\n",
    "print(a ^ b)              # 不同时包含于a和b的元素\n"
   ]
  },
  {
   "cell_type": "markdown",
   "metadata": {},
   "source": [
    "### 集合的基本操作"
   ]
  },
  {
   "cell_type": "markdown",
   "metadata": {},
   "source": [
    "1. 添加元素\n",
    "将元素 x 添加到集合 s 中，如果元素已存在，则不进行任何操作。"
   ]
  },
  {
   "cell_type": "code",
   "execution_count": null,
   "metadata": {
    "collapsed": true
   },
   "outputs": [],
   "source": [
    "thisset = set((\"Google\", \"Runoob\", \"Taobao\"))\n",
    "\n",
    "# s.add( x )\n",
    "thisset.add(\"Facebook\")\n",
    "print(thisset)\n",
    "\n",
    "# s.update( x ) 也可以添加元素，且参数可以是列表，元组，字典等\n",
    "thisset.update({1,3})\n",
    "thisset.update([1,4],[5,6]) \n",
    "thisset.update({'Name': 'Runoob', 'Age': 7, 'Class': 'First'})\n",
    "print(thisset)"
   ]
  },
  {
   "cell_type": "markdown",
   "metadata": {},
   "source": [
    "2. 移除元素"
   ]
  },
  {
   "cell_type": "markdown",
   "metadata": {},
   "source": [
    "- s.remove( x ) 将元素 x 从集合 s 中移除，如果元素不存在，则会发生错误。\n",
    "\n",
    "- s.discard( x ) 移除集合中的元素，且如果元素不存在，不会发生错误。\n",
    "\n",
    "- s.pop() 随机删除集合中的一个元素"
   ]
  },
  {
   "cell_type": "markdown",
   "metadata": {},
   "source": [
    "3. 计算集合元素个数"
   ]
  },
  {
   "cell_type": "code",
   "execution_count": null,
   "metadata": {
    "collapsed": true
   },
   "outputs": [],
   "source": [
    "thisset = set((\"Google\", \"Runoob\", \"Taobao\"))\n",
    "print(\"len(thisset) :\", len(thisset))"
   ]
  },
  {
   "cell_type": "markdown",
   "metadata": {},
   "source": [
    "4. 清空集合"
   ]
  },
  {
   "cell_type": "code",
   "execution_count": null,
   "metadata": {
    "collapsed": true
   },
   "outputs": [],
   "source": [
    "thisset = set((\"Google\", \"Runoob\", \"Taobao\"))\n",
    "print(thisset)\n",
    "thisset.clear()\n",
    "print(thisset)"
   ]
  },
  {
   "cell_type": "markdown",
   "metadata": {},
   "source": [
    "更多操作https://www.runoob.com/python3/python3-set.html"
   ]
  },
  {
   "cell_type": "markdown",
   "metadata": {},
   "source": [
    "## Dictionary（字典）"
   ]
  },
  {
   "cell_type": "markdown",
   "metadata": {},
   "source": [
    "字典是另一种可变容器模型，且可存储任意类型对象。\n",
    "\n",
    "字典的每个键值(key=>value)对用冒号(:)分割，每个对之间用逗号(,)分割，整个字典包括在花括号({})中"
   ]
  },
  {
   "cell_type": "code",
   "execution_count": null,
   "metadata": {
    "collapsed": true
   },
   "outputs": [],
   "source": [
    "dict = {'Alice': '2341', 'Beth': '9102', 'Cecil': '3258'}"
   ]
  },
  {
   "cell_type": "markdown",
   "metadata": {},
   "source": [
    "### 规则"
   ]
  },
  {
   "cell_type": "markdown",
   "metadata": {},
   "source": [
    "1. 键必须是唯一的，但值则不必，创建时如果同一个键被赋值两次，后一个值会被记住。"
   ]
  },
  {
   "cell_type": "code",
   "execution_count": null,
   "metadata": {
    "collapsed": true
   },
   "outputs": [],
   "source": [
    "dict = {'Name': 'Runoob', 'Age': 7, 'Name': '小菜鸟'}\n",
    " \n",
    "print (\"dict['Name']: \", dict['Name'])"
   ]
  },
  {
   "cell_type": "markdown",
   "metadata": {},
   "source": [
    "2. 值可以取任何数据类型，但键必须是不可变的，如字符串，数字或元组。"
   ]
  },
  {
   "cell_type": "code",
   "execution_count": null,
   "metadata": {
    "collapsed": true
   },
   "outputs": [],
   "source": [
    "dict = {'Age': 7, 2: 7, (1,2): 'Runoob', }\n",
    " \n",
    "print (dict)"
   ]
  },
  {
   "cell_type": "code",
   "execution_count": null,
   "metadata": {
    "collapsed": true
   },
   "outputs": [],
   "source": [
    "dict = {['Name']: 'Runoob', 'Age': 7}\n",
    " \n",
    "print (\"dict['Name']: \", dict['Name'])"
   ]
  },
  {
   "cell_type": "markdown",
   "metadata": {},
   "source": [
    "### 访问字典里的值"
   ]
  },
  {
   "cell_type": "markdown",
   "metadata": {},
   "source": [
    "把相应的键放入到方括号中"
   ]
  },
  {
   "cell_type": "code",
   "execution_count": null,
   "metadata": {
    "collapsed": true
   },
   "outputs": [],
   "source": [
    "dict = {'Name': 'Runoob', 'Age': 7, 'Class': 'First'}\n",
    " \n",
    "print (\"dict['Name']: \", dict['Name'])\n",
    "print (\"dict['Age']: \", dict['Age'])"
   ]
  },
  {
   "cell_type": "markdown",
   "metadata": {},
   "source": [
    "### 修改字典"
   ]
  },
  {
   "cell_type": "markdown",
   "metadata": {},
   "source": [
    "增加新的键/值对，修改或删除已有键/值"
   ]
  },
  {
   "cell_type": "code",
   "execution_count": null,
   "metadata": {
    "collapsed": true
   },
   "outputs": [],
   "source": [
    "dict = {'Name': 'Runoob', 'Age': 7, 'Class': 'First'}\n",
    " \n",
    "dict['Age'] = 8;               # 更新 Age\n",
    "dict['School'] = \"菜鸟教程\"    # 添加信息\n",
    " \n",
    " \n",
    "print (\"dict['Age']: \", dict['Age'])\n",
    "print (\"dict['School']: \", dict['School'])"
   ]
  },
  {
   "cell_type": "markdown",
   "metadata": {},
   "source": [
    "### 删除字典元素"
   ]
  },
  {
   "cell_type": "markdown",
   "metadata": {},
   "source": [
    "删除字典后字典不再存在"
   ]
  },
  {
   "cell_type": "code",
   "execution_count": null,
   "metadata": {
    "collapsed": true
   },
   "outputs": [],
   "source": [
    "dict = {'Name': 'Runoob', 'Age': 7, 'Class': 'First'}\n",
    " \n",
    "print (dict)\n",
    "\n",
    "del dict['Name'] # 删除键 'Name'\n",
    "print (dict)\n",
    "\n",
    "dict.clear()     # 清空字典\n",
    "print (dict)\n",
    "\n",
    "del dict         # 删除字典"
   ]
  },
  {
   "cell_type": "markdown",
   "metadata": {},
   "source": [
    "### 字典内置函数&方法"
   ]
  },
  {
   "cell_type": "code",
   "execution_count": null,
   "metadata": {
    "collapsed": true
   },
   "outputs": [],
   "source": [
    "dict = {'Name': 'Runoob', 'Age': 7, 'Class': 'First'}\n",
    "\n",
    "print(\"len(dict) :\",len(dict))"
   ]
  }
 ],
 "metadata": {
  "kernelspec": {
   "display_name": "Python 3",
   "language": "python",
   "name": "python3"
  },
  "language_info": {
   "codemirror_mode": {
    "name": "ipython",
    "version": 3
   },
   "file_extension": ".py",
   "mimetype": "text/x-python",
   "name": "python",
   "nbconvert_exporter": "python",
   "pygments_lexer": "ipython3",
   "version": "3.6.2"
  },
  "toc": {
   "base_numbering": "1",
   "nav_menu": {},
   "number_sections": true,
   "sideBar": true,
   "skip_h1_title": false,
   "title_cell": "Table of Contents",
   "title_sidebar": "Contents",
   "toc_cell": false,
   "toc_position": {
    "height": "calc(100% - 180px)",
    "left": "10px",
    "top": "150px",
    "width": "291.222px"
   },
   "toc_section_display": true,
   "toc_window_display": true
  }
 },
 "nbformat": 4,
 "nbformat_minor": 2
}
