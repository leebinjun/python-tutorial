{
 "cells": [
  {
   "cell_type": "code",
   "execution_count": null,
   "metadata": {
    "collapsed": true
   },
   "outputs": [],
   "source": []
  },
  {
   "cell_type": "code",
   "execution_count": 7,
   "metadata": {},
   "outputs": [],
   "source": [
    "def record_factory(cls_name, field_names):\n",
    "    try:\n",
    "        field_names = field_names.replace(',', ' ').split() #➊\n",
    "    except AttributeError: # 不能调用.replace或.split方法\n",
    "        pass # 假定field_names本就是标识符组成的序列\n",
    "    field_names = tuple(field_names) #➋\n",
    " \n",
    "    def __init__(self, *args, **kwargs): #➌\n",
    "        attrs = dict(zip(self.__slots__, args))\n",
    "        attrs.update(kwargs)\n",
    "        for name, value in attrs.items():\n",
    "            setattr(self, name, value)\n",
    " \n",
    "    def __iter__(self): #➍\n",
    "        for name in self.__slots__:\n",
    "            yield getattr(self, name)\n",
    " \n",
    "    def __repr__(self): #➎\n",
    "        values = ', '.join('{}={!r}'.format(*i) for i \n",
    "                           in zip(self.__slots__, self))\n",
    "        return '{}({})'.format(self.__class__.__name__, values)\n",
    "    \n",
    "    cls_attrs = dict(__slots__ = field_names, #➏\n",
    "                     __init__ = __init__,\n",
    "                     __iter__ = __iter__,\n",
    "                     __repr__ = __repr__)\n",
    " \n",
    "    return type(cls_name, (object,), cls_attrs)"
   ]
  },
  {
   "cell_type": "markdown",
   "metadata": {},
   "source": [
    "* ❶ 这里体现了鸭子类型：尝试在逗号或空格处拆分 field_names；如果失败，那么假定field_names 本就是可迭代的对象，一个元素对应一个属性名。\n",
    "* ❷ 使用属性名构建元组，这将成为新建类的 \\__slots\\__ 属性；此外，这么做还设定了拆包和字符串表示形式中各字段的顺序。\n",
    "* ❸ 这个函数将成为新建类的 \\__init\\__ 方法。参数有位置参数和（或）关键字参数。\n",
    "* ❹ 实现 \\__iter\\__ 函数，把类的实例变成可迭代的对象；按照 \\__slots\\__ 设定的顺序产出字段值。\n",
    "* ❺ 迭代 \\__slots\\__ 和 self，生成友好的字符串表示形式。\n",
    "* ❻ 组建类属性字典。\n",
    "* ❼ 调用 type 构造方法，构建新类，然后将其返回。"
   ]
  },
  {
   "cell_type": "code",
   "execution_count": 6,
   "metadata": {},
   "outputs": [
    {
     "data": {
      "text/plain": [
       "Dog(name='Rex', weight=30, owner='Bob')"
      ]
     },
     "execution_count": 6,
     "metadata": {},
     "output_type": "execute_result"
    }
   ],
   "source": [
    "Dog = record_factory('Dog', 'name weight owner')\n",
    "rex = Dog('Rex', 30, 'Bob')\n",
    "rex"
   ]
  },
  {
   "cell_type": "code",
   "execution_count": 11,
   "metadata": {},
   "outputs": [],
   "source": [
    "Dog.__iter__?"
   ]
  },
  {
   "cell_type": "code",
   "execution_count": null,
   "metadata": {
    "collapsed": true
   },
   "outputs": [],
   "source": []
  },
  {
   "cell_type": "code",
   "execution_count": null,
   "metadata": {
    "collapsed": true
   },
   "outputs": [],
   "source": []
  }
 ],
 "metadata": {
  "kernelspec": {
   "display_name": "Python 3",
   "language": "python",
   "name": "python3"
  },
  "language_info": {
   "codemirror_mode": {
    "name": "ipython",
    "version": 3
   },
   "file_extension": ".py",
   "mimetype": "text/x-python",
   "name": "python",
   "nbconvert_exporter": "python",
   "pygments_lexer": "ipython3",
   "version": "3.6.2"
  }
 },
 "nbformat": 4,
 "nbformat_minor": 2
}
