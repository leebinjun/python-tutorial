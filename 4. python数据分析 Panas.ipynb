{
 "cells": [
  {
   "cell_type": "markdown",
   "metadata": {
    "collapsed": true
   },
   "source": [
    "# Pandas"
   ]
  },
  {
   "cell_type": "code",
   "execution_count": 8,
   "metadata": {
    "collapsed": true
   },
   "outputs": [],
   "source": [
    "import pandas as pd"
   ]
  },
  {
   "cell_type": "code",
   "execution_count": 9,
   "metadata": {
    "collapsed": true
   },
   "outputs": [],
   "source": [
    "pd?"
   ]
  },
  {
   "cell_type": "markdown",
   "metadata": {},
   "source": [
    "## series"
   ]
  },
  {
   "cell_type": "code",
   "execution_count": 11,
   "metadata": {},
   "outputs": [
    {
     "name": "stdout",
     "output_type": "stream",
     "text": [
      "0     1.0\n",
      "1     3.0\n",
      "2     6.0\n",
      "3     NaN\n",
      "4    44.0\n",
      "5     1.0\n",
      "dtype: float64\n"
     ]
    }
   ],
   "source": [
    "import pandas as pd\n",
    "import numpy as np\n",
    "\n",
    "s = pd.Series([1,3,6,np.nan,44,1]) # pandas序列 类似字典\n",
    "print(s)"
   ]
  },
  {
   "cell_type": "markdown",
   "metadata": {},
   "source": [
    "## DataFrame"
   ]
  },
  {
   "cell_type": "code",
   "execution_count": 12,
   "metadata": {},
   "outputs": [
    {
     "name": "stdout",
     "output_type": "stream",
     "text": [
      "DatetimeIndex(['2019-06-23', '2019-06-24', '2019-06-25', '2019-06-26',\n",
      "               '2019-06-27', '2019-06-28'],\n",
      "              dtype='datetime64[ns]', freq='D')\n"
     ]
    }
   ],
   "source": [
    "dates = pd.date_range('20190623',periods=6) # 日期\n",
    "print(dates)"
   ]
  },
  {
   "cell_type": "code",
   "execution_count": 15,
   "metadata": {},
   "outputs": [
    {
     "name": "stdout",
     "output_type": "stream",
     "text": [
      "    0   1   2   3\n",
      "0   0   1   2   3\n",
      "1   4   5   6   7\n",
      "2   8   9  10  11\n",
      "3  12  13  14  15\n",
      "4  16  17  18  19\n",
      "5  20  21  22  23\n"
     ]
    }
   ],
   "source": [
    "df = pd.DataFrame(np.arange(24).reshape((6,4)))\n",
    "print(df)"
   ]
  },
  {
   "cell_type": "code",
   "execution_count": 25,
   "metadata": {},
   "outputs": [
    {
     "data": {
      "text/html": [
       "<div>\n",
       "<style>\n",
       "    .dataframe thead tr:only-child th {\n",
       "        text-align: right;\n",
       "    }\n",
       "\n",
       "    .dataframe thead th {\n",
       "        text-align: left;\n",
       "    }\n",
       "\n",
       "    .dataframe tbody tr th {\n",
       "        vertical-align: top;\n",
       "    }\n",
       "</style>\n",
       "<table border=\"1\" class=\"dataframe\">\n",
       "  <thead>\n",
       "    <tr style=\"text-align: right;\">\n",
       "      <th></th>\n",
       "      <th>a</th>\n",
       "      <th>s</th>\n",
       "      <th>d</th>\n",
       "      <th>f</th>\n",
       "    </tr>\n",
       "  </thead>\n",
       "  <tbody>\n",
       "    <tr>\n",
       "      <th>2</th>\n",
       "      <td>87</td>\n",
       "      <td>39</td>\n",
       "      <td>33</td>\n",
       "      <td>63</td>\n",
       "    </tr>\n",
       "    <tr>\n",
       "      <th>a</th>\n",
       "      <td>0</td>\n",
       "      <td>51</td>\n",
       "      <td>55</td>\n",
       "      <td>87</td>\n",
       "    </tr>\n",
       "    <tr>\n",
       "      <th>ad</th>\n",
       "      <td>30</td>\n",
       "      <td>2</td>\n",
       "      <td>87</td>\n",
       "      <td>89</td>\n",
       "    </tr>\n",
       "  </tbody>\n",
       "</table>\n",
       "</div>"
      ],
      "text/plain": [
       "     a   s   d   f\n",
       "2   87  39  33  63\n",
       "a    0  51  55  87\n",
       "ad  30   2  87  89"
      ]
     },
     "execution_count": 25,
     "metadata": {},
     "output_type": "execute_result"
    }
   ],
   "source": [
    "import pandas as pd\n",
    "import numpy as np\n",
    "\n",
    "df = pd.DataFrame(np.random.randint(0,100,(3,4)), index=['2','a','ad'],columns=[i for i in 'asdf'])\n",
    "df"
   ]
  },
  {
   "cell_type": "code",
   "execution_count": 15,
   "metadata": {},
   "outputs": [
    {
     "name": "stdout",
     "output_type": "stream",
     "text": [
      "             a   b   c   d\n",
      "2019-06-23   0   1   2   3\n",
      "2019-06-24   4   5   6   7\n",
      "2019-06-25   8   9  10  11\n",
      "2019-06-26  12  13  14  15\n",
      "2019-06-27  16  17  18  19\n",
      "2019-06-28  20  21  22  23\n"
     ]
    }
   ],
   "source": [
    "df = pd.DataFrame(np.arange(24).reshape((6,4)),index=dates,columns=['a','b','c','d']) \n",
    "#                          默认序列0开始       行索引      列索引\n",
    "print(df)"
   ]
  },
  {
   "cell_type": "markdown",
   "metadata": {},
   "source": [
    "### 数据分析"
   ]
  },
  {
   "cell_type": "code",
   "execution_count": 16,
   "metadata": {},
   "outputs": [
    {
     "name": "stdout",
     "output_type": "stream",
     "text": [
      "a    int32\n",
      "b    int32\n",
      "c    int32\n",
      "d    int32\n",
      "dtype: object\n",
      "[[ 0  1  2  3]\n",
      " [ 4  5  6  7]\n",
      " [ 8  9 10 11]\n",
      " [12 13 14 15]\n",
      " [16 17 18 19]\n",
      " [20 21 22 23]]\n",
      "DatetimeIndex(['2019-06-23', '2019-06-24', '2019-06-25', '2019-06-26',\n",
      "               '2019-06-27', '2019-06-28'],\n",
      "              dtype='datetime64[ns]', freq='D')\n",
      "Index(['a', 'b', 'c', 'd'], dtype='object')\n"
     ]
    }
   ],
   "source": [
    "print(df.dtypes) # 数据类型\n",
    "print(df.values) # 数据\n",
    "\n",
    "print(df.index) # 行名\n",
    "print(df.columns) # 列名"
   ]
  },
  {
   "cell_type": "code",
   "execution_count": 17,
   "metadata": {},
   "outputs": [
    {
     "name": "stdout",
     "output_type": "stream",
     "text": [
      "               a          b          c          d\n",
      "count   6.000000   6.000000   6.000000   6.000000\n",
      "mean   10.000000  11.000000  12.000000  13.000000\n",
      "std     7.483315   7.483315   7.483315   7.483315\n",
      "min     0.000000   1.000000   2.000000   3.000000\n",
      "25%     5.000000   6.000000   7.000000   8.000000\n",
      "50%    10.000000  11.000000  12.000000  13.000000\n",
      "75%    15.000000  16.000000  17.000000  18.000000\n",
      "max    20.000000  21.000000  22.000000  23.000000\n"
     ]
    }
   ],
   "source": [
    "print(df.describe()) # 数据按列分析"
   ]
  },
  {
   "cell_type": "markdown",
   "metadata": {},
   "source": [
    "### 排序"
   ]
  },
  {
   "cell_type": "code",
   "execution_count": 18,
   "metadata": {},
   "outputs": [
    {
     "name": "stdout",
     "output_type": "stream",
     "text": [
      "             a   b   c   d\n",
      "2019-06-28  20  21  22  23\n",
      "2019-06-27  16  17  18  19\n",
      "2019-06-26  12  13  14  15\n",
      "2019-06-25   8   9  10  11\n",
      "2019-06-24   4   5   6   7\n",
      "2019-06-23   0   1   2   3\n"
     ]
    }
   ],
   "source": [
    "print(df.sort_index(axis=0,ascending=False)) # 按行名降序"
   ]
  },
  {
   "cell_type": "code",
   "execution_count": 19,
   "metadata": {},
   "outputs": [
    {
     "name": "stdout",
     "output_type": "stream",
     "text": [
      "             d   c   b   a\n",
      "2019-06-23   3   2   1   0\n",
      "2019-06-24   7   6   5   4\n",
      "2019-06-25  11  10   9   8\n",
      "2019-06-26  15  14  13  12\n",
      "2019-06-27  19  18  17  16\n",
      "2019-06-28  23  22  21  20\n"
     ]
    }
   ],
   "source": [
    "print(df.sort_index(axis=1,ascending=False)) # 按列名降序"
   ]
  },
  {
   "cell_type": "code",
   "execution_count": 20,
   "metadata": {},
   "outputs": [
    {
     "name": "stdout",
     "output_type": "stream",
     "text": [
      "             a   b   c   d\n",
      "2019-06-28  20  21  22  23\n",
      "2019-06-27  16  17  18  19\n",
      "2019-06-26  12  13  14  15\n",
      "2019-06-25   8   9  10  11\n",
      "2019-06-24   4   5   6   7\n",
      "2019-06-23   0   1   2   3\n"
     ]
    }
   ],
   "source": [
    "print(df.sort_values(by='c',ascending=False)) # 按'c'列降序"
   ]
  },
  {
   "cell_type": "markdown",
   "metadata": {},
   "source": [
    "### 选择数据"
   ]
  },
  {
   "cell_type": "code",
   "execution_count": 21,
   "metadata": {},
   "outputs": [
    {
     "name": "stdout",
     "output_type": "stream",
     "text": [
      "2019-06-23     0\n",
      "2019-06-24     4\n",
      "2019-06-25     8\n",
      "2019-06-26    12\n",
      "2019-06-27    16\n",
      "2019-06-28    20\n",
      "Freq: D, Name: a, dtype: int32\n",
      "             a   b   c   d\n",
      "2019-06-24   4   5   6   7\n",
      "2019-06-25   8   9  10  11\n",
      "2019-06-26  12  13  14  15\n",
      "             a   b   c   d\n",
      "2019-06-26  12  13  14  15\n",
      "2019-06-27  16  17  18  19\n",
      "2019-06-28  20  21  22  23\n"
     ]
    }
   ],
   "source": [
    "print(df['a']) # 选择'a'列\n",
    "print(df[1:4]) # 按行切片\n",
    "print(df[df.a>8]) # 布尔提取"
   ]
  },
  {
   "cell_type": "code",
   "execution_count": 22,
   "metadata": {},
   "outputs": [
    {
     "name": "stdout",
     "output_type": "stream",
     "text": [
      "a    12\n",
      "b    13\n",
      "c    14\n",
      "d    15\n",
      "Name: 2019-06-26 00:00:00, dtype: int32\n",
      "2019-06-23     0\n",
      "2019-06-24     4\n",
      "2019-06-25     8\n",
      "2019-06-26    12\n",
      "2019-06-27    16\n",
      "2019-06-28    20\n",
      "Freq: D, Name: a, dtype: int32\n",
      "b    13\n",
      "c    14\n",
      "Name: 2019-06-26 00:00:00, dtype: int32\n"
     ]
    }
   ],
   "source": [
    "print(df.loc['2019-06-26']) # 按标签索引\n",
    "print(df.loc[:,'a'])\n",
    "print(df.loc['2019-06-26',['b','c']])"
   ]
  },
  {
   "cell_type": "code",
   "execution_count": 23,
   "metadata": {},
   "outputs": [
    {
     "name": "stdout",
     "output_type": "stream",
     "text": [
      "13\n"
     ]
    }
   ],
   "source": [
    "print(df.iloc[3,1]) # 按位置索引提取"
   ]
  },
  {
   "cell_type": "markdown",
   "metadata": {},
   "source": [
    "### 重新赋值 & 添加数据"
   ]
  },
  {
   "cell_type": "code",
   "execution_count": 25,
   "metadata": {},
   "outputs": [
    {
     "name": "stdout",
     "output_type": "stream",
     "text": [
      "             a   b   c   d\n",
      "2019-06-23   0   1   2   3\n",
      "2019-06-24   4   5   6   7\n",
      "2019-06-25   8   9  66  11\n",
      "2019-06-26  12  13  14  15\n",
      "2019-06-27  16  17  18  19\n",
      "2019-06-28  20  21  22  23\n"
     ]
    }
   ],
   "source": [
    "df.iloc[2,2]=66\n",
    "print(df)"
   ]
  },
  {
   "cell_type": "code",
   "execution_count": 26,
   "metadata": {},
   "outputs": [
    {
     "name": "stdout",
     "output_type": "stream",
     "text": [
      "            a   b   c   d\n",
      "2019-06-23  0   1   2   3\n",
      "2019-06-24  4   5   6   7\n",
      "2019-06-25  8   9  66  11\n",
      "2019-06-26  0  13  14  15\n",
      "2019-06-27  0  17  18  19\n",
      "2019-06-28  0  21  22  23\n"
     ]
    }
   ],
   "source": [
    "df.a[df.a>8]=0\n",
    "print(df)"
   ]
  },
  {
   "cell_type": "code",
   "execution_count": 27,
   "metadata": {},
   "outputs": [
    {
     "name": "stdout",
     "output_type": "stream",
     "text": [
      "            a   b   c   d  e     f\n",
      "2019-06-23  0   1   2   3  0   NaN\n",
      "2019-06-24  4   5   6   7  1   1.0\n",
      "2019-06-25  8   9  66  11  2   3.0\n",
      "2019-06-26  0  13  14  15  3   6.0\n",
      "2019-06-27  0  17  18  19  4   NaN\n",
      "2019-06-28  0  21  22  23  5  44.0\n"
     ]
    }
   ],
   "source": [
    "df['e'] = np.arange(6)\n",
    "df['f'] = pd.Series([1,3,6,np.nan,44,1], index = pd.date_range('20190624',periods=6)) \n",
    "# 添加的序列行名不一致则为 NaN\n",
    "print(df)"
   ]
  },
  {
   "cell_type": "markdown",
   "metadata": {},
   "source": [
    "### 数据丢失"
   ]
  },
  {
   "cell_type": "code",
   "execution_count": 28,
   "metadata": {},
   "outputs": [
    {
     "name": "stdout",
     "output_type": "stream",
     "text": [
      "            a   b   c   d  e     f\n",
      "2019-06-24  4   5   6   7  1   1.0\n",
      "2019-06-25  8   9  66  11  2   3.0\n",
      "2019-06-26  0  13  14  15  3   6.0\n",
      "2019-06-28  0  21  22  23  5  44.0\n",
      "            a   b   c   d  e     f\n",
      "2019-06-23  0   1   2   3  0   NaN\n",
      "2019-06-24  4   5   6   7  1   1.0\n",
      "2019-06-25  8   9  66  11  2   3.0\n",
      "2019-06-26  0  13  14  15  3   6.0\n",
      "2019-06-27  0  17  18  19  4   NaN\n",
      "2019-06-28  0  21  22  23  5  44.0\n"
     ]
    }
   ],
   "source": [
    "print(df.dropna(axis=0)) # 垂直操作 有任何一行含NAN 则丢弃\n",
    "print(df.dropna(axis=0, how='all')) # 垂直操作 有任何一行全为NAN 则丢弃"
   ]
  },
  {
   "cell_type": "code",
   "execution_count": 29,
   "metadata": {},
   "outputs": [
    {
     "name": "stdout",
     "output_type": "stream",
     "text": [
      "            a   b   c   d  e     f\n",
      "2019-06-23  0   1   2   3  0   0.0\n",
      "2019-06-24  4   5   6   7  1   1.0\n",
      "2019-06-25  8   9  66  11  2   3.0\n",
      "2019-06-26  0  13  14  15  3   6.0\n",
      "2019-06-27  0  17  18  19  4   0.0\n",
      "2019-06-28  0  21  22  23  5  44.0\n"
     ]
    }
   ],
   "source": [
    "print(df.fillna(value=0)) # NAN -> 0"
   ]
  },
  {
   "cell_type": "code",
   "execution_count": 30,
   "metadata": {},
   "outputs": [
    {
     "name": "stdout",
     "output_type": "stream",
     "text": [
      "                a      b      c      d      e      f\n",
      "2019-06-23  False  False  False  False  False   True\n",
      "2019-06-24  False  False  False  False  False  False\n",
      "2019-06-25  False  False  False  False  False  False\n",
      "2019-06-26  False  False  False  False  False  False\n",
      "2019-06-27  False  False  False  False  False   True\n",
      "2019-06-28  False  False  False  False  False  False\n",
      "a    False\n",
      "b    False\n",
      "c    False\n",
      "d    False\n",
      "e    False\n",
      "f     True\n",
      "dtype: bool\n"
     ]
    }
   ],
   "source": [
    "print(df.isnull()) \n",
    "print(np.any(df.isnull())==True) # 检查是否丢失数据"
   ]
  },
  {
   "cell_type": "markdown",
   "metadata": {},
   "source": [
    "## Pandas 导入导出"
   ]
  },
  {
   "cell_type": "code",
   "execution_count": 34,
   "metadata": {},
   "outputs": [
    {
     "name": "stdout",
     "output_type": "stream",
     "text": [
      "    Student ID   name  age  gender\n",
      "0         1100  Kelly   22  Female\n",
      "1         1101    Clo   21  Female\n",
      "2         1102  Tilly   23  Female\n",
      "3         1103   Tony   24    Male\n",
      "4         1104  David   25    Male\n",
      "5         1105   Jack   22    Male\n",
      "6         1106  Catty   23  Female\n",
      "7         1107  Milly   22  Female\n",
      "8         1108   Jone   22    Male\n",
      "9         1109  Jason   19    Male\n",
      "10        1110    Tom   25    Male\n",
      "11        1111  Lilly   25  Female\n"
     ]
    }
   ],
   "source": [
    "import pandas as pd\n",
    "import numpy as np\n",
    "\n",
    "data = pd.read_csv('files/student.csv') # 自动加行索引\n",
    "print(data)\n",
    "\n",
    "data.to_pickle('files/student.pickle')"
   ]
  },
  {
   "cell_type": "markdown",
   "metadata": {},
   "source": [
    "## Pandas 合并"
   ]
  },
  {
   "cell_type": "markdown",
   "metadata": {},
   "source": [
    "### concat"
   ]
  },
  {
   "cell_type": "code",
   "execution_count": 35,
   "metadata": {},
   "outputs": [
    {
     "name": "stdout",
     "output_type": "stream",
     "text": [
      "     a    b    c    d\n",
      "0  0.0  0.0  0.0  0.0\n",
      "1  0.0  0.0  0.0  0.0\n",
      "2  0.0  0.0  0.0  0.0\n",
      "3  1.0  1.0  1.0  1.0\n",
      "4  1.0  1.0  1.0  1.0\n",
      "5  1.0  1.0  1.0  1.0\n",
      "6  2.0  2.0  2.0  2.0\n",
      "7  2.0  2.0  2.0  2.0\n",
      "8  2.0  2.0  2.0  2.0\n"
     ]
    }
   ],
   "source": [
    "import pandas as pd\n",
    "import numpy as np\n",
    "\n",
    "df1 = pd.DataFrame(np.ones((3,4))*0,columns=['a','b','c','d']) # 同列索引同数据\n",
    "df2 = pd.DataFrame(np.ones((3,4))*1,columns=['a','b','c','d'])\n",
    "df3 = pd.DataFrame(np.ones((3,4))*2,columns=['a','b','c','d'])\n",
    "\n",
    "res = pd.concat([df1,df2,df3], axis=0, ignore_index=True) # 垂直合并 行索引重新排序\n",
    "print(res)"
   ]
  },
  {
   "cell_type": "markdown",
   "metadata": {},
   "source": [
    "### join"
   ]
  },
  {
   "cell_type": "code",
   "execution_count": 37,
   "metadata": {},
   "outputs": [
    {
     "name": "stdout",
     "output_type": "stream",
     "text": [
      "     a    b    c    d    e\n",
      "0  0.0  0.0  0.0  0.0  NaN\n",
      "1  0.0  0.0  0.0  0.0  NaN\n",
      "2  0.0  0.0  0.0  0.0  NaN\n",
      "3  NaN  1.0  1.0  1.0  1.0\n",
      "4  NaN  1.0  1.0  1.0  1.0\n",
      "5  NaN  1.0  1.0  1.0  1.0\n",
      "     b    c    d\n",
      "0  0.0  0.0  0.0\n",
      "1  0.0  0.0  0.0\n",
      "2  0.0  0.0  0.0\n",
      "3  1.0  1.0  1.0\n",
      "4  1.0  1.0  1.0\n",
      "5  1.0  1.0  1.0\n"
     ]
    }
   ],
   "source": [
    "import pandas as pd\n",
    "import numpy as np\n",
    "\n",
    "df1 = pd.DataFrame(np.ones((3,4))*0,index=[1,2,3],columns=['a','b','c','d']) # 不同索引\n",
    "df2 = pd.DataFrame(np.ones((3,4))*1,index=[2,3,4],columns=['b','c','d','e'])\n",
    "\n",
    "res = pd.concat([df1,df2], join='outer', ignore_index=True) # 取并集 无则NaN\n",
    "print(res)\n",
    "\n",
    "res = pd.concat([df1,df2], join='inner', ignore_index=True) # 取交集 无则减去\n",
    "print(res)"
   ]
  },
  {
   "cell_type": "markdown",
   "metadata": {},
   "source": [
    "### join_axes"
   ]
  },
  {
   "cell_type": "code",
   "execution_count": 38,
   "metadata": {},
   "outputs": [
    {
     "name": "stdout",
     "output_type": "stream",
     "text": [
      "     a    b    c    d    b    c    d    e\n",
      "1  0.0  0.0  0.0  0.0  NaN  NaN  NaN  NaN\n",
      "2  0.0  0.0  0.0  0.0  1.0  1.0  1.0  1.0\n",
      "3  0.0  0.0  0.0  0.0  1.0  1.0  1.0  1.0\n",
      "4  NaN  NaN  NaN  NaN  1.0  1.0  1.0  1.0\n",
      "     a    b    c    d    b    c    d    e\n",
      "1  0.0  0.0  0.0  0.0  NaN  NaN  NaN  NaN\n",
      "2  0.0  0.0  0.0  0.0  1.0  1.0  1.0  1.0\n",
      "3  0.0  0.0  0.0  0.0  1.0  1.0  1.0  1.0\n"
     ]
    }
   ],
   "source": [
    "res = pd.concat([df1,df2],axis=1) # 按df1 的行索引合并，无则NAN\n",
    "print(res)\n",
    "\n",
    "res = pd.concat([df1,df2],axis=1, join_axes=[df1.index]) # 按df1 的行索引合并，无则NAN\n",
    "print(res)"
   ]
  },
  {
   "cell_type": "markdown",
   "metadata": {},
   "source": [
    "### append"
   ]
  },
  {
   "cell_type": "code",
   "execution_count": 39,
   "metadata": {},
   "outputs": [
    {
     "name": "stdout",
     "output_type": "stream",
     "text": [
      "     a    b    c    d    e\n",
      "0  0.0  0.0  0.0  0.0  NaN\n",
      "1  0.0  0.0  0.0  0.0  NaN\n",
      "2  0.0  0.0  0.0  0.0  NaN\n",
      "3  NaN  1.0  1.0  1.0  1.0\n",
      "4  NaN  1.0  1.0  1.0  1.0\n",
      "5  NaN  1.0  1.0  1.0  1.0\n"
     ]
    }
   ],
   "source": [
    "res = df1.append(df2, ignore_index=True)\n",
    "print(res)"
   ]
  },
  {
   "cell_type": "code",
   "execution_count": null,
   "metadata": {
    "collapsed": true
   },
   "outputs": [],
   "source": []
  },
  {
   "cell_type": "code",
   "execution_count": null,
   "metadata": {
    "collapsed": true
   },
   "outputs": [],
   "source": []
  },
  {
   "cell_type": "code",
   "execution_count": null,
   "metadata": {
    "collapsed": true
   },
   "outputs": [],
   "source": []
  },
  {
   "cell_type": "code",
   "execution_count": null,
   "metadata": {
    "collapsed": true
   },
   "outputs": [],
   "source": []
  }
 ],
 "metadata": {
  "kernelspec": {
   "display_name": "Python 3",
   "language": "python",
   "name": "python3"
  },
  "language_info": {
   "codemirror_mode": {
    "name": "ipython",
    "version": 3
   },
   "file_extension": ".py",
   "mimetype": "text/x-python",
   "name": "python",
   "nbconvert_exporter": "python",
   "pygments_lexer": "ipython3",
   "version": "3.6.2"
  }
 },
 "nbformat": 4,
 "nbformat_minor": 2
}
