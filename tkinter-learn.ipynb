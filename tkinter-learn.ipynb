{
 "cells": [
  {
   "cell_type": "code",
   "execution_count": null,
   "metadata": {
    "collapsed": true
   },
   "outputs": [],
   "source": []
  },
  {
   "cell_type": "code",
   "execution_count": 1,
   "metadata": {
    "collapsed": true
   },
   "outputs": [],
   "source": [
    "import tkinter as tk"
   ]
  },
  {
   "cell_type": "markdown",
   "metadata": {},
   "source": [
    "### 标签和按键\n",
    "* tk.Tk()  \n",
    "* tk.Lable()  \n",
    "* tk.button()  "
   ]
  },
  {
   "cell_type": "code",
   "execution_count": 34,
   "metadata": {
    "collapsed": true
   },
   "outputs": [],
   "source": [
    "windows = tk.Tk()\n",
    "windows.title('hello')\n",
    "windows.geometry('200x100')\n",
    "\n",
    "var = tk.StringVar()\n",
    "lable = tk.Label(windows, textvariable=var, bg='green', font=('Arial', 15), width=15, height=2)\n",
    "lable.pack()\n",
    "\n",
    "on_hit = False\n",
    "def hit_me():\n",
    "    global on_hit\n",
    "    if on_hit == False:\n",
    "        var.set('u hit me')\n",
    "        on_hit = True\n",
    "    else:\n",
    "        on_hit = False\n",
    "        var.set('')\n",
    "\n",
    "button = tk.Button(windows, text='hit me', command=hit_me, width=15, height=2)\n",
    "button.pack()\n",
    "\n",
    "windows.mainloop()"
   ]
  },
  {
   "cell_type": "markdown",
   "metadata": {},
   "source": [
    "### 输入 文本框\n",
    "* tk.Entry()  \n",
    "* tk.Text()"
   ]
  },
  {
   "cell_type": "code",
   "execution_count": 19,
   "metadata": {
    "collapsed": true
   },
   "outputs": [],
   "source": [
    "windows = tk.Tk()\n",
    "windows.title('hello')\n",
    "windows.geometry('200x200')\n",
    "\n",
    "entry = tk.Entry(windows, show='*')\n",
    "entry.pack()\n",
    "\n",
    "text = tk.Text(windows, height=2)\n",
    "text.pack()\n",
    "\n",
    "def put_in_entry():\n",
    "    var= entry.get()\n",
    "    text.insert('insert', var)\n",
    "\n",
    "def put_in_entry2():\n",
    "    var= entry.get()\n",
    "    text.insert('end', var)\n",
    "\n",
    "button1 = tk.Button(windows, text='entry', width=15, height=2, command=put_in_entry)\n",
    "button1.pack()\n",
    "\n",
    "button2 = tk.Button(windows, text='entry2', width=15, height=2, command=put_in_entry2)\n",
    "button2.pack()\n",
    "\n",
    "windows.mainloop()"
   ]
  },
  {
   "cell_type": "markdown",
   "metadata": {},
   "source": [
    "### 列表部件"
   ]
  },
  {
   "cell_type": "code",
   "execution_count": 30,
   "metadata": {},
   "outputs": [
    {
     "name": "stderr",
     "output_type": "stream",
     "text": [
      "Exception in Tkinter callback\n",
      "Traceback (most recent call last):\n",
      "  File \"J:\\Anaconda3\\lib\\tkinter\\__init__.py\", line 1699, in __call__\n",
      "    return self.func(*args)\n",
      "  File \"<ipython-input-30-763004ba951b>\", line 14, in select\n",
      "    value = listbox.get(listbox.curselection())\n",
      "  File \"J:\\Anaconda3\\lib\\tkinter\\__init__.py\", line 2792, in get\n",
      "    return self.tk.call(self._w, 'get', first)\n",
      "_tkinter.TclError: bad listbox index \"\": must be active, anchor, end, @x,y, or a number\n"
     ]
    }
   ],
   "source": [
    "windows = tk.Tk()\n",
    "windows.title('hello')\n",
    "windows.geometry('200x200')\n",
    "\n",
    "var1 = tk.StringVar()\n",
    "lable = tk.Label(windows, textvariable=var1, bg='yellow', font=('Arial', 15), width=15, height=2)\n",
    "lable.pack()\n",
    "\n",
    "entry = tk.Entry(windows)\n",
    "entry.pack()\n",
    "\n",
    "def select():\n",
    "    # 未考虑光标没有点击的情况\n",
    "    value = listbox.get(listbox.curselection())\n",
    "    var1.set(value)\n",
    "def insert():\n",
    "    value = entry.get()\n",
    "    listbox.insert('end', value)\n",
    "    \n",
    "button1 = tk.Button(windows, text='selection', command=select, width=15, height=2)\n",
    "button1.pack()\n",
    "button2 = tk.Button(windows, text='insert', command=insert, width=15, height=2)\n",
    "button2.pack()\n",
    "\n",
    "var2 = tk.StringVar()\n",
    "var2.set((11,22,3,4,5))\n",
    "listbox = tk.Listbox(windows, listvariable=var2)\n",
    "listbox.insert('end', \"1\")\n",
    "listbox.pack()\n",
    "\n",
    "windows.mainloop()"
   ]
  },
  {
   "cell_type": "markdown",
   "metadata": {},
   "source": [
    "* tk.Radiobutton"
   ]
  },
  {
   "cell_type": "code",
   "execution_count": 42,
   "metadata": {},
   "outputs": [],
   "source": [
    "windows = tk.Tk()\n",
    "windows.title('hello')\n",
    "windows.geometry('200x200')\n",
    "\n",
    "var = tk.StringVar()\n",
    "var.set('heelo')\n",
    "lable = tk.Label(windows, textvariable=var, bg='green', font=('Arial', 15), width=15, height=2)\n",
    "lable.pack()\n",
    "\n",
    "def selection():\n",
    "    pass\n",
    "\n",
    "r1 = tk.Radiobutton(windows, text='A', variable=var, value='A', command=selection)\n",
    "r2 = tk.Radiobutton(windows, text='B', variable=var, value='B', command=selection)\n",
    "r3 = tk.Radiobutton(windows, text='C', variable=var, value='C', command=selection, state='normal')\n",
    "r1.pack()\n",
    "r2.pack()\n",
    "r3.pack()\n",
    "\n",
    "windows.mainloop()"
   ]
  },
  {
   "cell_type": "markdown",
   "metadata": {},
   "source": [
    "### 尺度\n",
    "* tk.Scale()"
   ]
  },
  {
   "cell_type": "code",
   "execution_count": 31,
   "metadata": {
    "collapsed": true
   },
   "outputs": [],
   "source": [
    "windows = tk.Tk()\n",
    "windows.title('hello')\n",
    "windows.geometry('200x200')\n",
    "\n",
    "label = tk.Label(windows, bg='green', font=('Arial', 15), width=15, height=2)\n",
    "label.pack()\n",
    "\n",
    "def print_selection(v):\n",
    "    label.config(text='u select '+ v)\n",
    "\n",
    "scale = tk.Scale(windows, label='scale', from_=5, to=20, orient=tk.HORIZONTAL, length=200, showvalue=True, \n",
    "                 variable=10, tickinterval=3, resolution=0.01, command=print_selection)\n",
    "scale.pack()\n",
    "\n",
    "scale2 = tk.Scale(windows, label='scale', from_=5, to=20, orient=tk.HORIZONTAL, length=200, showvalue=True, \n",
    "                 variable=10, tickinterval=3, resolution=0.01, command=print_selection)\n",
    "scale2.pack()\n",
    "\n",
    "windows.mainloop()"
   ]
  },
  {
   "cell_type": "markdown",
   "metadata": {},
   "source": [
    "### 画布\n",
    "* tk.Canvas()"
   ]
  },
  {
   "cell_type": "code",
   "execution_count": 47,
   "metadata": {
    "collapsed": true
   },
   "outputs": [],
   "source": [
    "windows = tk.Tk()\n",
    "windows.title('hey')\n",
    "windows.geometry(\"200x200\")\n",
    "\n",
    "convas = tk.Canvas(windows, bg='blue', height=100, width=200).pack()\n",
    "image_file = tk.PhotoImage(file='ins.gif')\n",
    "image = canvas.creat_image(10, 10, anchor='nw', image=image_file)\n",
    "def hi():\n",
    "    pass\n",
    "\n",
    "button = tk.Button(windows, text='hi', command=hi).pack()\n",
    "\n",
    "windows.mainloop()\n"
   ]
  },
  {
   "cell_type": "markdown",
   "metadata": {},
   "source": [
    "### 菜单\n",
    "* tk.Menu()"
   ]
  },
  {
   "cell_type": "code",
   "execution_count": null,
   "metadata": {
    "collapsed": true
   },
   "outputs": [],
   "source": []
  },
  {
   "cell_type": "markdown",
   "metadata": {},
   "source": [
    "### 框架\n",
    "* tk.Frame()"
   ]
  },
  {
   "cell_type": "code",
   "execution_count": 9,
   "metadata": {},
   "outputs": [],
   "source": [
    "windows = tk.Tk()\n",
    "windows.title('hey')\n",
    "windows.geometry(\"200x200\")\n",
    "tk.Label(windows, text='1111').pack()\n",
    "\n",
    "frm = tk.Frame(windows)\n",
    "frm.pack()\n",
    "frm_l = tk.Frame(frm)\n",
    "frm_l.pack(side = 'left') # top, bottom, left, or right\n",
    "frm_r = tk.Frame(frm)\n",
    "frm_r.pack(side = 'right')\n",
    "\n",
    "tk.Label(frm_l, text='2222').pack()\n",
    "tk.Label(frm_r, text='3333').pack()\n",
    "\n",
    "windows.mainloop()"
   ]
  },
  {
   "cell_type": "markdown",
   "metadata": {},
   "source": [
    "### 弹窗\n",
    "* tk.messagebox()"
   ]
  },
  {
   "cell_type": "code",
   "execution_count": 18,
   "metadata": {},
   "outputs": [
    {
     "name": "stdout",
     "output_type": "stream",
     "text": [
      "yes\n",
      "no\n"
     ]
    }
   ],
   "source": [
    "windows = tk.Tk()\n",
    "windows.title('hey')\n",
    "windows.geometry(\"200x200\")\n",
    "\n",
    "\n",
    "\n",
    "def hit():\n",
    "    import tkinter.messagebox \n",
    "#     tk.messagebox.showinfo(title='hi', message='hahahha')\n",
    "#     tk.messagebox.showwarning(title='hi', message='nonono')\n",
    "#     tk.messagebox.showerror(title='hi', message='error')\n",
    "    s = tk.messagebox.askquestion(title='hi', message='hahahha') # return yes or no\n",
    "    print(s)\n",
    "#     tk.messagebox.askyesno(title='hi', message='hahahha') # return True or False\n",
    "    \n",
    "    \n",
    "tk.Button(windows, text = 'hit', command=hit).pack()\n",
    "windows.mainloop()\n",
    "\n"
   ]
  },
  {
   "cell_type": "markdown",
   "metadata": {},
   "source": [
    "### 放置位置\n",
    "* pack()\n",
    "* place()\n",
    "* grid()"
   ]
  },
  {
   "cell_type": "code",
   "execution_count": 29,
   "metadata": {},
   "outputs": [],
   "source": [
    "windows = tk.Tk()\n",
    "windows.title('hey')\n",
    "windows.geometry(\"200x200\")\n",
    "\n",
    "# tk.Label(windows, text=1).pack(side='left')\n",
    "# tk.Label(windows, text=2).pack(side='right')\n",
    "# tk.Label(windows, text=3).pack(side='top')\n",
    "# tk.Label(windows, text=4).pack(side='bottom')\n",
    "\n",
    "# for i in range(3):\n",
    "#     for j in range(4):\n",
    "#         tk.Label(windows, text=1).grid(row=i, column=j, padx=5, pady=5, ipadx=10, ipady=10)\n",
    "\n",
    "tk.Label(windows, text=4).place(x=10, y=100, anchor='nw')\n",
    "\n",
    "windows.mainloop()"
   ]
  },
  {
   "cell_type": "code",
   "execution_count": null,
   "metadata": {
    "collapsed": true
   },
   "outputs": [],
   "source": []
  },
  {
   "cell_type": "code",
   "execution_count": 43,
   "metadata": {},
   "outputs": [
    {
     "ename": "TclError",
     "evalue": "bitmap \"1.ico\" not defined",
     "output_type": "error",
     "traceback": [
      "\u001b[1;31m---------------------------------------------------------------------------\u001b[0m",
      "\u001b[1;31mTclError\u001b[0m                                  Traceback (most recent call last)",
      "\u001b[1;32m<ipython-input-43-495e95a23c05>\u001b[0m in \u001b[0;36m<module>\u001b[1;34m()\u001b[0m\n\u001b[0;32m     23\u001b[0m \u001b[0mroot\u001b[0m\u001b[1;33m.\u001b[0m\u001b[0mtitle\u001b[0m\u001b[1;33m(\u001b[0m\u001b[1;34m\"Labelframe测试\"\u001b[0m\u001b[1;33m)\u001b[0m\u001b[1;33m\u001b[0m\u001b[0m\n\u001b[0;32m     24\u001b[0m \u001b[1;31m# 改变窗口图标\u001b[0m\u001b[1;33m\u001b[0m\u001b[1;33m\u001b[0m\u001b[0m\n\u001b[1;32m---> 25\u001b[1;33m \u001b[0mroot\u001b[0m\u001b[1;33m.\u001b[0m\u001b[0miconbitmap\u001b[0m\u001b[1;33m(\u001b[0m\u001b[1;34m'1.ico'\u001b[0m\u001b[1;33m)\u001b[0m\u001b[1;33m\u001b[0m\u001b[0m\n\u001b[0m\u001b[0;32m     26\u001b[0m \u001b[0mApp\u001b[0m\u001b[1;33m(\u001b[0m\u001b[0mroot\u001b[0m\u001b[1;33m)\u001b[0m\u001b[1;33m\u001b[0m\u001b[0m\n\u001b[0;32m     27\u001b[0m \u001b[0mroot\u001b[0m\u001b[1;33m.\u001b[0m\u001b[0mmainloop\u001b[0m\u001b[1;33m(\u001b[0m\u001b[1;33m)\u001b[0m\u001b[1;33m\u001b[0m\u001b[0m\n",
      "\u001b[1;32mJ:\\Anaconda3\\lib\\tkinter\\__init__.py\u001b[0m in \u001b[0;36mwm_iconbitmap\u001b[1;34m(self, bitmap, default)\u001b[0m\n\u001b[0;32m   1863\u001b[0m             \u001b[1;32mreturn\u001b[0m \u001b[0mself\u001b[0m\u001b[1;33m.\u001b[0m\u001b[0mtk\u001b[0m\u001b[1;33m.\u001b[0m\u001b[0mcall\u001b[0m\u001b[1;33m(\u001b[0m\u001b[1;34m'wm'\u001b[0m\u001b[1;33m,\u001b[0m \u001b[1;34m'iconbitmap'\u001b[0m\u001b[1;33m,\u001b[0m \u001b[0mself\u001b[0m\u001b[1;33m.\u001b[0m\u001b[0m_w\u001b[0m\u001b[1;33m,\u001b[0m \u001b[1;34m'-default'\u001b[0m\u001b[1;33m,\u001b[0m \u001b[0mdefault\u001b[0m\u001b[1;33m)\u001b[0m\u001b[1;33m\u001b[0m\u001b[0m\n\u001b[0;32m   1864\u001b[0m         \u001b[1;32melse\u001b[0m\u001b[1;33m:\u001b[0m\u001b[1;33m\u001b[0m\u001b[0m\n\u001b[1;32m-> 1865\u001b[1;33m             \u001b[1;32mreturn\u001b[0m \u001b[0mself\u001b[0m\u001b[1;33m.\u001b[0m\u001b[0mtk\u001b[0m\u001b[1;33m.\u001b[0m\u001b[0mcall\u001b[0m\u001b[1;33m(\u001b[0m\u001b[1;34m'wm'\u001b[0m\u001b[1;33m,\u001b[0m \u001b[1;34m'iconbitmap'\u001b[0m\u001b[1;33m,\u001b[0m \u001b[0mself\u001b[0m\u001b[1;33m.\u001b[0m\u001b[0m_w\u001b[0m\u001b[1;33m,\u001b[0m \u001b[0mbitmap\u001b[0m\u001b[1;33m)\u001b[0m\u001b[1;33m\u001b[0m\u001b[0m\n\u001b[0m\u001b[0;32m   1866\u001b[0m     \u001b[0miconbitmap\u001b[0m \u001b[1;33m=\u001b[0m \u001b[0mwm_iconbitmap\u001b[0m\u001b[1;33m\u001b[0m\u001b[0m\n\u001b[0;32m   1867\u001b[0m     \u001b[1;32mdef\u001b[0m \u001b[0mwm_iconify\u001b[0m\u001b[1;33m(\u001b[0m\u001b[0mself\u001b[0m\u001b[1;33m)\u001b[0m\u001b[1;33m:\u001b[0m\u001b[1;33m\u001b[0m\u001b[0m\n",
      "\u001b[1;31mTclError\u001b[0m: bitmap \"1.ico\" not defined"
     ]
    }
   ],
   "source": [
    "from tkinter import *\n",
    "# 导入ttk\n",
    "from tkinter import ttk\n",
    "class App:\n",
    "    def __init__(self, master):\n",
    "        self.master = master\n",
    "        self.initWidgets()\n",
    "    def initWidgets(self):\n",
    "        # 创建Labelframe容器\n",
    "        lf = ttk.Labelframe(self.master, text='请选择教程',\n",
    "            padding=20)\n",
    "        lf.pack(fill=BOTH, expand=YES, padx=10, pady=10)\n",
    "        books = ['C++', 'Python', 'Linux', 'Java']\n",
    "        i = 0\n",
    "        self.intVar = IntVar()\n",
    "        # 使用循环创建多个Radiobutton，并放入Labelframe中\n",
    "        for book in books:\n",
    "            Radiobutton(lf, text=book + '教程',\n",
    "            value=i,\n",
    "            variable=self.intVar).pack(side=LEFT)\n",
    "            i += 1    \n",
    "root = Tk()\n",
    "root.title(\"Labelframe测试\")\n",
    "# 改变窗口图标\n",
    "root.iconbitmap('1.ico')\n",
    "App(root)\n",
    "root.mainloop()"
   ]
  }
 ],
 "metadata": {
  "kernelspec": {
   "display_name": "Python 3",
   "language": "python",
   "name": "python3"
  },
  "language_info": {
   "codemirror_mode": {
    "name": "ipython",
    "version": 3
   },
   "file_extension": ".py",
   "mimetype": "text/x-python",
   "name": "python",
   "nbconvert_exporter": "python",
   "pygments_lexer": "ipython3",
   "version": "3.6.3"
  }
 },
 "nbformat": 4,
 "nbformat_minor": 2
}
